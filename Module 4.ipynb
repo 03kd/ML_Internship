{
 "cells": [
  {
   "cell_type": "markdown",
   "metadata": {},
   "source": [
    "## 4.1 Import the csv file of the stock which contained the Bollinger columns as well.\n",
    "\n",
    "  ***Create a new column 'Call' , whose entries are -\n",
    "    'Buy' if the stock price is below the lower Bollinger band\n",
    "    'Hold Buy/ Liquidate Short' if the stock price is between the lower and middle Bollinger band\n",
    "    'Hold Short/ Liquidate Buy' if the stock price is between the middle and upper Bollinger band\n",
    "    'Short' if the stock price is above the upper Bollinger band**\n",
    "    \n",
    "    \n",
    "  ***Now train a classification model with the 3 bollinger columns and the stock price as inputs and 'Calls' as output. Check the accuracy on a test set. (There are many classifier models to choose from, try each one out and compare the accuracy for each)***\n",
    "    \n",
    "    \n",
    "   ***Import another stock data and create the bollinger columns. Using the already defined model, predict the daily calls for this new stock.***\n",
    "\n"
   ]
  },
  {
   "cell_type": "code",
   "execution_count": 1,
   "metadata": {},
   "outputs": [],
   "source": [
    "import pandas as pd\n",
    "import numpy as np\n",
    "import matplotlib.pyplot as plt\n",
    "import seaborn\n",
    "%matplotlib inline"
   ]
  },
  {
   "cell_type": "code",
   "execution_count": 2,
   "metadata": {
    "scrolled": false
   },
   "outputs": [
    {
     "data": {
      "text/html": [
       "<div>\n",
       "<style scoped>\n",
       "    .dataframe tbody tr th:only-of-type {\n",
       "        vertical-align: middle;\n",
       "    }\n",
       "\n",
       "    .dataframe tbody tr th {\n",
       "        vertical-align: top;\n",
       "    }\n",
       "\n",
       "    .dataframe thead th {\n",
       "        text-align: right;\n",
       "    }\n",
       "</style>\n",
       "<table border=\"1\" class=\"dataframe\">\n",
       "  <thead>\n",
       "    <tr style=\"text-align: right;\">\n",
       "      <th></th>\n",
       "      <th>Date</th>\n",
       "      <th>Symbol</th>\n",
       "      <th>Series</th>\n",
       "      <th>Prev Close</th>\n",
       "      <th>Open Price</th>\n",
       "      <th>High Price</th>\n",
       "      <th>Low Price</th>\n",
       "      <th>Last Price</th>\n",
       "      <th>Close Price</th>\n",
       "      <th>Average Price</th>\n",
       "      <th>...</th>\n",
       "      <th>Turnover</th>\n",
       "      <th>No. of Trades</th>\n",
       "      <th>Deliverable Qty</th>\n",
       "      <th>% Dly Qt to Traded Qty</th>\n",
       "      <th>Day_Perc_Change</th>\n",
       "      <th>Trend</th>\n",
       "      <th>Rolling_14</th>\n",
       "      <th>Std_14</th>\n",
       "      <th>Upper_band</th>\n",
       "      <th>Lower_band</th>\n",
       "    </tr>\n",
       "  </thead>\n",
       "  <tbody>\n",
       "    <tr>\n",
       "      <th>0</th>\n",
       "      <td>2017-05-16</td>\n",
       "      <td>AXISBANK</td>\n",
       "      <td>EQ</td>\n",
       "      <td>500.1</td>\n",
       "      <td>502.10</td>\n",
       "      <td>504.50</td>\n",
       "      <td>493.50</td>\n",
       "      <td>502.05</td>\n",
       "      <td>501.5</td>\n",
       "      <td>499.85</td>\n",
       "      <td>...</td>\n",
       "      <td>4.303938e+09</td>\n",
       "      <td>101028</td>\n",
       "      <td>4027982</td>\n",
       "      <td>46.78</td>\n",
       "      <td>0.279944</td>\n",
       "      <td>Slight or No change</td>\n",
       "      <td>NaN</td>\n",
       "      <td>NaN</td>\n",
       "      <td>NaN</td>\n",
       "      <td>NaN</td>\n",
       "    </tr>\n",
       "    <tr>\n",
       "      <th>1</th>\n",
       "      <td>2017-05-17</td>\n",
       "      <td>AXISBANK</td>\n",
       "      <td>EQ</td>\n",
       "      <td>501.5</td>\n",
       "      <td>501.35</td>\n",
       "      <td>506.75</td>\n",
       "      <td>498.50</td>\n",
       "      <td>502.00</td>\n",
       "      <td>502.8</td>\n",
       "      <td>502.88</td>\n",
       "      <td>...</td>\n",
       "      <td>3.240154e+09</td>\n",
       "      <td>84189</td>\n",
       "      <td>2876528</td>\n",
       "      <td>44.64</td>\n",
       "      <td>0.259222</td>\n",
       "      <td>Slight or No change</td>\n",
       "      <td>NaN</td>\n",
       "      <td>NaN</td>\n",
       "      <td>NaN</td>\n",
       "      <td>NaN</td>\n",
       "    </tr>\n",
       "    <tr>\n",
       "      <th>2</th>\n",
       "      <td>2017-05-18</td>\n",
       "      <td>AXISBANK</td>\n",
       "      <td>EQ</td>\n",
       "      <td>502.8</td>\n",
       "      <td>498.00</td>\n",
       "      <td>499.10</td>\n",
       "      <td>490.25</td>\n",
       "      <td>492.85</td>\n",
       "      <td>492.0</td>\n",
       "      <td>494.96</td>\n",
       "      <td>...</td>\n",
       "      <td>4.566993e+09</td>\n",
       "      <td>95624</td>\n",
       "      <td>5348691</td>\n",
       "      <td>57.97</td>\n",
       "      <td>-2.147971</td>\n",
       "      <td>Negative</td>\n",
       "      <td>NaN</td>\n",
       "      <td>NaN</td>\n",
       "      <td>NaN</td>\n",
       "      <td>NaN</td>\n",
       "    </tr>\n",
       "    <tr>\n",
       "      <th>3</th>\n",
       "      <td>2017-05-19</td>\n",
       "      <td>AXISBANK</td>\n",
       "      <td>EQ</td>\n",
       "      <td>492.0</td>\n",
       "      <td>495.75</td>\n",
       "      <td>503.85</td>\n",
       "      <td>494.20</td>\n",
       "      <td>501.90</td>\n",
       "      <td>501.7</td>\n",
       "      <td>499.10</td>\n",
       "      <td>...</td>\n",
       "      <td>3.798900e+09</td>\n",
       "      <td>72985</td>\n",
       "      <td>4190505</td>\n",
       "      <td>55.06</td>\n",
       "      <td>1.971545</td>\n",
       "      <td>Positive</td>\n",
       "      <td>NaN</td>\n",
       "      <td>NaN</td>\n",
       "      <td>NaN</td>\n",
       "      <td>NaN</td>\n",
       "    </tr>\n",
       "    <tr>\n",
       "      <th>4</th>\n",
       "      <td>2017-05-22</td>\n",
       "      <td>AXISBANK</td>\n",
       "      <td>EQ</td>\n",
       "      <td>501.7</td>\n",
       "      <td>504.00</td>\n",
       "      <td>507.45</td>\n",
       "      <td>499.50</td>\n",
       "      <td>502.00</td>\n",
       "      <td>502.3</td>\n",
       "      <td>503.00</td>\n",
       "      <td>...</td>\n",
       "      <td>2.500383e+09</td>\n",
       "      <td>62027</td>\n",
       "      <td>2665857</td>\n",
       "      <td>53.63</td>\n",
       "      <td>0.119593</td>\n",
       "      <td>Slight or No change</td>\n",
       "      <td>NaN</td>\n",
       "      <td>NaN</td>\n",
       "      <td>NaN</td>\n",
       "      <td>NaN</td>\n",
       "    </tr>\n",
       "  </tbody>\n",
       "</table>\n",
       "<p>5 rows × 21 columns</p>\n",
       "</div>"
      ],
      "text/plain": [
       "         Date    Symbol Series  Prev Close  Open Price  High Price  Low Price  \\\n",
       "0  2017-05-16  AXISBANK     EQ       500.1      502.10      504.50     493.50   \n",
       "1  2017-05-17  AXISBANK     EQ       501.5      501.35      506.75     498.50   \n",
       "2  2017-05-18  AXISBANK     EQ       502.8      498.00      499.10     490.25   \n",
       "3  2017-05-19  AXISBANK     EQ       492.0      495.75      503.85     494.20   \n",
       "4  2017-05-22  AXISBANK     EQ       501.7      504.00      507.45     499.50   \n",
       "\n",
       "   Last Price  Close Price  Average Price  ...      Turnover  No. of Trades  \\\n",
       "0      502.05        501.5         499.85  ...  4.303938e+09         101028   \n",
       "1      502.00        502.8         502.88  ...  3.240154e+09          84189   \n",
       "2      492.85        492.0         494.96  ...  4.566993e+09          95624   \n",
       "3      501.90        501.7         499.10  ...  3.798900e+09          72985   \n",
       "4      502.00        502.3         503.00  ...  2.500383e+09          62027   \n",
       "\n",
       "   Deliverable Qty  % Dly Qt to Traded Qty  Day_Perc_Change  \\\n",
       "0          4027982                   46.78         0.279944   \n",
       "1          2876528                   44.64         0.259222   \n",
       "2          5348691                   57.97        -2.147971   \n",
       "3          4190505                   55.06         1.971545   \n",
       "4          2665857                   53.63         0.119593   \n",
       "\n",
       "                 Trend Rolling_14  Std_14  Upper_band  Lower_band  \n",
       "0  Slight or No change        NaN     NaN         NaN         NaN  \n",
       "1  Slight or No change        NaN     NaN         NaN         NaN  \n",
       "2             Negative        NaN     NaN         NaN         NaN  \n",
       "3             Positive        NaN     NaN         NaN         NaN  \n",
       "4  Slight or No change        NaN     NaN         NaN         NaN  \n",
       "\n",
       "[5 rows x 21 columns]"
      ]
     },
     "execution_count": 2,
     "metadata": {},
     "output_type": "execute_result"
    }
   ],
   "source": [
    "df = pd.read_csv('week3.csv')\n",
    "#df.shape\n",
    "df.head()"
   ]
  },
  {
   "cell_type": "code",
   "execution_count": 3,
   "metadata": {
    "scrolled": true
   },
   "outputs": [
    {
     "data": {
      "text/html": [
       "<div>\n",
       "<style scoped>\n",
       "    .dataframe tbody tr th:only-of-type {\n",
       "        vertical-align: middle;\n",
       "    }\n",
       "\n",
       "    .dataframe tbody tr th {\n",
       "        vertical-align: top;\n",
       "    }\n",
       "\n",
       "    .dataframe thead th {\n",
       "        text-align: right;\n",
       "    }\n",
       "</style>\n",
       "<table border=\"1\" class=\"dataframe\">\n",
       "  <thead>\n",
       "    <tr style=\"text-align: right;\">\n",
       "      <th></th>\n",
       "      <th>Date</th>\n",
       "      <th>Symbol</th>\n",
       "      <th>Series</th>\n",
       "      <th>Prev Close</th>\n",
       "      <th>Open Price</th>\n",
       "      <th>High Price</th>\n",
       "      <th>Low Price</th>\n",
       "      <th>Last Price</th>\n",
       "      <th>Close Price</th>\n",
       "      <th>Average Price</th>\n",
       "      <th>...</th>\n",
       "      <th>Turnover</th>\n",
       "      <th>No. of Trades</th>\n",
       "      <th>Deliverable Qty</th>\n",
       "      <th>% Dly Qt to Traded Qty</th>\n",
       "      <th>Day_Perc_Change</th>\n",
       "      <th>Trend</th>\n",
       "      <th>Middle_band</th>\n",
       "      <th>Std_14</th>\n",
       "      <th>Upper_band</th>\n",
       "      <th>Lower_band</th>\n",
       "    </tr>\n",
       "  </thead>\n",
       "  <tbody>\n",
       "    <tr>\n",
       "      <th>0</th>\n",
       "      <td>2017-05-16</td>\n",
       "      <td>AXISBANK</td>\n",
       "      <td>EQ</td>\n",
       "      <td>500.10</td>\n",
       "      <td>502.10</td>\n",
       "      <td>504.50</td>\n",
       "      <td>493.50</td>\n",
       "      <td>502.05</td>\n",
       "      <td>501.50</td>\n",
       "      <td>499.85</td>\n",
       "      <td>...</td>\n",
       "      <td>4.303938e+09</td>\n",
       "      <td>101028</td>\n",
       "      <td>4027982</td>\n",
       "      <td>46.78</td>\n",
       "      <td>0.279944</td>\n",
       "      <td>Slight or No change</td>\n",
       "      <td>NaN</td>\n",
       "      <td>NaN</td>\n",
       "      <td>NaN</td>\n",
       "      <td>NaN</td>\n",
       "    </tr>\n",
       "    <tr>\n",
       "      <th>1</th>\n",
       "      <td>2017-05-17</td>\n",
       "      <td>AXISBANK</td>\n",
       "      <td>EQ</td>\n",
       "      <td>501.50</td>\n",
       "      <td>501.35</td>\n",
       "      <td>506.75</td>\n",
       "      <td>498.50</td>\n",
       "      <td>502.00</td>\n",
       "      <td>502.80</td>\n",
       "      <td>502.88</td>\n",
       "      <td>...</td>\n",
       "      <td>3.240154e+09</td>\n",
       "      <td>84189</td>\n",
       "      <td>2876528</td>\n",
       "      <td>44.64</td>\n",
       "      <td>0.259222</td>\n",
       "      <td>Slight or No change</td>\n",
       "      <td>NaN</td>\n",
       "      <td>NaN</td>\n",
       "      <td>NaN</td>\n",
       "      <td>NaN</td>\n",
       "    </tr>\n",
       "    <tr>\n",
       "      <th>2</th>\n",
       "      <td>2017-05-18</td>\n",
       "      <td>AXISBANK</td>\n",
       "      <td>EQ</td>\n",
       "      <td>502.80</td>\n",
       "      <td>498.00</td>\n",
       "      <td>499.10</td>\n",
       "      <td>490.25</td>\n",
       "      <td>492.85</td>\n",
       "      <td>492.00</td>\n",
       "      <td>494.96</td>\n",
       "      <td>...</td>\n",
       "      <td>4.566993e+09</td>\n",
       "      <td>95624</td>\n",
       "      <td>5348691</td>\n",
       "      <td>57.97</td>\n",
       "      <td>-2.147971</td>\n",
       "      <td>Negative</td>\n",
       "      <td>NaN</td>\n",
       "      <td>NaN</td>\n",
       "      <td>NaN</td>\n",
       "      <td>NaN</td>\n",
       "    </tr>\n",
       "    <tr>\n",
       "      <th>3</th>\n",
       "      <td>2017-05-19</td>\n",
       "      <td>AXISBANK</td>\n",
       "      <td>EQ</td>\n",
       "      <td>492.00</td>\n",
       "      <td>495.75</td>\n",
       "      <td>503.85</td>\n",
       "      <td>494.20</td>\n",
       "      <td>501.90</td>\n",
       "      <td>501.70</td>\n",
       "      <td>499.10</td>\n",
       "      <td>...</td>\n",
       "      <td>3.798900e+09</td>\n",
       "      <td>72985</td>\n",
       "      <td>4190505</td>\n",
       "      <td>55.06</td>\n",
       "      <td>1.971545</td>\n",
       "      <td>Positive</td>\n",
       "      <td>NaN</td>\n",
       "      <td>NaN</td>\n",
       "      <td>NaN</td>\n",
       "      <td>NaN</td>\n",
       "    </tr>\n",
       "    <tr>\n",
       "      <th>4</th>\n",
       "      <td>2017-05-22</td>\n",
       "      <td>AXISBANK</td>\n",
       "      <td>EQ</td>\n",
       "      <td>501.70</td>\n",
       "      <td>504.00</td>\n",
       "      <td>507.45</td>\n",
       "      <td>499.50</td>\n",
       "      <td>502.00</td>\n",
       "      <td>502.30</td>\n",
       "      <td>503.00</td>\n",
       "      <td>...</td>\n",
       "      <td>2.500383e+09</td>\n",
       "      <td>62027</td>\n",
       "      <td>2665857</td>\n",
       "      <td>53.63</td>\n",
       "      <td>0.119593</td>\n",
       "      <td>Slight or No change</td>\n",
       "      <td>NaN</td>\n",
       "      <td>NaN</td>\n",
       "      <td>NaN</td>\n",
       "      <td>NaN</td>\n",
       "    </tr>\n",
       "    <tr>\n",
       "      <th>...</th>\n",
       "      <td>...</td>\n",
       "      <td>...</td>\n",
       "      <td>...</td>\n",
       "      <td>...</td>\n",
       "      <td>...</td>\n",
       "      <td>...</td>\n",
       "      <td>...</td>\n",
       "      <td>...</td>\n",
       "      <td>...</td>\n",
       "      <td>...</td>\n",
       "      <td>...</td>\n",
       "      <td>...</td>\n",
       "      <td>...</td>\n",
       "      <td>...</td>\n",
       "      <td>...</td>\n",
       "      <td>...</td>\n",
       "      <td>...</td>\n",
       "      <td>...</td>\n",
       "      <td>...</td>\n",
       "      <td>...</td>\n",
       "      <td>...</td>\n",
       "    </tr>\n",
       "    <tr>\n",
       "      <th>488</th>\n",
       "      <td>2019-05-07</td>\n",
       "      <td>AXISBANK</td>\n",
       "      <td>EQ</td>\n",
       "      <td>747.45</td>\n",
       "      <td>751.85</td>\n",
       "      <td>755.50</td>\n",
       "      <td>740.00</td>\n",
       "      <td>744.85</td>\n",
       "      <td>741.85</td>\n",
       "      <td>748.48</td>\n",
       "      <td>...</td>\n",
       "      <td>3.796226e+09</td>\n",
       "      <td>141094</td>\n",
       "      <td>2404026</td>\n",
       "      <td>47.40</td>\n",
       "      <td>-0.749214</td>\n",
       "      <td>Slight negative</td>\n",
       "      <td>756.978571</td>\n",
       "      <td>9.724290</td>\n",
       "      <td>776.427151</td>\n",
       "      <td>737.529992</td>\n",
       "    </tr>\n",
       "    <tr>\n",
       "      <th>489</th>\n",
       "      <td>2019-05-08</td>\n",
       "      <td>AXISBANK</td>\n",
       "      <td>EQ</td>\n",
       "      <td>741.85</td>\n",
       "      <td>741.90</td>\n",
       "      <td>744.75</td>\n",
       "      <td>733.35</td>\n",
       "      <td>735.10</td>\n",
       "      <td>735.50</td>\n",
       "      <td>737.58</td>\n",
       "      <td>...</td>\n",
       "      <td>4.971211e+09</td>\n",
       "      <td>118950</td>\n",
       "      <td>3373685</td>\n",
       "      <td>50.06</td>\n",
       "      <td>-0.855968</td>\n",
       "      <td>Slight negative</td>\n",
       "      <td>754.917857</td>\n",
       "      <td>11.013429</td>\n",
       "      <td>776.944715</td>\n",
       "      <td>732.890999</td>\n",
       "    </tr>\n",
       "    <tr>\n",
       "      <th>490</th>\n",
       "      <td>2019-05-09</td>\n",
       "      <td>AXISBANK</td>\n",
       "      <td>EQ</td>\n",
       "      <td>735.50</td>\n",
       "      <td>733.90</td>\n",
       "      <td>740.50</td>\n",
       "      <td>729.40</td>\n",
       "      <td>732.35</td>\n",
       "      <td>731.00</td>\n",
       "      <td>734.60</td>\n",
       "      <td>...</td>\n",
       "      <td>3.080497e+09</td>\n",
       "      <td>75621</td>\n",
       "      <td>1409191</td>\n",
       "      <td>33.60</td>\n",
       "      <td>-0.611829</td>\n",
       "      <td>Slight negative</td>\n",
       "      <td>752.642857</td>\n",
       "      <td>12.445355</td>\n",
       "      <td>777.533568</td>\n",
       "      <td>727.752147</td>\n",
       "    </tr>\n",
       "    <tr>\n",
       "      <th>491</th>\n",
       "      <td>2019-05-10</td>\n",
       "      <td>AXISBANK</td>\n",
       "      <td>EQ</td>\n",
       "      <td>731.00</td>\n",
       "      <td>734.40</td>\n",
       "      <td>738.50</td>\n",
       "      <td>729.50</td>\n",
       "      <td>732.55</td>\n",
       "      <td>735.05</td>\n",
       "      <td>735.71</td>\n",
       "      <td>...</td>\n",
       "      <td>2.879428e+09</td>\n",
       "      <td>114875</td>\n",
       "      <td>1569735</td>\n",
       "      <td>40.11</td>\n",
       "      <td>0.554036</td>\n",
       "      <td>Slight positive</td>\n",
       "      <td>750.067857</td>\n",
       "      <td>12.056097</td>\n",
       "      <td>774.180050</td>\n",
       "      <td>725.955664</td>\n",
       "    </tr>\n",
       "    <tr>\n",
       "      <th>492</th>\n",
       "      <td>2019-05-13</td>\n",
       "      <td>AXISBANK</td>\n",
       "      <td>EQ</td>\n",
       "      <td>735.05</td>\n",
       "      <td>734.00</td>\n",
       "      <td>742.85</td>\n",
       "      <td>730.00</td>\n",
       "      <td>732.00</td>\n",
       "      <td>732.10</td>\n",
       "      <td>736.74</td>\n",
       "      <td>...</td>\n",
       "      <td>4.340174e+09</td>\n",
       "      <td>142075</td>\n",
       "      <td>2615724</td>\n",
       "      <td>44.40</td>\n",
       "      <td>-0.401333</td>\n",
       "      <td>Slight or No change</td>\n",
       "      <td>747.275000</td>\n",
       "      <td>11.288588</td>\n",
       "      <td>769.852175</td>\n",
       "      <td>724.697825</td>\n",
       "    </tr>\n",
       "  </tbody>\n",
       "</table>\n",
       "<p>493 rows × 21 columns</p>\n",
       "</div>"
      ],
      "text/plain": [
       "           Date    Symbol Series  Prev Close  Open Price  High Price  \\\n",
       "0    2017-05-16  AXISBANK     EQ      500.10      502.10      504.50   \n",
       "1    2017-05-17  AXISBANK     EQ      501.50      501.35      506.75   \n",
       "2    2017-05-18  AXISBANK     EQ      502.80      498.00      499.10   \n",
       "3    2017-05-19  AXISBANK     EQ      492.00      495.75      503.85   \n",
       "4    2017-05-22  AXISBANK     EQ      501.70      504.00      507.45   \n",
       "..          ...       ...    ...         ...         ...         ...   \n",
       "488  2019-05-07  AXISBANK     EQ      747.45      751.85      755.50   \n",
       "489  2019-05-08  AXISBANK     EQ      741.85      741.90      744.75   \n",
       "490  2019-05-09  AXISBANK     EQ      735.50      733.90      740.50   \n",
       "491  2019-05-10  AXISBANK     EQ      731.00      734.40      738.50   \n",
       "492  2019-05-13  AXISBANK     EQ      735.05      734.00      742.85   \n",
       "\n",
       "     Low Price  Last Price  Close Price  Average Price  ...      Turnover  \\\n",
       "0       493.50      502.05       501.50         499.85  ...  4.303938e+09   \n",
       "1       498.50      502.00       502.80         502.88  ...  3.240154e+09   \n",
       "2       490.25      492.85       492.00         494.96  ...  4.566993e+09   \n",
       "3       494.20      501.90       501.70         499.10  ...  3.798900e+09   \n",
       "4       499.50      502.00       502.30         503.00  ...  2.500383e+09   \n",
       "..         ...         ...          ...            ...  ...           ...   \n",
       "488     740.00      744.85       741.85         748.48  ...  3.796226e+09   \n",
       "489     733.35      735.10       735.50         737.58  ...  4.971211e+09   \n",
       "490     729.40      732.35       731.00         734.60  ...  3.080497e+09   \n",
       "491     729.50      732.55       735.05         735.71  ...  2.879428e+09   \n",
       "492     730.00      732.00       732.10         736.74  ...  4.340174e+09   \n",
       "\n",
       "     No. of Trades  Deliverable Qty  % Dly Qt to Traded Qty  Day_Perc_Change  \\\n",
       "0           101028          4027982                   46.78         0.279944   \n",
       "1            84189          2876528                   44.64         0.259222   \n",
       "2            95624          5348691                   57.97        -2.147971   \n",
       "3            72985          4190505                   55.06         1.971545   \n",
       "4            62027          2665857                   53.63         0.119593   \n",
       "..             ...              ...                     ...              ...   \n",
       "488         141094          2404026                   47.40        -0.749214   \n",
       "489         118950          3373685                   50.06        -0.855968   \n",
       "490          75621          1409191                   33.60        -0.611829   \n",
       "491         114875          1569735                   40.11         0.554036   \n",
       "492         142075          2615724                   44.40        -0.401333   \n",
       "\n",
       "                   Trend Middle_band     Std_14  Upper_band  Lower_band  \n",
       "0    Slight or No change         NaN        NaN         NaN         NaN  \n",
       "1    Slight or No change         NaN        NaN         NaN         NaN  \n",
       "2               Negative         NaN        NaN         NaN         NaN  \n",
       "3               Positive         NaN        NaN         NaN         NaN  \n",
       "4    Slight or No change         NaN        NaN         NaN         NaN  \n",
       "..                   ...         ...        ...         ...         ...  \n",
       "488      Slight negative  756.978571   9.724290  776.427151  737.529992  \n",
       "489      Slight negative  754.917857  11.013429  776.944715  732.890999  \n",
       "490      Slight negative  752.642857  12.445355  777.533568  727.752147  \n",
       "491      Slight positive  750.067857  12.056097  774.180050  725.955664  \n",
       "492  Slight or No change  747.275000  11.288588  769.852175  724.697825  \n",
       "\n",
       "[493 rows x 21 columns]"
      ]
     },
     "execution_count": 3,
     "metadata": {},
     "output_type": "execute_result"
    }
   ],
   "source": [
    "df.rename(columns ={'Rolling_14':'Middle_band'}, inplace =True)\n",
    "df"
   ]
  },
  {
   "cell_type": "code",
   "execution_count": 4,
   "metadata": {},
   "outputs": [],
   "source": [
    "def call_value(stock_price, upper_band, middle_band, lower_band):\n",
    "    \n",
    "    if stock_price < lower_band:\n",
    "        return 'Buy'\n",
    "    elif stock_price >= lower_band and stock_price < middle_band:\n",
    "        return 'Hold Buy/ Liquidate short'\n",
    "    elif stock_price >= middle_band and stock_price < upper_band:\n",
    "        return 'Hold Short/ Liquidate Buy'\n",
    "    elif stock_price >= upper_band:\n",
    "        return 'Short'"
   ]
  },
  {
   "cell_type": "code",
   "execution_count": 5,
   "metadata": {
    "scrolled": true
   },
   "outputs": [],
   "source": [
    "df['Call'] = df.apply(lambda row: call_value(row['Close Price'], row['Upper_band'], row['Middle_band'], row['Lower_band']), axis =1)"
   ]
  },
  {
   "cell_type": "code",
   "execution_count": 6,
   "metadata": {
    "scrolled": true
   },
   "outputs": [
    {
     "data": {
      "text/plain": [
       "count                           480\n",
       "unique                            4\n",
       "top       Hold Short/ Liquidate Buy\n",
       "freq                            240\n",
       "Name: Call, dtype: object"
      ]
     },
     "execution_count": 6,
     "metadata": {},
     "output_type": "execute_result"
    }
   ],
   "source": [
    "df['Call'].describe()"
   ]
  },
  {
   "cell_type": "code",
   "execution_count": 7,
   "metadata": {},
   "outputs": [],
   "source": [
    "from sklearn.naive_bayes import GaussianNB\n",
    "from sklearn.model_selection import train_test_split\n",
    "from sklearn.metrics import confusion_matrix"
   ]
  },
  {
   "cell_type": "code",
   "execution_count": 8,
   "metadata": {},
   "outputs": [],
   "source": [
    "X = df[['Middle_band', 'Upper_band', 'Lower_band', 'Close Price']].values[13:]"
   ]
  },
  {
   "cell_type": "code",
   "execution_count": 9,
   "metadata": {
    "scrolled": true
   },
   "outputs": [],
   "source": [
    "y = df.Call.values[13:]"
   ]
  },
  {
   "cell_type": "code",
   "execution_count": 10,
   "metadata": {},
   "outputs": [],
   "source": [
    "X_train, X_test, y_train, y_test = train_test_split(X, y, random_state =0)"
   ]
  },
  {
   "cell_type": "code",
   "execution_count": 11,
   "metadata": {},
   "outputs": [],
   "source": [
    "nb_classifier = GaussianNB()"
   ]
  },
  {
   "cell_type": "code",
   "execution_count": 12,
   "metadata": {},
   "outputs": [
    {
     "data": {
      "text/plain": [
       "GaussianNB(priors=None, var_smoothing=1e-09)"
      ]
     },
     "execution_count": 12,
     "metadata": {},
     "output_type": "execute_result"
    }
   ],
   "source": [
    "nb_classifier.fit(X_train, y_train)"
   ]
  },
  {
   "cell_type": "code",
   "execution_count": 13,
   "metadata": {},
   "outputs": [
    {
     "name": "stdout",
     "output_type": "stream",
     "text": [
      "Accuracy Details-------\n",
      "Accuracy of classifier on training data : 0.47\n",
      "Accuracy of classifier on test data : 0.58\n"
     ]
    }
   ],
   "source": [
    "print(\"Accuracy Details-------\")\n",
    "print('Accuracy of classifier on training data : {:.2f}'.format(nb_classifier.score(X_train, y_train)))\n",
    "print('Accuracy of classifier on test data : {:.2f}'.format(nb_classifier.score(X_test, y_test)))"
   ]
  },
  {
   "cell_type": "markdown",
   "metadata": {},
   "source": [
    "### 1. *Decision Tree Classifier*"
   ]
  },
  {
   "cell_type": "code",
   "execution_count": 14,
   "metadata": {},
   "outputs": [],
   "source": [
    "from sklearn.tree import DecisionTreeClassifier\n",
    "from sklearn.model_selection import train_test_split\n",
    "from sklearn.metrics import accuracy_score\n",
    "from sklearn.preprocessing import LabelEncoder, StandardScaler\n",
    "from sklearn.model_selection import cross_val_score\n",
    "from sklearn.metrics import confusion_matrix"
   ]
  },
  {
   "cell_type": "code",
   "execution_count": 15,
   "metadata": {},
   "outputs": [],
   "source": [
    "X = df[['Middle_band', 'Upper_band', 'Lower_band', 'Close Price']].values[13:]"
   ]
  },
  {
   "cell_type": "code",
   "execution_count": 16,
   "metadata": {},
   "outputs": [],
   "source": [
    "y =  df.Call.values[13:]"
   ]
  },
  {
   "cell_type": "code",
   "execution_count": 17,
   "metadata": {},
   "outputs": [],
   "source": [
    "label = LabelEncoder()\n",
    "y = label.fit_transform(y)"
   ]
  },
  {
   "cell_type": "code",
   "execution_count": 18,
   "metadata": {},
   "outputs": [],
   "source": [
    "X_train, X_test, y_train, y_test = train_test_split(X, y, test_size =0.2, shuffle =True, random_state =25)"
   ]
  },
  {
   "cell_type": "code",
   "execution_count": 19,
   "metadata": {},
   "outputs": [],
   "source": [
    "clf_dtree = DecisionTreeClassifier(criterion =\"gini\", max_depth=5)"
   ]
  },
  {
   "cell_type": "code",
   "execution_count": 20,
   "metadata": {},
   "outputs": [
    {
     "data": {
      "text/plain": [
       "DecisionTreeClassifier(ccp_alpha=0.0, class_weight=None, criterion='gini',\n",
       "                       max_depth=5, max_features=None, max_leaf_nodes=None,\n",
       "                       min_impurity_decrease=0.0, min_impurity_split=None,\n",
       "                       min_samples_leaf=1, min_samples_split=2,\n",
       "                       min_weight_fraction_leaf=0.0, presort='deprecated',\n",
       "                       random_state=None, splitter='best')"
      ]
     },
     "execution_count": 20,
     "metadata": {},
     "output_type": "execute_result"
    }
   ],
   "source": [
    "clf_dtree.fit(X_train, y_train)"
   ]
  },
  {
   "cell_type": "code",
   "execution_count": 21,
   "metadata": {
    "scrolled": true
   },
   "outputs": [
    {
     "data": {
      "text/plain": [
       "array([2, 1, 2, 1, 2, 2, 1, 1, 1, 3, 1, 2, 2, 1, 1, 1, 2, 2, 1, 1, 1, 1,\n",
       "       2, 1, 2, 2, 1, 1, 1, 2, 2, 2, 2, 2, 1, 2, 1, 1, 2, 2, 1, 1, 1, 2,\n",
       "       2, 2, 2, 2, 1, 1, 2, 1, 2, 1, 2, 1, 1, 1, 2, 2, 1, 2, 2, 1, 2, 1,\n",
       "       2, 2, 2, 2, 1, 1, 2, 1, 2, 2, 2, 2, 1, 2, 1, 2, 2, 2, 1, 1, 2, 1,\n",
       "       2, 2, 1, 2, 2, 2, 2, 2])"
      ]
     },
     "execution_count": 21,
     "metadata": {},
     "output_type": "execute_result"
    }
   ],
   "source": [
    "y_pred = clf_dtree.predict(X_test)\n",
    "y_pred"
   ]
  },
  {
   "cell_type": "code",
   "execution_count": 22,
   "metadata": {},
   "outputs": [
    {
     "name": "stdout",
     "output_type": "stream",
     "text": [
      "Accuracy  69.79166666666666\n"
     ]
    }
   ],
   "source": [
    "print(\"Accuracy \", accuracy_score(y_test, y_pred)*100)\n"
   ]
  },
  {
   "cell_type": "code",
   "execution_count": 23,
   "metadata": {},
   "outputs": [],
   "source": [
    "cm = confusion_matrix(y_test, y_pred)"
   ]
  },
  {
   "cell_type": "code",
   "execution_count": 24,
   "metadata": {},
   "outputs": [
    {
     "data": {
      "text/plain": [
       "Text(189.2400000000001, 0.5, 'Actual')"
      ]
     },
     "execution_count": 24,
     "metadata": {},
     "output_type": "execute_result"
    },
    {
     "data": {
      "image/png": "[encoded data removed]",
      "text/plain": [
       "<Figure size 720x432 with 2 Axes>"
      ]
     },
     "metadata": {
      "needs_background": "light"
     },
     "output_type": "display_data"
    }
   ],
   "source": [
    "plt.figure(figsize=(10,6))\n",
    "seaborn.heatmap(cm, annot =True, cmap =\"BuPu\", square =True)\n",
    "plt.xlabel(\"Predicted\")\n",
    "plt.ylabel(\"Actual\")"
   ]
  },
  {
   "cell_type": "markdown",
   "metadata": {},
   "source": [
    "##### **Cross validating to get the general performance**"
   ]
  },
  {
   "cell_type": "code",
   "execution_count": 25,
   "metadata": {},
   "outputs": [],
   "source": [
    "cv_score = cross_val_score(clf_dtree, X_train, y= y_train, cv=4, n_jobs= -1)"
   ]
  },
  {
   "cell_type": "code",
   "execution_count": 26,
   "metadata": {},
   "outputs": [
    {
     "data": {
      "text/plain": [
       "0.7447916666666666"
      ]
     },
     "execution_count": 26,
     "metadata": {},
     "output_type": "execute_result"
    }
   ],
   "source": [
    "cv_score.mean()"
   ]
  },
  {
   "cell_type": "markdown",
   "metadata": {},
   "source": [
    "### 2. *SGD Classifier*"
   ]
  },
  {
   "cell_type": "code",
   "execution_count": 27,
   "metadata": {},
   "outputs": [],
   "source": [
    "sc = StandardScaler()"
   ]
  },
  {
   "cell_type": "code",
   "execution_count": 28,
   "metadata": {},
   "outputs": [],
   "source": [
    "X = sc.fit_transform(X)"
   ]
  },
  {
   "cell_type": "code",
   "execution_count": 29,
   "metadata": {},
   "outputs": [],
   "source": [
    "X_train, X_test, y_train, y_test = train_test_split(X, y, test_size =0.2,shuffle= True)"
   ]
  },
  {
   "cell_type": "code",
   "execution_count": 30,
   "metadata": {},
   "outputs": [],
   "source": [
    "from sklearn.linear_model import SGDClassifier\n",
    "sgd_classie = SGDClassifier(loss =\"hinge\", penalty =\"l2\")"
   ]
  },
  {
   "cell_type": "code",
   "execution_count": 31,
   "metadata": {},
   "outputs": [
    {
     "data": {
      "text/plain": [
       "SGDClassifier(alpha=0.0001, average=False, class_weight=None,\n",
       "              early_stopping=False, epsilon=0.1, eta0=0.0, fit_intercept=True,\n",
       "              l1_ratio=0.15, learning_rate='optimal', loss='hinge',\n",
       "              max_iter=1000, n_iter_no_change=5, n_jobs=None, penalty='l2',\n",
       "              power_t=0.5, random_state=None, shuffle=True, tol=0.001,\n",
       "              validation_fraction=0.1, verbose=0, warm_start=False)"
      ]
     },
     "execution_count": 31,
     "metadata": {},
     "output_type": "execute_result"
    }
   ],
   "source": [
    "sgd_classie.fit(X_train, y_train)"
   ]
  },
  {
   "cell_type": "code",
   "execution_count": 32,
   "metadata": {},
   "outputs": [
    {
     "data": {
      "text/plain": [
       "0.7395833333333334"
      ]
     },
     "execution_count": 32,
     "metadata": {},
     "output_type": "execute_result"
    }
   ],
   "source": [
    "sgd_classie.score(X_test, y_test)"
   ]
  },
  {
   "cell_type": "code",
   "execution_count": 33,
   "metadata": {},
   "outputs": [],
   "source": [
    "cv_score = cross_val_score(sgd_classie, X_train, y_train, cv =10, n_jobs = -1)"
   ]
  },
  {
   "cell_type": "code",
   "execution_count": 34,
   "metadata": {},
   "outputs": [
    {
     "data": {
      "text/plain": [
       "0.7939271255060728"
      ]
     },
     "execution_count": 34,
     "metadata": {},
     "output_type": "execute_result"
    }
   ],
   "source": [
    "cv_score.mean()"
   ]
  },
  {
   "cell_type": "markdown",
   "metadata": {},
   "source": [
    "### 3. *KNN Classifier*"
   ]
  },
  {
   "cell_type": "code",
   "execution_count": 35,
   "metadata": {},
   "outputs": [],
   "source": [
    "from mlxtend.plotting import plot_decision_regions\n",
    "from sklearn.neighbors import KNeighborsClassifier"
   ]
  },
  {
   "cell_type": "code",
   "execution_count": 36,
   "metadata": {
    "scrolled": true
   },
   "outputs": [],
   "source": [
    "X_train, X_test, y_train, y_test = train_test_split(X, y, test_size =0.3, random_state = 2)"
   ]
  },
  {
   "cell_type": "code",
   "execution_count": 37,
   "metadata": {},
   "outputs": [
    {
     "data": {
      "text/plain": [
       "(480,)"
      ]
     },
     "execution_count": 37,
     "metadata": {},
     "output_type": "execute_result"
    }
   ],
   "source": [
    "y.shape"
   ]
  },
  {
   "cell_type": "code",
   "execution_count": 38,
   "metadata": {},
   "outputs": [],
   "source": [
    "knn_classie = KNeighborsClassifier(n_neighbors = 5, n_jobs =-1)"
   ]
  },
  {
   "cell_type": "code",
   "execution_count": 39,
   "metadata": {},
   "outputs": [
    {
     "data": {
      "text/plain": [
       "KNeighborsClassifier(algorithm='auto', leaf_size=30, metric='minkowski',\n",
       "                     metric_params=None, n_jobs=-1, n_neighbors=5, p=2,\n",
       "                     weights='uniform')"
      ]
     },
     "execution_count": 39,
     "metadata": {},
     "output_type": "execute_result"
    }
   ],
   "source": [
    "knn_classie.fit(X_train, y_train)"
   ]
  },
  {
   "cell_type": "code",
   "execution_count": 40,
   "metadata": {},
   "outputs": [
    {
     "data": {
      "text/plain": [
       "array([2, 2, 2, 1, 1, 2, 1, 2, 2, 2])"
      ]
     },
     "execution_count": 40,
     "metadata": {},
     "output_type": "execute_result"
    }
   ],
   "source": [
    "y_pred_knn = knn_classie.predict(X_test)\n",
    "y_pred_knn[:10]"
   ]
  },
  {
   "cell_type": "code",
   "execution_count": 41,
   "metadata": {},
   "outputs": [
    {
     "data": {
      "text/plain": [
       "0.8541666666666666"
      ]
     },
     "execution_count": 41,
     "metadata": {},
     "output_type": "execute_result"
    }
   ],
   "source": [
    "accuracy_knn = accuracy_score(y_test, y_pred_knn)\n",
    "accuracy_knn"
   ]
  },
  {
   "cell_type": "code",
   "execution_count": 42,
   "metadata": {},
   "outputs": [
    {
     "data": {
      "image/png": "[encoded data removed]",
      "text/plain": [
       "<Figure size 432x288 with 1 Axes>"
      ]
     },
     "metadata": {
      "needs_background": "light"
     },
     "output_type": "display_data"
    }
   ],
   "source": [
    "value = 1.5\n",
    "width = 0.75\n",
    "\n",
    "fig, ax = plt.subplots()\n",
    "plot_decision_regions(X, y, clf = knn_classie, filler_feature_values = {2:value, 3:value},\n",
    "                     filler_feature_ranges ={2:width, 3:width}, res =0.02, legend =2, ax = ax)\n",
    "plt.show()"
   ]
  },
  {
   "cell_type": "markdown",
   "metadata": {},
   "source": [
    "### 4. *Support Vector Classifier*"
   ]
  },
  {
   "cell_type": "code",
   "execution_count": 43,
   "metadata": {},
   "outputs": [],
   "source": [
    "from sklearn.svm import SVC"
   ]
  },
  {
   "cell_type": "code",
   "execution_count": 44,
   "metadata": {},
   "outputs": [],
   "source": [
    "svm_classie = SVC(gamma ='auto')"
   ]
  },
  {
   "cell_type": "code",
   "execution_count": 45,
   "metadata": {},
   "outputs": [
    {
     "data": {
      "text/plain": [
       "SVC(C=1.0, break_ties=False, cache_size=200, class_weight=None, coef0=0.0,\n",
       "    decision_function_shape='ovr', degree=3, gamma='auto', kernel='rbf',\n",
       "    max_iter=-1, probability=False, random_state=None, shrinking=True,\n",
       "    tol=0.001, verbose=False)"
      ]
     },
     "execution_count": 45,
     "metadata": {},
     "output_type": "execute_result"
    }
   ],
   "source": [
    "svm_classie.fit(X_train, y_train)"
   ]
  },
  {
   "cell_type": "code",
   "execution_count": 46,
   "metadata": {},
   "outputs": [],
   "source": [
    "y_pred_svm = svm_classie.predict(X_test)"
   ]
  },
  {
   "cell_type": "code",
   "execution_count": 47,
   "metadata": {},
   "outputs": [
    {
     "data": {
      "text/plain": [
       "0.8194444444444444"
      ]
     },
     "execution_count": 47,
     "metadata": {},
     "output_type": "execute_result"
    }
   ],
   "source": [
    "acc_svm = accuracy_score(y_test, y_pred_svm)\n",
    "acc_svm"
   ]
  },
  {
   "cell_type": "markdown",
   "metadata": {},
   "source": [
    "### 5. *Ridge Classifier*"
   ]
  },
  {
   "cell_type": "code",
   "execution_count": 48,
   "metadata": {},
   "outputs": [],
   "source": [
    "from sklearn.linear_model import RidgeClassifier"
   ]
  },
  {
   "cell_type": "code",
   "execution_count": 49,
   "metadata": {},
   "outputs": [],
   "source": [
    "X_train, X_test, y_train, y_test = train_test_split(X, y, test_size =0.3, random_state = 0)"
   ]
  },
  {
   "cell_type": "code",
   "execution_count": 50,
   "metadata": {},
   "outputs": [],
   "source": [
    "rid_classie = RidgeClassifier()"
   ]
  },
  {
   "cell_type": "code",
   "execution_count": 51,
   "metadata": {},
   "outputs": [
    {
     "data": {
      "text/plain": [
       "RidgeClassifier(alpha=1.0, class_weight=None, copy_X=True, fit_intercept=True,\n",
       "                max_iter=None, normalize=False, random_state=None,\n",
       "                solver='auto', tol=0.001)"
      ]
     },
     "execution_count": 51,
     "metadata": {},
     "output_type": "execute_result"
    }
   ],
   "source": [
    "rid_classie.fit(X_train, y_train)"
   ]
  },
  {
   "cell_type": "code",
   "execution_count": 52,
   "metadata": {},
   "outputs": [
    {
     "data": {
      "text/plain": [
       "array([1, 1, 2, 1, 1, 2, 2, 1, 2, 2, 1, 2, 2, 1, 1, 1, 2, 2, 2, 2, 1, 1,\n",
       "       2, 2, 2, 1, 1, 1, 2, 1, 2, 2, 2, 2, 2, 1, 2, 1, 2, 2, 2, 1, 2, 1,\n",
       "       2, 2, 1, 1, 1, 1, 2, 1, 2, 1, 1, 1, 2, 2, 2, 2, 2, 2, 2, 2, 1, 1,\n",
       "       2, 2, 2, 1, 2, 1, 2, 2, 2, 2, 1, 2, 2, 2, 1, 2, 2, 1, 2, 2, 1, 2,\n",
       "       1, 2, 2, 2, 2, 2, 2, 1, 1, 1, 2, 1, 2, 2, 2, 2, 1, 2, 2, 2, 1, 2,\n",
       "       1, 2, 2, 1, 1, 2, 2, 2, 1, 2, 2, 2, 2, 2, 2, 1, 2, 1, 2, 2, 2, 2,\n",
       "       2, 2, 2, 2, 2, 2, 2, 1, 2, 2, 1, 2])"
      ]
     },
     "execution_count": 52,
     "metadata": {},
     "output_type": "execute_result"
    }
   ],
   "source": [
    "y_pred_rid = rid_classie.predict(X_test)\n",
    "y_pred_rid"
   ]
  },
  {
   "cell_type": "code",
   "execution_count": 53,
   "metadata": {},
   "outputs": [],
   "source": [
    "acc_rid = accuracy_score(y_test, y_pred_rid)"
   ]
  },
  {
   "cell_type": "code",
   "execution_count": 54,
   "metadata": {},
   "outputs": [
    {
     "data": {
      "text/plain": [
       "85.41666666666666"
      ]
     },
     "execution_count": 54,
     "metadata": {},
     "output_type": "execute_result"
    }
   ],
   "source": [
    "acc_rid*100"
   ]
  },
  {
   "cell_type": "markdown",
   "metadata": {},
   "source": [
    "###  ***Using the trained models on PNB dataset***"
   ]
  },
  {
   "cell_type": "code",
   "execution_count": 55,
   "metadata": {},
   "outputs": [
    {
     "data": {
      "text/html": [
       "<div>\n",
       "<style scoped>\n",
       "    .dataframe tbody tr th:only-of-type {\n",
       "        vertical-align: middle;\n",
       "    }\n",
       "\n",
       "    .dataframe tbody tr th {\n",
       "        vertical-align: top;\n",
       "    }\n",
       "\n",
       "    .dataframe thead th {\n",
       "        text-align: right;\n",
       "    }\n",
       "</style>\n",
       "<table border=\"1\" class=\"dataframe\">\n",
       "  <thead>\n",
       "    <tr style=\"text-align: right;\">\n",
       "      <th></th>\n",
       "      <th>Symbol</th>\n",
       "      <th>Series</th>\n",
       "      <th>Date</th>\n",
       "      <th>Prev Close</th>\n",
       "      <th>Open Price</th>\n",
       "      <th>High Price</th>\n",
       "      <th>Low Price</th>\n",
       "      <th>Last Price</th>\n",
       "      <th>Close Price</th>\n",
       "      <th>Average Price</th>\n",
       "      <th>Total Traded Quantity</th>\n",
       "      <th>Turnover</th>\n",
       "      <th>No. of Trades</th>\n",
       "      <th>Deliverable Qty</th>\n",
       "      <th>% Dly Qt to Traded Qty</th>\n",
       "    </tr>\n",
       "  </thead>\n",
       "  <tbody>\n",
       "    <tr>\n",
       "      <th>0</th>\n",
       "      <td>PNB</td>\n",
       "      <td>EQ</td>\n",
       "      <td>15-May-2017</td>\n",
       "      <td>169.15</td>\n",
       "      <td>169.95</td>\n",
       "      <td>171.30</td>\n",
       "      <td>166.2</td>\n",
       "      <td>166.85</td>\n",
       "      <td>166.80</td>\n",
       "      <td>168.94</td>\n",
       "      <td>7476618</td>\n",
       "      <td>1.263123e+09</td>\n",
       "      <td>41641</td>\n",
       "      <td>1352589</td>\n",
       "      <td>18.09</td>\n",
       "    </tr>\n",
       "    <tr>\n",
       "      <th>1</th>\n",
       "      <td>PNB</td>\n",
       "      <td>EQ</td>\n",
       "      <td>16-May-2017</td>\n",
       "      <td>166.80</td>\n",
       "      <td>167.35</td>\n",
       "      <td>178.00</td>\n",
       "      <td>164.8</td>\n",
       "      <td>173.20</td>\n",
       "      <td>174.15</td>\n",
       "      <td>173.13</td>\n",
       "      <td>51532461</td>\n",
       "      <td>8.921904e+09</td>\n",
       "      <td>254027</td>\n",
       "      <td>5804867</td>\n",
       "      <td>11.26</td>\n",
       "    </tr>\n",
       "    <tr>\n",
       "      <th>2</th>\n",
       "      <td>PNB</td>\n",
       "      <td>EQ</td>\n",
       "      <td>17-May-2017</td>\n",
       "      <td>174.15</td>\n",
       "      <td>173.00</td>\n",
       "      <td>173.10</td>\n",
       "      <td>164.3</td>\n",
       "      <td>164.80</td>\n",
       "      <td>165.05</td>\n",
       "      <td>167.27</td>\n",
       "      <td>26536944</td>\n",
       "      <td>4.438942e+09</td>\n",
       "      <td>116512</td>\n",
       "      <td>7037498</td>\n",
       "      <td>26.52</td>\n",
       "    </tr>\n",
       "    <tr>\n",
       "      <th>3</th>\n",
       "      <td>PNB</td>\n",
       "      <td>EQ</td>\n",
       "      <td>18-May-2017</td>\n",
       "      <td>165.05</td>\n",
       "      <td>163.40</td>\n",
       "      <td>164.40</td>\n",
       "      <td>157.9</td>\n",
       "      <td>158.25</td>\n",
       "      <td>158.50</td>\n",
       "      <td>161.06</td>\n",
       "      <td>13905573</td>\n",
       "      <td>2.239613e+09</td>\n",
       "      <td>76746</td>\n",
       "      <td>3245443</td>\n",
       "      <td>23.34</td>\n",
       "    </tr>\n",
       "    <tr>\n",
       "      <th>4</th>\n",
       "      <td>PNB</td>\n",
       "      <td>EQ</td>\n",
       "      <td>19-May-2017</td>\n",
       "      <td>158.50</td>\n",
       "      <td>159.50</td>\n",
       "      <td>162.25</td>\n",
       "      <td>154.1</td>\n",
       "      <td>155.20</td>\n",
       "      <td>155.20</td>\n",
       "      <td>157.59</td>\n",
       "      <td>16311602</td>\n",
       "      <td>2.570540e+09</td>\n",
       "      <td>82394</td>\n",
       "      <td>2816963</td>\n",
       "      <td>17.27</td>\n",
       "    </tr>\n",
       "  </tbody>\n",
       "</table>\n",
       "</div>"
      ],
      "text/plain": [
       "  Symbol Series         Date  Prev Close  Open Price  High Price  Low Price  \\\n",
       "0    PNB     EQ  15-May-2017      169.15      169.95      171.30      166.2   \n",
       "1    PNB     EQ  16-May-2017      166.80      167.35      178.00      164.8   \n",
       "2    PNB     EQ  17-May-2017      174.15      173.00      173.10      164.3   \n",
       "3    PNB     EQ  18-May-2017      165.05      163.40      164.40      157.9   \n",
       "4    PNB     EQ  19-May-2017      158.50      159.50      162.25      154.1   \n",
       "\n",
       "   Last Price  Close Price  Average Price  Total Traded Quantity  \\\n",
       "0      166.85       166.80         168.94                7476618   \n",
       "1      173.20       174.15         173.13               51532461   \n",
       "2      164.80       165.05         167.27               26536944   \n",
       "3      158.25       158.50         161.06               13905573   \n",
       "4      155.20       155.20         157.59               16311602   \n",
       "\n",
       "       Turnover  No. of Trades  Deliverable Qty  % Dly Qt to Traded Qty  \n",
       "0  1.263123e+09          41641          1352589                   18.09  \n",
       "1  8.921904e+09         254027          5804867                   11.26  \n",
       "2  4.438942e+09         116512          7037498                   26.52  \n",
       "3  2.239613e+09          76746          3245443                   23.34  \n",
       "4  2.570540e+09          82394          2816963                   17.27  "
      ]
     },
     "execution_count": 55,
     "metadata": {},
     "output_type": "execute_result"
    }
   ],
   "source": [
    "df_pnb = pd.read_csv(\"stock_data/PNB.csv\")\n",
    "df_pnb.head()"
   ]
  },
  {
   "cell_type": "code",
   "execution_count": 56,
   "metadata": {},
   "outputs": [],
   "source": [
    "df_pnb['Middle_band'] = df_pnb['Close Price'].rolling(14).mean()"
   ]
  },
  {
   "cell_type": "code",
   "execution_count": 57,
   "metadata": {},
   "outputs": [],
   "source": [
    "df_pnb['Lower_band'] = df_pnb['Middle_band'] - 2*df_pnb['Close Price'].rolling(14).std()"
   ]
  },
  {
   "cell_type": "code",
   "execution_count": 58,
   "metadata": {},
   "outputs": [],
   "source": [
    "df_pnb['Upper_band'] = df_pnb['Middle_band'] + 2*df_pnb['Close Price'].rolling(14).std()"
   ]
  },
  {
   "cell_type": "code",
   "execution_count": 59,
   "metadata": {
    "scrolled": true
   },
   "outputs": [],
   "source": [
    "df_pnb['Call'] = df_pnb.apply(lambda row: call_value(row['Close Price'], row['Upper_band'], row['Middle_band'], row['Lower_band']), axis =1)"
   ]
  },
  {
   "cell_type": "code",
   "execution_count": 60,
   "metadata": {
    "scrolled": true
   },
   "outputs": [
    {
     "data": {
      "text/html": [
       "<div>\n",
       "<style scoped>\n",
       "    .dataframe tbody tr th:only-of-type {\n",
       "        vertical-align: middle;\n",
       "    }\n",
       "\n",
       "    .dataframe tbody tr th {\n",
       "        vertical-align: top;\n",
       "    }\n",
       "\n",
       "    .dataframe thead th {\n",
       "        text-align: right;\n",
       "    }\n",
       "</style>\n",
       "<table border=\"1\" class=\"dataframe\">\n",
       "  <thead>\n",
       "    <tr style=\"text-align: right;\">\n",
       "      <th></th>\n",
       "      <th>Symbol</th>\n",
       "      <th>Series</th>\n",
       "      <th>Date</th>\n",
       "      <th>Prev Close</th>\n",
       "      <th>Open Price</th>\n",
       "      <th>High Price</th>\n",
       "      <th>Low Price</th>\n",
       "      <th>Last Price</th>\n",
       "      <th>Close Price</th>\n",
       "      <th>Average Price</th>\n",
       "      <th>Total Traded Quantity</th>\n",
       "      <th>Turnover</th>\n",
       "      <th>No. of Trades</th>\n",
       "      <th>Deliverable Qty</th>\n",
       "      <th>% Dly Qt to Traded Qty</th>\n",
       "      <th>Middle_band</th>\n",
       "      <th>Lower_band</th>\n",
       "      <th>Upper_band</th>\n",
       "      <th>Call</th>\n",
       "    </tr>\n",
       "  </thead>\n",
       "  <tbody>\n",
       "    <tr>\n",
       "      <th>10</th>\n",
       "      <td>PNB</td>\n",
       "      <td>EQ</td>\n",
       "      <td>29-May-2017</td>\n",
       "      <td>150.65</td>\n",
       "      <td>150.45</td>\n",
       "      <td>151.85</td>\n",
       "      <td>143.05</td>\n",
       "      <td>143.65</td>\n",
       "      <td>145.10</td>\n",
       "      <td>147.58</td>\n",
       "      <td>8154328</td>\n",
       "      <td>1.203407e+09</td>\n",
       "      <td>37624</td>\n",
       "      <td>1838845</td>\n",
       "      <td>22.55</td>\n",
       "      <td>NaN</td>\n",
       "      <td>NaN</td>\n",
       "      <td>NaN</td>\n",
       "      <td>None</td>\n",
       "    </tr>\n",
       "    <tr>\n",
       "      <th>11</th>\n",
       "      <td>PNB</td>\n",
       "      <td>EQ</td>\n",
       "      <td>30-May-2017</td>\n",
       "      <td>145.10</td>\n",
       "      <td>143.90</td>\n",
       "      <td>148.00</td>\n",
       "      <td>142.40</td>\n",
       "      <td>146.45</td>\n",
       "      <td>146.35</td>\n",
       "      <td>146.11</td>\n",
       "      <td>10767305</td>\n",
       "      <td>1.573237e+09</td>\n",
       "      <td>46802</td>\n",
       "      <td>2178803</td>\n",
       "      <td>20.24</td>\n",
       "      <td>NaN</td>\n",
       "      <td>NaN</td>\n",
       "      <td>NaN</td>\n",
       "      <td>None</td>\n",
       "    </tr>\n",
       "    <tr>\n",
       "      <th>12</th>\n",
       "      <td>PNB</td>\n",
       "      <td>EQ</td>\n",
       "      <td>31-May-2017</td>\n",
       "      <td>146.35</td>\n",
       "      <td>146.85</td>\n",
       "      <td>151.60</td>\n",
       "      <td>145.00</td>\n",
       "      <td>150.85</td>\n",
       "      <td>150.50</td>\n",
       "      <td>148.56</td>\n",
       "      <td>16851657</td>\n",
       "      <td>2.503432e+09</td>\n",
       "      <td>62225</td>\n",
       "      <td>5241274</td>\n",
       "      <td>31.10</td>\n",
       "      <td>NaN</td>\n",
       "      <td>NaN</td>\n",
       "      <td>NaN</td>\n",
       "      <td>None</td>\n",
       "    </tr>\n",
       "    <tr>\n",
       "      <th>13</th>\n",
       "      <td>PNB</td>\n",
       "      <td>EQ</td>\n",
       "      <td>01-Jun-2017</td>\n",
       "      <td>150.50</td>\n",
       "      <td>151.00</td>\n",
       "      <td>152.30</td>\n",
       "      <td>149.25</td>\n",
       "      <td>151.60</td>\n",
       "      <td>151.90</td>\n",
       "      <td>150.95</td>\n",
       "      <td>9103808</td>\n",
       "      <td>1.374191e+09</td>\n",
       "      <td>39672</td>\n",
       "      <td>969143</td>\n",
       "      <td>10.65</td>\n",
       "      <td>154.503571</td>\n",
       "      <td>137.344790</td>\n",
       "      <td>171.662353</td>\n",
       "      <td>Hold Buy/ Liquidate short</td>\n",
       "    </tr>\n",
       "    <tr>\n",
       "      <th>14</th>\n",
       "      <td>PNB</td>\n",
       "      <td>EQ</td>\n",
       "      <td>02-Jun-2017</td>\n",
       "      <td>151.90</td>\n",
       "      <td>153.40</td>\n",
       "      <td>154.05</td>\n",
       "      <td>150.90</td>\n",
       "      <td>153.00</td>\n",
       "      <td>153.05</td>\n",
       "      <td>152.87</td>\n",
       "      <td>7997880</td>\n",
       "      <td>1.222654e+09</td>\n",
       "      <td>37217</td>\n",
       "      <td>1520732</td>\n",
       "      <td>19.01</td>\n",
       "      <td>153.521429</td>\n",
       "      <td>137.888292</td>\n",
       "      <td>169.154565</td>\n",
       "      <td>Hold Buy/ Liquidate short</td>\n",
       "    </tr>\n",
       "    <tr>\n",
       "      <th>...</th>\n",
       "      <td>...</td>\n",
       "      <td>...</td>\n",
       "      <td>...</td>\n",
       "      <td>...</td>\n",
       "      <td>...</td>\n",
       "      <td>...</td>\n",
       "      <td>...</td>\n",
       "      <td>...</td>\n",
       "      <td>...</td>\n",
       "      <td>...</td>\n",
       "      <td>...</td>\n",
       "      <td>...</td>\n",
       "      <td>...</td>\n",
       "      <td>...</td>\n",
       "      <td>...</td>\n",
       "      <td>...</td>\n",
       "      <td>...</td>\n",
       "      <td>...</td>\n",
       "      <td>...</td>\n",
       "    </tr>\n",
       "    <tr>\n",
       "      <th>489</th>\n",
       "      <td>PNB</td>\n",
       "      <td>EQ</td>\n",
       "      <td>07-May-2019</td>\n",
       "      <td>86.25</td>\n",
       "      <td>86.70</td>\n",
       "      <td>87.15</td>\n",
       "      <td>83.40</td>\n",
       "      <td>84.05</td>\n",
       "      <td>83.95</td>\n",
       "      <td>85.62</td>\n",
       "      <td>16356567</td>\n",
       "      <td>1.400418e+09</td>\n",
       "      <td>37679</td>\n",
       "      <td>2333933</td>\n",
       "      <td>14.27</td>\n",
       "      <td>88.250000</td>\n",
       "      <td>82.004017</td>\n",
       "      <td>94.495983</td>\n",
       "      <td>Hold Buy/ Liquidate short</td>\n",
       "    </tr>\n",
       "    <tr>\n",
       "      <th>490</th>\n",
       "      <td>PNB</td>\n",
       "      <td>EQ</td>\n",
       "      <td>08-May-2019</td>\n",
       "      <td>83.95</td>\n",
       "      <td>83.75</td>\n",
       "      <td>85.40</td>\n",
       "      <td>83.25</td>\n",
       "      <td>84.05</td>\n",
       "      <td>83.95</td>\n",
       "      <td>84.43</td>\n",
       "      <td>23380690</td>\n",
       "      <td>1.974095e+09</td>\n",
       "      <td>52244</td>\n",
       "      <td>2674859</td>\n",
       "      <td>11.44</td>\n",
       "      <td>87.578571</td>\n",
       "      <td>81.683108</td>\n",
       "      <td>93.474034</td>\n",
       "      <td>Hold Buy/ Liquidate short</td>\n",
       "    </tr>\n",
       "    <tr>\n",
       "      <th>491</th>\n",
       "      <td>PNB</td>\n",
       "      <td>EQ</td>\n",
       "      <td>09-May-2019</td>\n",
       "      <td>83.95</td>\n",
       "      <td>84.10</td>\n",
       "      <td>85.35</td>\n",
       "      <td>82.80</td>\n",
       "      <td>84.50</td>\n",
       "      <td>84.25</td>\n",
       "      <td>84.30</td>\n",
       "      <td>22934344</td>\n",
       "      <td>1.933317e+09</td>\n",
       "      <td>44704</td>\n",
       "      <td>2025433</td>\n",
       "      <td>8.83</td>\n",
       "      <td>86.892857</td>\n",
       "      <td>81.989976</td>\n",
       "      <td>91.795738</td>\n",
       "      <td>Hold Buy/ Liquidate short</td>\n",
       "    </tr>\n",
       "    <tr>\n",
       "      <th>492</th>\n",
       "      <td>PNB</td>\n",
       "      <td>EQ</td>\n",
       "      <td>10-May-2019</td>\n",
       "      <td>84.25</td>\n",
       "      <td>85.00</td>\n",
       "      <td>87.25</td>\n",
       "      <td>84.40</td>\n",
       "      <td>86.00</td>\n",
       "      <td>86.25</td>\n",
       "      <td>85.53</td>\n",
       "      <td>21821500</td>\n",
       "      <td>1.866353e+09</td>\n",
       "      <td>44879</td>\n",
       "      <td>1950720</td>\n",
       "      <td>8.94</td>\n",
       "      <td>86.425000</td>\n",
       "      <td>82.891479</td>\n",
       "      <td>89.958521</td>\n",
       "      <td>Hold Buy/ Liquidate short</td>\n",
       "    </tr>\n",
       "    <tr>\n",
       "      <th>493</th>\n",
       "      <td>PNB</td>\n",
       "      <td>EQ</td>\n",
       "      <td>13-May-2019</td>\n",
       "      <td>86.25</td>\n",
       "      <td>86.15</td>\n",
       "      <td>86.20</td>\n",
       "      <td>79.05</td>\n",
       "      <td>79.90</td>\n",
       "      <td>79.80</td>\n",
       "      <td>82.13</td>\n",
       "      <td>34293332</td>\n",
       "      <td>2.816529e+09</td>\n",
       "      <td>88162</td>\n",
       "      <td>7102109</td>\n",
       "      <td>20.71</td>\n",
       "      <td>85.692857</td>\n",
       "      <td>81.261352</td>\n",
       "      <td>90.124363</td>\n",
       "      <td>Buy</td>\n",
       "    </tr>\n",
       "  </tbody>\n",
       "</table>\n",
       "<p>484 rows × 19 columns</p>\n",
       "</div>"
      ],
      "text/plain": [
       "    Symbol Series         Date  Prev Close  Open Price  High Price  Low Price  \\\n",
       "10     PNB     EQ  29-May-2017      150.65      150.45      151.85     143.05   \n",
       "11     PNB     EQ  30-May-2017      145.10      143.90      148.00     142.40   \n",
       "12     PNB     EQ  31-May-2017      146.35      146.85      151.60     145.00   \n",
       "13     PNB     EQ  01-Jun-2017      150.50      151.00      152.30     149.25   \n",
       "14     PNB     EQ  02-Jun-2017      151.90      153.40      154.05     150.90   \n",
       "..     ...    ...          ...         ...         ...         ...        ...   \n",
       "489    PNB     EQ  07-May-2019       86.25       86.70       87.15      83.40   \n",
       "490    PNB     EQ  08-May-2019       83.95       83.75       85.40      83.25   \n",
       "491    PNB     EQ  09-May-2019       83.95       84.10       85.35      82.80   \n",
       "492    PNB     EQ  10-May-2019       84.25       85.00       87.25      84.40   \n",
       "493    PNB     EQ  13-May-2019       86.25       86.15       86.20      79.05   \n",
       "\n",
       "     Last Price  Close Price  Average Price  Total Traded Quantity  \\\n",
       "10       143.65       145.10         147.58                8154328   \n",
       "11       146.45       146.35         146.11               10767305   \n",
       "12       150.85       150.50         148.56               16851657   \n",
       "13       151.60       151.90         150.95                9103808   \n",
       "14       153.00       153.05         152.87                7997880   \n",
       "..          ...          ...            ...                    ...   \n",
       "489       84.05        83.95          85.62               16356567   \n",
       "490       84.05        83.95          84.43               23380690   \n",
       "491       84.50        84.25          84.30               22934344   \n",
       "492       86.00        86.25          85.53               21821500   \n",
       "493       79.90        79.80          82.13               34293332   \n",
       "\n",
       "         Turnover  No. of Trades  Deliverable Qty  % Dly Qt to Traded Qty  \\\n",
       "10   1.203407e+09          37624          1838845                   22.55   \n",
       "11   1.573237e+09          46802          2178803                   20.24   \n",
       "12   2.503432e+09          62225          5241274                   31.10   \n",
       "13   1.374191e+09          39672           969143                   10.65   \n",
       "14   1.222654e+09          37217          1520732                   19.01   \n",
       "..            ...            ...              ...                     ...   \n",
       "489  1.400418e+09          37679          2333933                   14.27   \n",
       "490  1.974095e+09          52244          2674859                   11.44   \n",
       "491  1.933317e+09          44704          2025433                    8.83   \n",
       "492  1.866353e+09          44879          1950720                    8.94   \n",
       "493  2.816529e+09          88162          7102109                   20.71   \n",
       "\n",
       "     Middle_band  Lower_band  Upper_band                       Call  \n",
       "10           NaN         NaN         NaN                       None  \n",
       "11           NaN         NaN         NaN                       None  \n",
       "12           NaN         NaN         NaN                       None  \n",
       "13    154.503571  137.344790  171.662353  Hold Buy/ Liquidate short  \n",
       "14    153.521429  137.888292  169.154565  Hold Buy/ Liquidate short  \n",
       "..           ...         ...         ...                        ...  \n",
       "489    88.250000   82.004017   94.495983  Hold Buy/ Liquidate short  \n",
       "490    87.578571   81.683108   93.474034  Hold Buy/ Liquidate short  \n",
       "491    86.892857   81.989976   91.795738  Hold Buy/ Liquidate short  \n",
       "492    86.425000   82.891479   89.958521  Hold Buy/ Liquidate short  \n",
       "493    85.692857   81.261352   90.124363                        Buy  \n",
       "\n",
       "[484 rows x 19 columns]"
      ]
     },
     "execution_count": 60,
     "metadata": {},
     "output_type": "execute_result"
    }
   ],
   "source": [
    "df_pnb[10:]"
   ]
  },
  {
   "cell_type": "code",
   "execution_count": 61,
   "metadata": {},
   "outputs": [],
   "source": [
    "X = df_pnb[['Middle_band', 'Upper_band', 'Lower_band', 'Close Price']].values[13:]"
   ]
  },
  {
   "cell_type": "markdown",
   "metadata": {},
   "source": [
    "###### As the training data is different so the accuracy for new test data is small."
   ]
  },
  {
   "cell_type": "markdown",
   "metadata": {},
   "source": [
    "### Predicting the Call value for PNB Bank Using Ridge classifier"
   ]
  },
  {
   "cell_type": "code",
   "execution_count": 62,
   "metadata": {},
   "outputs": [],
   "source": [
    "y_pred_pnb = rid_classie.predict(X)"
   ]
  },
  {
   "cell_type": "code",
   "execution_count": 63,
   "metadata": {
    "scrolled": true
   },
   "outputs": [
    {
     "name": "stderr",
     "output_type": "stream",
     "text": [
      "/home/keshu/anaconda3/lib/python3.7/site-packages/ipykernel_launcher.py:1: SettingWithCopyWarning: \n",
      "A value is trying to be set on a copy of a slice from a DataFrame\n",
      "\n",
      "See the caveats in the documentation: https://pandas.pydata.org/pandas-docs/stable/user_guide/indexing.html#returning-a-view-versus-a-copy\n",
      "  \"\"\"Entry point for launching an IPython kernel.\n"
     ]
    },
    {
     "data": {
      "text/html": [
       "<div>\n",
       "<style scoped>\n",
       "    .dataframe tbody tr th:only-of-type {\n",
       "        vertical-align: middle;\n",
       "    }\n",
       "\n",
       "    .dataframe tbody tr th {\n",
       "        vertical-align: top;\n",
       "    }\n",
       "\n",
       "    .dataframe thead th {\n",
       "        text-align: right;\n",
       "    }\n",
       "</style>\n",
       "<table border=\"1\" class=\"dataframe\">\n",
       "  <thead>\n",
       "    <tr style=\"text-align: right;\">\n",
       "      <th></th>\n",
       "      <th>Symbol</th>\n",
       "      <th>Series</th>\n",
       "      <th>Date</th>\n",
       "      <th>Prev Close</th>\n",
       "      <th>Open Price</th>\n",
       "      <th>High Price</th>\n",
       "      <th>Low Price</th>\n",
       "      <th>Last Price</th>\n",
       "      <th>Close Price</th>\n",
       "      <th>Average Price</th>\n",
       "      <th>Total Traded Quantity</th>\n",
       "      <th>Turnover</th>\n",
       "      <th>No. of Trades</th>\n",
       "      <th>Deliverable Qty</th>\n",
       "      <th>% Dly Qt to Traded Qty</th>\n",
       "      <th>Middle_band</th>\n",
       "      <th>Lower_band</th>\n",
       "      <th>Upper_band</th>\n",
       "      <th>Call</th>\n",
       "    </tr>\n",
       "  </thead>\n",
       "  <tbody>\n",
       "    <tr>\n",
       "      <th>10</th>\n",
       "      <td>PNB</td>\n",
       "      <td>EQ</td>\n",
       "      <td>29-May-2017</td>\n",
       "      <td>150.65</td>\n",
       "      <td>150.45</td>\n",
       "      <td>151.85</td>\n",
       "      <td>143.05</td>\n",
       "      <td>143.65</td>\n",
       "      <td>145.10</td>\n",
       "      <td>147.58</td>\n",
       "      <td>8154328</td>\n",
       "      <td>1.203407e+09</td>\n",
       "      <td>37624</td>\n",
       "      <td>1838845</td>\n",
       "      <td>22.55</td>\n",
       "      <td>NaN</td>\n",
       "      <td>NaN</td>\n",
       "      <td>NaN</td>\n",
       "      <td>None</td>\n",
       "    </tr>\n",
       "    <tr>\n",
       "      <th>11</th>\n",
       "      <td>PNB</td>\n",
       "      <td>EQ</td>\n",
       "      <td>30-May-2017</td>\n",
       "      <td>145.10</td>\n",
       "      <td>143.90</td>\n",
       "      <td>148.00</td>\n",
       "      <td>142.40</td>\n",
       "      <td>146.45</td>\n",
       "      <td>146.35</td>\n",
       "      <td>146.11</td>\n",
       "      <td>10767305</td>\n",
       "      <td>1.573237e+09</td>\n",
       "      <td>46802</td>\n",
       "      <td>2178803</td>\n",
       "      <td>20.24</td>\n",
       "      <td>NaN</td>\n",
       "      <td>NaN</td>\n",
       "      <td>NaN</td>\n",
       "      <td>None</td>\n",
       "    </tr>\n",
       "    <tr>\n",
       "      <th>12</th>\n",
       "      <td>PNB</td>\n",
       "      <td>EQ</td>\n",
       "      <td>31-May-2017</td>\n",
       "      <td>146.35</td>\n",
       "      <td>146.85</td>\n",
       "      <td>151.60</td>\n",
       "      <td>145.00</td>\n",
       "      <td>150.85</td>\n",
       "      <td>150.50</td>\n",
       "      <td>148.56</td>\n",
       "      <td>16851657</td>\n",
       "      <td>2.503432e+09</td>\n",
       "      <td>62225</td>\n",
       "      <td>5241274</td>\n",
       "      <td>31.10</td>\n",
       "      <td>NaN</td>\n",
       "      <td>NaN</td>\n",
       "      <td>NaN</td>\n",
       "      <td>None</td>\n",
       "    </tr>\n",
       "    <tr>\n",
       "      <th>13</th>\n",
       "      <td>PNB</td>\n",
       "      <td>EQ</td>\n",
       "      <td>01-Jun-2017</td>\n",
       "      <td>150.50</td>\n",
       "      <td>151.00</td>\n",
       "      <td>152.30</td>\n",
       "      <td>149.25</td>\n",
       "      <td>151.60</td>\n",
       "      <td>151.90</td>\n",
       "      <td>150.95</td>\n",
       "      <td>9103808</td>\n",
       "      <td>1.374191e+09</td>\n",
       "      <td>39672</td>\n",
       "      <td>969143</td>\n",
       "      <td>10.65</td>\n",
       "      <td>154.503571</td>\n",
       "      <td>137.344790</td>\n",
       "      <td>171.662353</td>\n",
       "      <td>Hold Buy/ Liquidate short</td>\n",
       "    </tr>\n",
       "    <tr>\n",
       "      <th>14</th>\n",
       "      <td>PNB</td>\n",
       "      <td>EQ</td>\n",
       "      <td>02-Jun-2017</td>\n",
       "      <td>151.90</td>\n",
       "      <td>153.40</td>\n",
       "      <td>154.05</td>\n",
       "      <td>150.90</td>\n",
       "      <td>153.00</td>\n",
       "      <td>153.05</td>\n",
       "      <td>152.87</td>\n",
       "      <td>7997880</td>\n",
       "      <td>1.222654e+09</td>\n",
       "      <td>37217</td>\n",
       "      <td>1520732</td>\n",
       "      <td>19.01</td>\n",
       "      <td>153.521429</td>\n",
       "      <td>137.888292</td>\n",
       "      <td>169.154565</td>\n",
       "      <td>Hold Short/ Liquidate Buy</td>\n",
       "    </tr>\n",
       "    <tr>\n",
       "      <th>...</th>\n",
       "      <td>...</td>\n",
       "      <td>...</td>\n",
       "      <td>...</td>\n",
       "      <td>...</td>\n",
       "      <td>...</td>\n",
       "      <td>...</td>\n",
       "      <td>...</td>\n",
       "      <td>...</td>\n",
       "      <td>...</td>\n",
       "      <td>...</td>\n",
       "      <td>...</td>\n",
       "      <td>...</td>\n",
       "      <td>...</td>\n",
       "      <td>...</td>\n",
       "      <td>...</td>\n",
       "      <td>...</td>\n",
       "      <td>...</td>\n",
       "      <td>...</td>\n",
       "      <td>...</td>\n",
       "    </tr>\n",
       "    <tr>\n",
       "      <th>489</th>\n",
       "      <td>PNB</td>\n",
       "      <td>EQ</td>\n",
       "      <td>07-May-2019</td>\n",
       "      <td>86.25</td>\n",
       "      <td>86.70</td>\n",
       "      <td>87.15</td>\n",
       "      <td>83.40</td>\n",
       "      <td>84.05</td>\n",
       "      <td>83.95</td>\n",
       "      <td>85.62</td>\n",
       "      <td>16356567</td>\n",
       "      <td>1.400418e+09</td>\n",
       "      <td>37679</td>\n",
       "      <td>2333933</td>\n",
       "      <td>14.27</td>\n",
       "      <td>88.250000</td>\n",
       "      <td>82.004017</td>\n",
       "      <td>94.495983</td>\n",
       "      <td>Hold Buy/ Liquidate short</td>\n",
       "    </tr>\n",
       "    <tr>\n",
       "      <th>490</th>\n",
       "      <td>PNB</td>\n",
       "      <td>EQ</td>\n",
       "      <td>08-May-2019</td>\n",
       "      <td>83.95</td>\n",
       "      <td>83.75</td>\n",
       "      <td>85.40</td>\n",
       "      <td>83.25</td>\n",
       "      <td>84.05</td>\n",
       "      <td>83.95</td>\n",
       "      <td>84.43</td>\n",
       "      <td>23380690</td>\n",
       "      <td>1.974095e+09</td>\n",
       "      <td>52244</td>\n",
       "      <td>2674859</td>\n",
       "      <td>11.44</td>\n",
       "      <td>87.578571</td>\n",
       "      <td>81.683108</td>\n",
       "      <td>93.474034</td>\n",
       "      <td>Hold Buy/ Liquidate short</td>\n",
       "    </tr>\n",
       "    <tr>\n",
       "      <th>491</th>\n",
       "      <td>PNB</td>\n",
       "      <td>EQ</td>\n",
       "      <td>09-May-2019</td>\n",
       "      <td>83.95</td>\n",
       "      <td>84.10</td>\n",
       "      <td>85.35</td>\n",
       "      <td>82.80</td>\n",
       "      <td>84.50</td>\n",
       "      <td>84.25</td>\n",
       "      <td>84.30</td>\n",
       "      <td>22934344</td>\n",
       "      <td>1.933317e+09</td>\n",
       "      <td>44704</td>\n",
       "      <td>2025433</td>\n",
       "      <td>8.83</td>\n",
       "      <td>86.892857</td>\n",
       "      <td>81.989976</td>\n",
       "      <td>91.795738</td>\n",
       "      <td>Hold Buy/ Liquidate short</td>\n",
       "    </tr>\n",
       "    <tr>\n",
       "      <th>492</th>\n",
       "      <td>PNB</td>\n",
       "      <td>EQ</td>\n",
       "      <td>10-May-2019</td>\n",
       "      <td>84.25</td>\n",
       "      <td>85.00</td>\n",
       "      <td>87.25</td>\n",
       "      <td>84.40</td>\n",
       "      <td>86.00</td>\n",
       "      <td>86.25</td>\n",
       "      <td>85.53</td>\n",
       "      <td>21821500</td>\n",
       "      <td>1.866353e+09</td>\n",
       "      <td>44879</td>\n",
       "      <td>1950720</td>\n",
       "      <td>8.94</td>\n",
       "      <td>86.425000</td>\n",
       "      <td>82.891479</td>\n",
       "      <td>89.958521</td>\n",
       "      <td>Hold Short/ Liquidate Buy</td>\n",
       "    </tr>\n",
       "    <tr>\n",
       "      <th>493</th>\n",
       "      <td>PNB</td>\n",
       "      <td>EQ</td>\n",
       "      <td>13-May-2019</td>\n",
       "      <td>86.25</td>\n",
       "      <td>86.15</td>\n",
       "      <td>86.20</td>\n",
       "      <td>79.05</td>\n",
       "      <td>79.90</td>\n",
       "      <td>79.80</td>\n",
       "      <td>82.13</td>\n",
       "      <td>34293332</td>\n",
       "      <td>2.816529e+09</td>\n",
       "      <td>88162</td>\n",
       "      <td>7102109</td>\n",
       "      <td>20.71</td>\n",
       "      <td>85.692857</td>\n",
       "      <td>81.261352</td>\n",
       "      <td>90.124363</td>\n",
       "      <td>Hold Buy/ Liquidate short</td>\n",
       "    </tr>\n",
       "  </tbody>\n",
       "</table>\n",
       "<p>484 rows × 19 columns</p>\n",
       "</div>"
      ],
      "text/plain": [
       "    Symbol Series         Date  Prev Close  Open Price  High Price  Low Price  \\\n",
       "10     PNB     EQ  29-May-2017      150.65      150.45      151.85     143.05   \n",
       "11     PNB     EQ  30-May-2017      145.10      143.90      148.00     142.40   \n",
       "12     PNB     EQ  31-May-2017      146.35      146.85      151.60     145.00   \n",
       "13     PNB     EQ  01-Jun-2017      150.50      151.00      152.30     149.25   \n",
       "14     PNB     EQ  02-Jun-2017      151.90      153.40      154.05     150.90   \n",
       "..     ...    ...          ...         ...         ...         ...        ...   \n",
       "489    PNB     EQ  07-May-2019       86.25       86.70       87.15      83.40   \n",
       "490    PNB     EQ  08-May-2019       83.95       83.75       85.40      83.25   \n",
       "491    PNB     EQ  09-May-2019       83.95       84.10       85.35      82.80   \n",
       "492    PNB     EQ  10-May-2019       84.25       85.00       87.25      84.40   \n",
       "493    PNB     EQ  13-May-2019       86.25       86.15       86.20      79.05   \n",
       "\n",
       "     Last Price  Close Price  Average Price  Total Traded Quantity  \\\n",
       "10       143.65       145.10         147.58                8154328   \n",
       "11       146.45       146.35         146.11               10767305   \n",
       "12       150.85       150.50         148.56               16851657   \n",
       "13       151.60       151.90         150.95                9103808   \n",
       "14       153.00       153.05         152.87                7997880   \n",
       "..          ...          ...            ...                    ...   \n",
       "489       84.05        83.95          85.62               16356567   \n",
       "490       84.05        83.95          84.43               23380690   \n",
       "491       84.50        84.25          84.30               22934344   \n",
       "492       86.00        86.25          85.53               21821500   \n",
       "493       79.90        79.80          82.13               34293332   \n",
       "\n",
       "         Turnover  No. of Trades  Deliverable Qty  % Dly Qt to Traded Qty  \\\n",
       "10   1.203407e+09          37624          1838845                   22.55   \n",
       "11   1.573237e+09          46802          2178803                   20.24   \n",
       "12   2.503432e+09          62225          5241274                   31.10   \n",
       "13   1.374191e+09          39672           969143                   10.65   \n",
       "14   1.222654e+09          37217          1520732                   19.01   \n",
       "..            ...            ...              ...                     ...   \n",
       "489  1.400418e+09          37679          2333933                   14.27   \n",
       "490  1.974095e+09          52244          2674859                   11.44   \n",
       "491  1.933317e+09          44704          2025433                    8.83   \n",
       "492  1.866353e+09          44879          1950720                    8.94   \n",
       "493  2.816529e+09          88162          7102109                   20.71   \n",
       "\n",
       "     Middle_band  Lower_band  Upper_band                       Call  \n",
       "10           NaN         NaN         NaN                       None  \n",
       "11           NaN         NaN         NaN                       None  \n",
       "12           NaN         NaN         NaN                       None  \n",
       "13    154.503571  137.344790  171.662353  Hold Buy/ Liquidate short  \n",
       "14    153.521429  137.888292  169.154565  Hold Short/ Liquidate Buy  \n",
       "..           ...         ...         ...                        ...  \n",
       "489    88.250000   82.004017   94.495983  Hold Buy/ Liquidate short  \n",
       "490    87.578571   81.683108   93.474034  Hold Buy/ Liquidate short  \n",
       "491    86.892857   81.989976   91.795738  Hold Buy/ Liquidate short  \n",
       "492    86.425000   82.891479   89.958521  Hold Short/ Liquidate Buy  \n",
       "493    85.692857   81.261352   90.124363  Hold Buy/ Liquidate short  \n",
       "\n",
       "[484 rows x 19 columns]"
      ]
     },
     "execution_count": 63,
     "metadata": {},
     "output_type": "execute_result"
    }
   ],
   "source": [
    "df_pnb['Call'][13:] = label.inverse_transform(y_pred_pnb)\n",
    "df_pnb[10:]"
   ]
  },
  {
   "cell_type": "markdown",
   "metadata": {},
   "source": []
  },
  {
   "cell_type": "markdown",
   "metadata": {},
   "source": [
    "## 4.2 Now, we'll again utilize classification to make a trade call, and measure the efficiency of our trading algorithm over the past two years. For this assignment , we will use RandomForest classifier.\n",
    "\n",
    "    Import the stock data file of your choice\n",
    "    Define 4 new columns , whose values are:\n",
    "    % change between Open and Close price for the day\n",
    "    % change between Low and High price for the day\n",
    "    5 day rolling mean of the day to day % change in Close Price\n",
    "    5 day rolling std of the day to day % change in Close Price\n",
    "    \n",
    "    \n",
    "    Create a new column 'Action' whose values are:\n",
    "    1 if next day's price(Close) is greater than present day's.\n",
    "    (-1) if next day's price(Close) is less than present day's.\n",
    "    i.e. Action [ i ] = 1 if Close[ i+1 ] > Close[ i ]\n",
    "    i.e. Action [ i ] = (-1) if Close[ i+1 ] < Close[ i ]\n",
    "    \n",
    "    \n",
    "    Construct a classification model with the 4 new inputs and 'Action' as target\n",
    "    \n",
    "    \n",
    "    Check the accuracy of this model , also , plot the net cumulative returns (in %) if we were to follow this algorithmic model\n"
   ]
  },
  {
   "cell_type": "code",
   "execution_count": 64,
   "metadata": {
    "scrolled": true
   },
   "outputs": [
    {
     "data": {
      "text/html": [
       "<div>\n",
       "<style scoped>\n",
       "    .dataframe tbody tr th:only-of-type {\n",
       "        vertical-align: middle;\n",
       "    }\n",
       "\n",
       "    .dataframe tbody tr th {\n",
       "        vertical-align: top;\n",
       "    }\n",
       "\n",
       "    .dataframe thead th {\n",
       "        text-align: right;\n",
       "    }\n",
       "</style>\n",
       "<table border=\"1\" class=\"dataframe\">\n",
       "  <thead>\n",
       "    <tr style=\"text-align: right;\">\n",
       "      <th></th>\n",
       "      <th>Date</th>\n",
       "      <th>Symbol</th>\n",
       "      <th>Series</th>\n",
       "      <th>Prev Close</th>\n",
       "      <th>Open Price</th>\n",
       "      <th>High Price</th>\n",
       "      <th>Low Price</th>\n",
       "      <th>Last Price</th>\n",
       "      <th>Close Price</th>\n",
       "      <th>Average Price</th>\n",
       "      <th>...</th>\n",
       "      <th>No. of Trades</th>\n",
       "      <th>Deliverable Qty</th>\n",
       "      <th>% Dly Qt to Traded Qty</th>\n",
       "      <th>Day_Perc_Change</th>\n",
       "      <th>Trend</th>\n",
       "      <th>Middle_band</th>\n",
       "      <th>Std_14</th>\n",
       "      <th>Upper_band</th>\n",
       "      <th>Lower_band</th>\n",
       "      <th>Call</th>\n",
       "    </tr>\n",
       "  </thead>\n",
       "  <tbody>\n",
       "    <tr>\n",
       "      <th>0</th>\n",
       "      <td>2017-05-16</td>\n",
       "      <td>AXISBANK</td>\n",
       "      <td>EQ</td>\n",
       "      <td>500.10</td>\n",
       "      <td>502.10</td>\n",
       "      <td>504.50</td>\n",
       "      <td>493.50</td>\n",
       "      <td>502.05</td>\n",
       "      <td>501.50</td>\n",
       "      <td>499.85</td>\n",
       "      <td>...</td>\n",
       "      <td>101028</td>\n",
       "      <td>4027982</td>\n",
       "      <td>46.78</td>\n",
       "      <td>0.279944</td>\n",
       "      <td>Slight or No change</td>\n",
       "      <td>NaN</td>\n",
       "      <td>NaN</td>\n",
       "      <td>NaN</td>\n",
       "      <td>NaN</td>\n",
       "      <td>None</td>\n",
       "    </tr>\n",
       "    <tr>\n",
       "      <th>1</th>\n",
       "      <td>2017-05-17</td>\n",
       "      <td>AXISBANK</td>\n",
       "      <td>EQ</td>\n",
       "      <td>501.50</td>\n",
       "      <td>501.35</td>\n",
       "      <td>506.75</td>\n",
       "      <td>498.50</td>\n",
       "      <td>502.00</td>\n",
       "      <td>502.80</td>\n",
       "      <td>502.88</td>\n",
       "      <td>...</td>\n",
       "      <td>84189</td>\n",
       "      <td>2876528</td>\n",
       "      <td>44.64</td>\n",
       "      <td>0.259222</td>\n",
       "      <td>Slight or No change</td>\n",
       "      <td>NaN</td>\n",
       "      <td>NaN</td>\n",
       "      <td>NaN</td>\n",
       "      <td>NaN</td>\n",
       "      <td>None</td>\n",
       "    </tr>\n",
       "    <tr>\n",
       "      <th>2</th>\n",
       "      <td>2017-05-18</td>\n",
       "      <td>AXISBANK</td>\n",
       "      <td>EQ</td>\n",
       "      <td>502.80</td>\n",
       "      <td>498.00</td>\n",
       "      <td>499.10</td>\n",
       "      <td>490.25</td>\n",
       "      <td>492.85</td>\n",
       "      <td>492.00</td>\n",
       "      <td>494.96</td>\n",
       "      <td>...</td>\n",
       "      <td>95624</td>\n",
       "      <td>5348691</td>\n",
       "      <td>57.97</td>\n",
       "      <td>-2.147971</td>\n",
       "      <td>Negative</td>\n",
       "      <td>NaN</td>\n",
       "      <td>NaN</td>\n",
       "      <td>NaN</td>\n",
       "      <td>NaN</td>\n",
       "      <td>None</td>\n",
       "    </tr>\n",
       "    <tr>\n",
       "      <th>3</th>\n",
       "      <td>2017-05-19</td>\n",
       "      <td>AXISBANK</td>\n",
       "      <td>EQ</td>\n",
       "      <td>492.00</td>\n",
       "      <td>495.75</td>\n",
       "      <td>503.85</td>\n",
       "      <td>494.20</td>\n",
       "      <td>501.90</td>\n",
       "      <td>501.70</td>\n",
       "      <td>499.10</td>\n",
       "      <td>...</td>\n",
       "      <td>72985</td>\n",
       "      <td>4190505</td>\n",
       "      <td>55.06</td>\n",
       "      <td>1.971545</td>\n",
       "      <td>Positive</td>\n",
       "      <td>NaN</td>\n",
       "      <td>NaN</td>\n",
       "      <td>NaN</td>\n",
       "      <td>NaN</td>\n",
       "      <td>None</td>\n",
       "    </tr>\n",
       "    <tr>\n",
       "      <th>4</th>\n",
       "      <td>2017-05-22</td>\n",
       "      <td>AXISBANK</td>\n",
       "      <td>EQ</td>\n",
       "      <td>501.70</td>\n",
       "      <td>504.00</td>\n",
       "      <td>507.45</td>\n",
       "      <td>499.50</td>\n",
       "      <td>502.00</td>\n",
       "      <td>502.30</td>\n",
       "      <td>503.00</td>\n",
       "      <td>...</td>\n",
       "      <td>62027</td>\n",
       "      <td>2665857</td>\n",
       "      <td>53.63</td>\n",
       "      <td>0.119593</td>\n",
       "      <td>Slight or No change</td>\n",
       "      <td>NaN</td>\n",
       "      <td>NaN</td>\n",
       "      <td>NaN</td>\n",
       "      <td>NaN</td>\n",
       "      <td>None</td>\n",
       "    </tr>\n",
       "    <tr>\n",
       "      <th>...</th>\n",
       "      <td>...</td>\n",
       "      <td>...</td>\n",
       "      <td>...</td>\n",
       "      <td>...</td>\n",
       "      <td>...</td>\n",
       "      <td>...</td>\n",
       "      <td>...</td>\n",
       "      <td>...</td>\n",
       "      <td>...</td>\n",
       "      <td>...</td>\n",
       "      <td>...</td>\n",
       "      <td>...</td>\n",
       "      <td>...</td>\n",
       "      <td>...</td>\n",
       "      <td>...</td>\n",
       "      <td>...</td>\n",
       "      <td>...</td>\n",
       "      <td>...</td>\n",
       "      <td>...</td>\n",
       "      <td>...</td>\n",
       "      <td>...</td>\n",
       "    </tr>\n",
       "    <tr>\n",
       "      <th>488</th>\n",
       "      <td>2019-05-07</td>\n",
       "      <td>AXISBANK</td>\n",
       "      <td>EQ</td>\n",
       "      <td>747.45</td>\n",
       "      <td>751.85</td>\n",
       "      <td>755.50</td>\n",
       "      <td>740.00</td>\n",
       "      <td>744.85</td>\n",
       "      <td>741.85</td>\n",
       "      <td>748.48</td>\n",
       "      <td>...</td>\n",
       "      <td>141094</td>\n",
       "      <td>2404026</td>\n",
       "      <td>47.40</td>\n",
       "      <td>-0.749214</td>\n",
       "      <td>Slight negative</td>\n",
       "      <td>756.978571</td>\n",
       "      <td>9.724290</td>\n",
       "      <td>776.427151</td>\n",
       "      <td>737.529992</td>\n",
       "      <td>Hold Buy/ Liquidate short</td>\n",
       "    </tr>\n",
       "    <tr>\n",
       "      <th>489</th>\n",
       "      <td>2019-05-08</td>\n",
       "      <td>AXISBANK</td>\n",
       "      <td>EQ</td>\n",
       "      <td>741.85</td>\n",
       "      <td>741.90</td>\n",
       "      <td>744.75</td>\n",
       "      <td>733.35</td>\n",
       "      <td>735.10</td>\n",
       "      <td>735.50</td>\n",
       "      <td>737.58</td>\n",
       "      <td>...</td>\n",
       "      <td>118950</td>\n",
       "      <td>3373685</td>\n",
       "      <td>50.06</td>\n",
       "      <td>-0.855968</td>\n",
       "      <td>Slight negative</td>\n",
       "      <td>754.917857</td>\n",
       "      <td>11.013429</td>\n",
       "      <td>776.944715</td>\n",
       "      <td>732.890999</td>\n",
       "      <td>Hold Buy/ Liquidate short</td>\n",
       "    </tr>\n",
       "    <tr>\n",
       "      <th>490</th>\n",
       "      <td>2019-05-09</td>\n",
       "      <td>AXISBANK</td>\n",
       "      <td>EQ</td>\n",
       "      <td>735.50</td>\n",
       "      <td>733.90</td>\n",
       "      <td>740.50</td>\n",
       "      <td>729.40</td>\n",
       "      <td>732.35</td>\n",
       "      <td>731.00</td>\n",
       "      <td>734.60</td>\n",
       "      <td>...</td>\n",
       "      <td>75621</td>\n",
       "      <td>1409191</td>\n",
       "      <td>33.60</td>\n",
       "      <td>-0.611829</td>\n",
       "      <td>Slight negative</td>\n",
       "      <td>752.642857</td>\n",
       "      <td>12.445355</td>\n",
       "      <td>777.533568</td>\n",
       "      <td>727.752147</td>\n",
       "      <td>Hold Buy/ Liquidate short</td>\n",
       "    </tr>\n",
       "    <tr>\n",
       "      <th>491</th>\n",
       "      <td>2019-05-10</td>\n",
       "      <td>AXISBANK</td>\n",
       "      <td>EQ</td>\n",
       "      <td>731.00</td>\n",
       "      <td>734.40</td>\n",
       "      <td>738.50</td>\n",
       "      <td>729.50</td>\n",
       "      <td>732.55</td>\n",
       "      <td>735.05</td>\n",
       "      <td>735.71</td>\n",
       "      <td>...</td>\n",
       "      <td>114875</td>\n",
       "      <td>1569735</td>\n",
       "      <td>40.11</td>\n",
       "      <td>0.554036</td>\n",
       "      <td>Slight positive</td>\n",
       "      <td>750.067857</td>\n",
       "      <td>12.056097</td>\n",
       "      <td>774.180050</td>\n",
       "      <td>725.955664</td>\n",
       "      <td>Hold Buy/ Liquidate short</td>\n",
       "    </tr>\n",
       "    <tr>\n",
       "      <th>492</th>\n",
       "      <td>2019-05-13</td>\n",
       "      <td>AXISBANK</td>\n",
       "      <td>EQ</td>\n",
       "      <td>735.05</td>\n",
       "      <td>734.00</td>\n",
       "      <td>742.85</td>\n",
       "      <td>730.00</td>\n",
       "      <td>732.00</td>\n",
       "      <td>732.10</td>\n",
       "      <td>736.74</td>\n",
       "      <td>...</td>\n",
       "      <td>142075</td>\n",
       "      <td>2615724</td>\n",
       "      <td>44.40</td>\n",
       "      <td>-0.401333</td>\n",
       "      <td>Slight or No change</td>\n",
       "      <td>747.275000</td>\n",
       "      <td>11.288588</td>\n",
       "      <td>769.852175</td>\n",
       "      <td>724.697825</td>\n",
       "      <td>Hold Buy/ Liquidate short</td>\n",
       "    </tr>\n",
       "  </tbody>\n",
       "</table>\n",
       "<p>493 rows × 22 columns</p>\n",
       "</div>"
      ],
      "text/plain": [
       "           Date    Symbol Series  Prev Close  Open Price  High Price  \\\n",
       "0    2017-05-16  AXISBANK     EQ      500.10      502.10      504.50   \n",
       "1    2017-05-17  AXISBANK     EQ      501.50      501.35      506.75   \n",
       "2    2017-05-18  AXISBANK     EQ      502.80      498.00      499.10   \n",
       "3    2017-05-19  AXISBANK     EQ      492.00      495.75      503.85   \n",
       "4    2017-05-22  AXISBANK     EQ      501.70      504.00      507.45   \n",
       "..          ...       ...    ...         ...         ...         ...   \n",
       "488  2019-05-07  AXISBANK     EQ      747.45      751.85      755.50   \n",
       "489  2019-05-08  AXISBANK     EQ      741.85      741.90      744.75   \n",
       "490  2019-05-09  AXISBANK     EQ      735.50      733.90      740.50   \n",
       "491  2019-05-10  AXISBANK     EQ      731.00      734.40      738.50   \n",
       "492  2019-05-13  AXISBANK     EQ      735.05      734.00      742.85   \n",
       "\n",
       "     Low Price  Last Price  Close Price  Average Price  ...  No. of Trades  \\\n",
       "0       493.50      502.05       501.50         499.85  ...         101028   \n",
       "1       498.50      502.00       502.80         502.88  ...          84189   \n",
       "2       490.25      492.85       492.00         494.96  ...          95624   \n",
       "3       494.20      501.90       501.70         499.10  ...          72985   \n",
       "4       499.50      502.00       502.30         503.00  ...          62027   \n",
       "..         ...         ...          ...            ...  ...            ...   \n",
       "488     740.00      744.85       741.85         748.48  ...         141094   \n",
       "489     733.35      735.10       735.50         737.58  ...         118950   \n",
       "490     729.40      732.35       731.00         734.60  ...          75621   \n",
       "491     729.50      732.55       735.05         735.71  ...         114875   \n",
       "492     730.00      732.00       732.10         736.74  ...         142075   \n",
       "\n",
       "     Deliverable Qty  % Dly Qt to Traded Qty  Day_Perc_Change  \\\n",
       "0            4027982                   46.78         0.279944   \n",
       "1            2876528                   44.64         0.259222   \n",
       "2            5348691                   57.97        -2.147971   \n",
       "3            4190505                   55.06         1.971545   \n",
       "4            2665857                   53.63         0.119593   \n",
       "..               ...                     ...              ...   \n",
       "488          2404026                   47.40        -0.749214   \n",
       "489          3373685                   50.06        -0.855968   \n",
       "490          1409191                   33.60        -0.611829   \n",
       "491          1569735                   40.11         0.554036   \n",
       "492          2615724                   44.40        -0.401333   \n",
       "\n",
       "                   Trend  Middle_band     Std_14  Upper_band  Lower_band  \\\n",
       "0    Slight or No change          NaN        NaN         NaN         NaN   \n",
       "1    Slight or No change          NaN        NaN         NaN         NaN   \n",
       "2               Negative          NaN        NaN         NaN         NaN   \n",
       "3               Positive          NaN        NaN         NaN         NaN   \n",
       "4    Slight or No change          NaN        NaN         NaN         NaN   \n",
       "..                   ...          ...        ...         ...         ...   \n",
       "488      Slight negative   756.978571   9.724290  776.427151  737.529992   \n",
       "489      Slight negative   754.917857  11.013429  776.944715  732.890999   \n",
       "490      Slight negative   752.642857  12.445355  777.533568  727.752147   \n",
       "491      Slight positive   750.067857  12.056097  774.180050  725.955664   \n",
       "492  Slight or No change   747.275000  11.288588  769.852175  724.697825   \n",
       "\n",
       "                          Call  \n",
       "0                         None  \n",
       "1                         None  \n",
       "2                         None  \n",
       "3                         None  \n",
       "4                         None  \n",
       "..                         ...  \n",
       "488  Hold Buy/ Liquidate short  \n",
       "489  Hold Buy/ Liquidate short  \n",
       "490  Hold Buy/ Liquidate short  \n",
       "491  Hold Buy/ Liquidate short  \n",
       "492  Hold Buy/ Liquidate short  \n",
       "\n",
       "[493 rows x 22 columns]"
      ]
     },
     "execution_count": 64,
     "metadata": {},
     "output_type": "execute_result"
    }
   ],
   "source": [
    "df"
   ]
  },
  {
   "cell_type": "code",
   "execution_count": 65,
   "metadata": {},
   "outputs": [],
   "source": [
    "perc_change_open_close = (df['Close Price'].values/ df['Open Price'].values-1)*100"
   ]
  },
  {
   "cell_type": "code",
   "execution_count": 66,
   "metadata": {},
   "outputs": [],
   "source": [
    "perc_change_low_high = (df['High Price'].values/df['Low Price'].values -1)*100"
   ]
  },
  {
   "cell_type": "code",
   "execution_count": 67,
   "metadata": {},
   "outputs": [],
   "source": [
    "perc_change_close_mean = df['Close Price'].rolling(5).mean()"
   ]
  },
  {
   "cell_type": "code",
   "execution_count": 68,
   "metadata": {},
   "outputs": [],
   "source": [
    "perc_change_close_std = df['Close Price'].rolling(5).std()"
   ]
  },
  {
   "cell_type": "code",
   "execution_count": 69,
   "metadata": {},
   "outputs": [],
   "source": [
    "df['perc_change_open_close'] = perc_change_open_close\n",
    "df['perc_change_low_high'] = perc_change_low_high\n",
    "df['5_mean'] = perc_change_close_mean\n",
    "df['5_std'] = perc_change_close_std"
   ]
  },
  {
   "cell_type": "code",
   "execution_count": 70,
   "metadata": {
    "scrolled": true
   },
   "outputs": [
    {
     "data": {
      "text/html": [
       "<div>\n",
       "<style scoped>\n",
       "    .dataframe tbody tr th:only-of-type {\n",
       "        vertical-align: middle;\n",
       "    }\n",
       "\n",
       "    .dataframe tbody tr th {\n",
       "        vertical-align: top;\n",
       "    }\n",
       "\n",
       "    .dataframe thead th {\n",
       "        text-align: right;\n",
       "    }\n",
       "</style>\n",
       "<table border=\"1\" class=\"dataframe\">\n",
       "  <thead>\n",
       "    <tr style=\"text-align: right;\">\n",
       "      <th></th>\n",
       "      <th>Date</th>\n",
       "      <th>Symbol</th>\n",
       "      <th>Series</th>\n",
       "      <th>Prev Close</th>\n",
       "      <th>Open Price</th>\n",
       "      <th>High Price</th>\n",
       "      <th>Low Price</th>\n",
       "      <th>Last Price</th>\n",
       "      <th>Close Price</th>\n",
       "      <th>Average Price</th>\n",
       "      <th>...</th>\n",
       "      <th>Trend</th>\n",
       "      <th>Middle_band</th>\n",
       "      <th>Std_14</th>\n",
       "      <th>Upper_band</th>\n",
       "      <th>Lower_band</th>\n",
       "      <th>Call</th>\n",
       "      <th>perc_change_open_close</th>\n",
       "      <th>perc_change_low_high</th>\n",
       "      <th>5_mean</th>\n",
       "      <th>5_std</th>\n",
       "    </tr>\n",
       "  </thead>\n",
       "  <tbody>\n",
       "    <tr>\n",
       "      <th>0</th>\n",
       "      <td>2017-05-16</td>\n",
       "      <td>AXISBANK</td>\n",
       "      <td>EQ</td>\n",
       "      <td>500.1</td>\n",
       "      <td>502.10</td>\n",
       "      <td>504.50</td>\n",
       "      <td>493.50</td>\n",
       "      <td>502.05</td>\n",
       "      <td>501.5</td>\n",
       "      <td>499.85</td>\n",
       "      <td>...</td>\n",
       "      <td>Slight or No change</td>\n",
       "      <td>NaN</td>\n",
       "      <td>NaN</td>\n",
       "      <td>NaN</td>\n",
       "      <td>NaN</td>\n",
       "      <td>None</td>\n",
       "      <td>-0.119498</td>\n",
       "      <td>2.228977</td>\n",
       "      <td>NaN</td>\n",
       "      <td>NaN</td>\n",
       "    </tr>\n",
       "    <tr>\n",
       "      <th>1</th>\n",
       "      <td>2017-05-17</td>\n",
       "      <td>AXISBANK</td>\n",
       "      <td>EQ</td>\n",
       "      <td>501.5</td>\n",
       "      <td>501.35</td>\n",
       "      <td>506.75</td>\n",
       "      <td>498.50</td>\n",
       "      <td>502.00</td>\n",
       "      <td>502.8</td>\n",
       "      <td>502.88</td>\n",
       "      <td>...</td>\n",
       "      <td>Slight or No change</td>\n",
       "      <td>NaN</td>\n",
       "      <td>NaN</td>\n",
       "      <td>NaN</td>\n",
       "      <td>NaN</td>\n",
       "      <td>None</td>\n",
       "      <td>0.289219</td>\n",
       "      <td>1.654965</td>\n",
       "      <td>NaN</td>\n",
       "      <td>NaN</td>\n",
       "    </tr>\n",
       "    <tr>\n",
       "      <th>2</th>\n",
       "      <td>2017-05-18</td>\n",
       "      <td>AXISBANK</td>\n",
       "      <td>EQ</td>\n",
       "      <td>502.8</td>\n",
       "      <td>498.00</td>\n",
       "      <td>499.10</td>\n",
       "      <td>490.25</td>\n",
       "      <td>492.85</td>\n",
       "      <td>492.0</td>\n",
       "      <td>494.96</td>\n",
       "      <td>...</td>\n",
       "      <td>Negative</td>\n",
       "      <td>NaN</td>\n",
       "      <td>NaN</td>\n",
       "      <td>NaN</td>\n",
       "      <td>NaN</td>\n",
       "      <td>None</td>\n",
       "      <td>-1.204819</td>\n",
       "      <td>1.805201</td>\n",
       "      <td>NaN</td>\n",
       "      <td>NaN</td>\n",
       "    </tr>\n",
       "    <tr>\n",
       "      <th>3</th>\n",
       "      <td>2017-05-19</td>\n",
       "      <td>AXISBANK</td>\n",
       "      <td>EQ</td>\n",
       "      <td>492.0</td>\n",
       "      <td>495.75</td>\n",
       "      <td>503.85</td>\n",
       "      <td>494.20</td>\n",
       "      <td>501.90</td>\n",
       "      <td>501.7</td>\n",
       "      <td>499.10</td>\n",
       "      <td>...</td>\n",
       "      <td>Positive</td>\n",
       "      <td>NaN</td>\n",
       "      <td>NaN</td>\n",
       "      <td>NaN</td>\n",
       "      <td>NaN</td>\n",
       "      <td>None</td>\n",
       "      <td>1.200202</td>\n",
       "      <td>1.952651</td>\n",
       "      <td>NaN</td>\n",
       "      <td>NaN</td>\n",
       "    </tr>\n",
       "    <tr>\n",
       "      <th>4</th>\n",
       "      <td>2017-05-22</td>\n",
       "      <td>AXISBANK</td>\n",
       "      <td>EQ</td>\n",
       "      <td>501.7</td>\n",
       "      <td>504.00</td>\n",
       "      <td>507.45</td>\n",
       "      <td>499.50</td>\n",
       "      <td>502.00</td>\n",
       "      <td>502.3</td>\n",
       "      <td>503.00</td>\n",
       "      <td>...</td>\n",
       "      <td>Slight or No change</td>\n",
       "      <td>NaN</td>\n",
       "      <td>NaN</td>\n",
       "      <td>NaN</td>\n",
       "      <td>NaN</td>\n",
       "      <td>None</td>\n",
       "      <td>-0.337302</td>\n",
       "      <td>1.591592</td>\n",
       "      <td>500.06</td>\n",
       "      <td>4.534644</td>\n",
       "    </tr>\n",
       "  </tbody>\n",
       "</table>\n",
       "<p>5 rows × 26 columns</p>\n",
       "</div>"
      ],
      "text/plain": [
       "         Date    Symbol Series  Prev Close  Open Price  High Price  Low Price  \\\n",
       "0  2017-05-16  AXISBANK     EQ       500.1      502.10      504.50     493.50   \n",
       "1  2017-05-17  AXISBANK     EQ       501.5      501.35      506.75     498.50   \n",
       "2  2017-05-18  AXISBANK     EQ       502.8      498.00      499.10     490.25   \n",
       "3  2017-05-19  AXISBANK     EQ       492.0      495.75      503.85     494.20   \n",
       "4  2017-05-22  AXISBANK     EQ       501.7      504.00      507.45     499.50   \n",
       "\n",
       "   Last Price  Close Price  Average Price  ...                Trend  \\\n",
       "0      502.05        501.5         499.85  ...  Slight or No change   \n",
       "1      502.00        502.8         502.88  ...  Slight or No change   \n",
       "2      492.85        492.0         494.96  ...             Negative   \n",
       "3      501.90        501.7         499.10  ...             Positive   \n",
       "4      502.00        502.3         503.00  ...  Slight or No change   \n",
       "\n",
       "   Middle_band  Std_14  Upper_band  Lower_band  Call perc_change_open_close  \\\n",
       "0          NaN     NaN         NaN         NaN  None              -0.119498   \n",
       "1          NaN     NaN         NaN         NaN  None               0.289219   \n",
       "2          NaN     NaN         NaN         NaN  None              -1.204819   \n",
       "3          NaN     NaN         NaN         NaN  None               1.200202   \n",
       "4          NaN     NaN         NaN         NaN  None              -0.337302   \n",
       "\n",
       "   perc_change_low_high  5_mean     5_std  \n",
       "0              2.228977     NaN       NaN  \n",
       "1              1.654965     NaN       NaN  \n",
       "2              1.805201     NaN       NaN  \n",
       "3              1.952651     NaN       NaN  \n",
       "4              1.591592  500.06  4.534644  \n",
       "\n",
       "[5 rows x 26 columns]"
      ]
     },
     "execution_count": 70,
     "metadata": {},
     "output_type": "execute_result"
    }
   ],
   "source": [
    "df.head()"
   ]
  },
  {
   "cell_type": "code",
   "execution_count": 71,
   "metadata": {},
   "outputs": [],
   "source": [
    "def Action(data):\n",
    "    action =[]\n",
    "    for i in range(len(data)-1):\n",
    "        if data['Close Price'][i+1] > data['Close Price'][i]:\n",
    "            action.append(1)\n",
    "            \n",
    "        else:\n",
    "            action.append(-1)\n",
    "            \n",
    "    return action"
   ]
  },
  {
   "cell_type": "code",
   "execution_count": 72,
   "metadata": {},
   "outputs": [],
   "source": [
    "df['Action'] = Action(df) + ['NA']"
   ]
  },
  {
   "cell_type": "markdown",
   "metadata": {},
   "source": [
    "**As the last row won't have the Action column data and the first 4 rows due to rolling Avg.**"
   ]
  },
  {
   "cell_type": "code",
   "execution_count": 73,
   "metadata": {},
   "outputs": [],
   "source": [
    "X = df[['perc_change_open_close', 'perc_change_low_high', '5_mean', '5_std']].values[4:-1]"
   ]
  },
  {
   "cell_type": "code",
   "execution_count": 74,
   "metadata": {},
   "outputs": [],
   "source": [
    "y = df.Action.values[4:-1]"
   ]
  },
  {
   "cell_type": "markdown",
   "metadata": {},
   "source": [
    "Feature Scaling doesn't affect the efficiency in tree based models\n",
    "\n",
    "X = scaler.fit_transform(X)"
   ]
  },
  {
   "cell_type": "code",
   "execution_count": 75,
   "metadata": {
    "scrolled": true
   },
   "outputs": [],
   "source": [
    "y = label.fit_transform(y)"
   ]
  },
  {
   "cell_type": "markdown",
   "metadata": {},
   "source": [
    "#####  splitting the data-"
   ]
  },
  {
   "cell_type": "code",
   "execution_count": 76,
   "metadata": {},
   "outputs": [],
   "source": [
    "X_train, X_test, y_train, y_test = train_test_split(X, y, test_size = 0.25, shuffle =True)"
   ]
  },
  {
   "cell_type": "markdown",
   "metadata": {},
   "source": [
    "#### RandomForest Classifier"
   ]
  },
  {
   "cell_type": "code",
   "execution_count": 77,
   "metadata": {},
   "outputs": [],
   "source": [
    "from sklearn.ensemble import RandomForestClassifier\n",
    "from sklearn.model_selection import RandomizedSearchCV, GridSearchCV\n",
    "from sklearn.metrics import classification_report"
   ]
  },
  {
   "cell_type": "code",
   "execution_count": 78,
   "metadata": {},
   "outputs": [],
   "source": [
    "rfc_classie = RandomForestClassifier(n_estimators = 1000, max_depth =10 ,min_samples_split =2,\n",
    "                                     max_features='auto', min_samples_leaf= 1)"
   ]
  },
  {
   "cell_type": "code",
   "execution_count": 79,
   "metadata": {},
   "outputs": [
    {
     "data": {
      "text/plain": [
       "RandomForestClassifier(bootstrap=True, ccp_alpha=0.0, class_weight=None,\n",
       "                       criterion='gini', max_depth=10, max_features='auto',\n",
       "                       max_leaf_nodes=None, max_samples=None,\n",
       "                       min_impurity_decrease=0.0, min_impurity_split=None,\n",
       "                       min_samples_leaf=1, min_samples_split=2,\n",
       "                       min_weight_fraction_leaf=0.0, n_estimators=1000,\n",
       "                       n_jobs=None, oob_score=False, random_state=None,\n",
       "                       verbose=0, warm_start=False)"
      ]
     },
     "execution_count": 79,
     "metadata": {},
     "output_type": "execute_result"
    }
   ],
   "source": [
    "rfc_classie.fit(X_train, y_train)"
   ]
  },
  {
   "cell_type": "code",
   "execution_count": 80,
   "metadata": {},
   "outputs": [],
   "source": [
    "y_pred = rfc_classie.predict(X_test)"
   ]
  },
  {
   "cell_type": "code",
   "execution_count": 81,
   "metadata": {},
   "outputs": [
    {
     "name": "stdout",
     "output_type": "stream",
     "text": [
      "Accuracy score  0.5327868852459017\n"
     ]
    }
   ],
   "source": [
    "print(\"Accuracy score \", accuracy_score(y_test, y_pred))"
   ]
  },
  {
   "cell_type": "code",
   "execution_count": 82,
   "metadata": {},
   "outputs": [],
   "source": [
    "cf = confusion_matrix(y_test, y_pred)"
   ]
  },
  {
   "cell_type": "code",
   "execution_count": 83,
   "metadata": {},
   "outputs": [
    {
     "data": {
      "text/plain": [
       "Text(184.92000000000007, 0.5, 'Truth')"
      ]
     },
     "execution_count": 83,
     "metadata": {},
     "output_type": "execute_result"
    },
    {
     "data": {
      "image/png": "[encoded data removed]",
      "text/plain": [
       "<Figure size 1152x864 with 2 Axes>"
      ]
     },
     "metadata": {
      "needs_background": "light"
     },
     "output_type": "display_data"
    }
   ],
   "source": [
    "%matplotlib inline\n",
    "plt.figure(figsize =(16,12))\n",
    "seaborn.heatmap(cf, annot =True, square =True)\n",
    "plt.xlabel('Predicted')\n",
    "plt.ylabel('Truth')"
   ]
  },
  {
   "cell_type": "markdown",
   "metadata": {},
   "source": [
    "#### Hyperparameter Tuning"
   ]
  },
  {
   "cell_type": "code",
   "execution_count": 84,
   "metadata": {},
   "outputs": [],
   "source": [
    "rfc = RandomForestClassifier()"
   ]
  },
  {
   "cell_type": "code",
   "execution_count": 85,
   "metadata": {},
   "outputs": [],
   "source": [
    "# random parameters\n",
    "n_estimators =[30,60,120,240,300,450,550,670]\n",
    "\n",
    "# number of features at every split\n",
    "max_features = ['auto', 'sqrt']\n",
    "\n",
    "max_depth = [7,8,9,10,12,14,15]\n",
    "\n",
    "# random grid\n",
    "random_grid ={'n_estimators':n_estimators,\n",
    "             'max_features':max_features,\n",
    "             'max_depth':max_depth,\n",
    "             'min_samples_leaf':[1,2,4,5,6,7]}"
   ]
  },
  {
   "cell_type": "code",
   "execution_count": 86,
   "metadata": {},
   "outputs": [
    {
     "data": {
      "text/plain": [
       "RandomizedSearchCV(cv=10, error_score=nan,\n",
       "                   estimator=RandomForestClassifier(bootstrap=True,\n",
       "                                                    ccp_alpha=0.0,\n",
       "                                                    class_weight=None,\n",
       "                                                    criterion='gini',\n",
       "                                                    max_depth=None,\n",
       "                                                    max_features='auto',\n",
       "                                                    max_leaf_nodes=None,\n",
       "                                                    max_samples=None,\n",
       "                                                    min_impurity_decrease=0.0,\n",
       "                                                    min_impurity_split=None,\n",
       "                                                    min_samples_leaf=1,\n",
       "                                                    min_samples_split=2,\n",
       "                                                    min_weight_fraction_leaf=0.0,\n",
       "                                                    n_estimators=100,\n",
       "                                                    n_job...\n",
       "                                                    random_state=None,\n",
       "                                                    verbose=0,\n",
       "                                                    warm_start=False),\n",
       "                   iid='deprecated', n_iter=10, n_jobs=-1,\n",
       "                   param_distributions={'max_depth': [7, 8, 9, 10, 12, 14, 15],\n",
       "                                        'max_features': ['auto', 'sqrt'],\n",
       "                                        'min_samples_leaf': [1, 2, 4, 5, 6, 7],\n",
       "                                        'n_estimators': [30, 60, 120, 240, 300,\n",
       "                                                         450, 550, 670]},\n",
       "                   pre_dispatch='2*n_jobs', random_state=None, refit=True,\n",
       "                   return_train_score=False, scoring='accuracy', verbose=0)"
      ]
     },
     "execution_count": 86,
     "metadata": {},
     "output_type": "execute_result"
    }
   ],
   "source": [
    "rfc_random = RandomizedSearchCV(estimator =rfc, param_distributions= random_grid, cv =  10, scoring = 'accuracy',\n",
    "                            n_iter=10, n_jobs=-1)\n",
    "\n",
    "rfc_random.fit(X_train, y_train)"
   ]
  },
  {
   "cell_type": "code",
   "execution_count": 87,
   "metadata": {},
   "outputs": [
    {
     "data": {
      "text/plain": [
       "{'n_estimators': 60,\n",
       " 'min_samples_leaf': 6,\n",
       " 'max_features': 'sqrt',\n",
       " 'max_depth': 8}"
      ]
     },
     "execution_count": 87,
     "metadata": {},
     "output_type": "execute_result"
    }
   ],
   "source": [
    "rfc_random.best_params_"
   ]
  },
  {
   "cell_type": "code",
   "execution_count": 88,
   "metadata": {},
   "outputs": [
    {
     "data": {
      "text/plain": [
       "0.5112612612612613"
      ]
     },
     "execution_count": 88,
     "metadata": {},
     "output_type": "execute_result"
    }
   ],
   "source": [
    "rfc_random.best_score_"
   ]
  },
  {
   "cell_type": "code",
   "execution_count": 89,
   "metadata": {},
   "outputs": [
    {
     "data": {
      "text/plain": [
       "RandomForestClassifier(bootstrap=True, ccp_alpha=0.0, class_weight=None,\n",
       "                       criterion='gini', max_depth=12, max_features='auto',\n",
       "                       max_leaf_nodes=None, max_samples=None,\n",
       "                       min_impurity_decrease=0.0, min_impurity_split=None,\n",
       "                       min_samples_leaf=4, min_samples_split=2,\n",
       "                       min_weight_fraction_leaf=0.0, n_estimators=670,\n",
       "                       n_jobs=None, oob_score=False, random_state=None,\n",
       "                       verbose=0, warm_start=False)"
      ]
     },
     "execution_count": 89,
     "metadata": {},
     "output_type": "execute_result"
    }
   ],
   "source": [
    "tuned_rfc = RandomForestClassifier(n_estimators = 670, max_features ='auto', max_depth =12, min_samples_leaf=4)\n",
    "tuned_rfc.fit(X_train, y_train)"
   ]
  },
  {
   "cell_type": "code",
   "execution_count": 90,
   "metadata": {},
   "outputs": [],
   "source": [
    "y_pred_tuned = tuned_rfc.predict(X_test)"
   ]
  },
  {
   "cell_type": "code",
   "execution_count": 91,
   "metadata": {},
   "outputs": [
    {
     "data": {
      "text/plain": [
       "0.5491803278688525"
      ]
     },
     "execution_count": 91,
     "metadata": {},
     "output_type": "execute_result"
    }
   ],
   "source": [
    "accuracy_score(y_test, y_pred_tuned)"
   ]
  },
  {
   "cell_type": "markdown",
   "metadata": {},
   "source": [
    "This low accuracy can be attributed to the fact that random forest is an ensemble type model and we have a very small dataset to train it. Thus, even after parameter tuning, the result couldn't cross 60% accuracy"
   ]
  },
  {
   "cell_type": "code",
   "execution_count": 92,
   "metadata": {},
   "outputs": [],
   "source": [
    "cf_tuned = confusion_matrix(y_test, y_pred)"
   ]
  },
  {
   "cell_type": "code",
   "execution_count": 93,
   "metadata": {},
   "outputs": [
    {
     "data": {
      "text/plain": [
       "0.4976726726726727"
      ]
     },
     "execution_count": 93,
     "metadata": {},
     "output_type": "execute_result"
    }
   ],
   "source": [
    "cf = cross_val_score(tuned_rfc, X_train, y =y_train, cv =10, n_jobs =-1)\n",
    "cf.mean()"
   ]
  },
  {
   "cell_type": "markdown",
   "metadata": {},
   "source": [
    "#### Cumulative % returm"
   ]
  },
  {
   "cell_type": "code",
   "execution_count": 94,
   "metadata": {},
   "outputs": [
    {
     "data": {
      "text/html": [
       "<div>\n",
       "<style scoped>\n",
       "    .dataframe tbody tr th:only-of-type {\n",
       "        vertical-align: middle;\n",
       "    }\n",
       "\n",
       "    .dataframe tbody tr th {\n",
       "        vertical-align: top;\n",
       "    }\n",
       "\n",
       "    .dataframe thead th {\n",
       "        text-align: right;\n",
       "    }\n",
       "</style>\n",
       "<table border=\"1\" class=\"dataframe\">\n",
       "  <thead>\n",
       "    <tr style=\"text-align: right;\">\n",
       "      <th></th>\n",
       "      <th>Date</th>\n",
       "      <th>Symbol</th>\n",
       "      <th>Series</th>\n",
       "      <th>Prev Close</th>\n",
       "      <th>Open Price</th>\n",
       "      <th>High Price</th>\n",
       "      <th>Low Price</th>\n",
       "      <th>Last Price</th>\n",
       "      <th>Close Price</th>\n",
       "      <th>Average Price</th>\n",
       "      <th>...</th>\n",
       "      <th>Middle_band</th>\n",
       "      <th>Std_14</th>\n",
       "      <th>Upper_band</th>\n",
       "      <th>Lower_band</th>\n",
       "      <th>Call</th>\n",
       "      <th>perc_change_open_close</th>\n",
       "      <th>perc_change_low_high</th>\n",
       "      <th>5_mean</th>\n",
       "      <th>5_std</th>\n",
       "      <th>Action</th>\n",
       "    </tr>\n",
       "  </thead>\n",
       "  <tbody>\n",
       "    <tr>\n",
       "      <th>0</th>\n",
       "      <td>2017-05-16</td>\n",
       "      <td>AXISBANK</td>\n",
       "      <td>EQ</td>\n",
       "      <td>500.10</td>\n",
       "      <td>502.10</td>\n",
       "      <td>504.50</td>\n",
       "      <td>493.50</td>\n",
       "      <td>502.05</td>\n",
       "      <td>501.50</td>\n",
       "      <td>499.85</td>\n",
       "      <td>...</td>\n",
       "      <td>NaN</td>\n",
       "      <td>NaN</td>\n",
       "      <td>NaN</td>\n",
       "      <td>NaN</td>\n",
       "      <td>None</td>\n",
       "      <td>-0.119498</td>\n",
       "      <td>2.228977</td>\n",
       "      <td>NaN</td>\n",
       "      <td>NaN</td>\n",
       "      <td>1</td>\n",
       "    </tr>\n",
       "    <tr>\n",
       "      <th>1</th>\n",
       "      <td>2017-05-17</td>\n",
       "      <td>AXISBANK</td>\n",
       "      <td>EQ</td>\n",
       "      <td>501.50</td>\n",
       "      <td>501.35</td>\n",
       "      <td>506.75</td>\n",
       "      <td>498.50</td>\n",
       "      <td>502.00</td>\n",
       "      <td>502.80</td>\n",
       "      <td>502.88</td>\n",
       "      <td>...</td>\n",
       "      <td>NaN</td>\n",
       "      <td>NaN</td>\n",
       "      <td>NaN</td>\n",
       "      <td>NaN</td>\n",
       "      <td>None</td>\n",
       "      <td>0.289219</td>\n",
       "      <td>1.654965</td>\n",
       "      <td>NaN</td>\n",
       "      <td>NaN</td>\n",
       "      <td>-1</td>\n",
       "    </tr>\n",
       "    <tr>\n",
       "      <th>2</th>\n",
       "      <td>2017-05-18</td>\n",
       "      <td>AXISBANK</td>\n",
       "      <td>EQ</td>\n",
       "      <td>502.80</td>\n",
       "      <td>498.00</td>\n",
       "      <td>499.10</td>\n",
       "      <td>490.25</td>\n",
       "      <td>492.85</td>\n",
       "      <td>492.00</td>\n",
       "      <td>494.96</td>\n",
       "      <td>...</td>\n",
       "      <td>NaN</td>\n",
       "      <td>NaN</td>\n",
       "      <td>NaN</td>\n",
       "      <td>NaN</td>\n",
       "      <td>None</td>\n",
       "      <td>-1.204819</td>\n",
       "      <td>1.805201</td>\n",
       "      <td>NaN</td>\n",
       "      <td>NaN</td>\n",
       "      <td>1</td>\n",
       "    </tr>\n",
       "    <tr>\n",
       "      <th>3</th>\n",
       "      <td>2017-05-19</td>\n",
       "      <td>AXISBANK</td>\n",
       "      <td>EQ</td>\n",
       "      <td>492.00</td>\n",
       "      <td>495.75</td>\n",
       "      <td>503.85</td>\n",
       "      <td>494.20</td>\n",
       "      <td>501.90</td>\n",
       "      <td>501.70</td>\n",
       "      <td>499.10</td>\n",
       "      <td>...</td>\n",
       "      <td>NaN</td>\n",
       "      <td>NaN</td>\n",
       "      <td>NaN</td>\n",
       "      <td>NaN</td>\n",
       "      <td>None</td>\n",
       "      <td>1.200202</td>\n",
       "      <td>1.952651</td>\n",
       "      <td>NaN</td>\n",
       "      <td>NaN</td>\n",
       "      <td>1</td>\n",
       "    </tr>\n",
       "    <tr>\n",
       "      <th>4</th>\n",
       "      <td>2017-05-22</td>\n",
       "      <td>AXISBANK</td>\n",
       "      <td>EQ</td>\n",
       "      <td>501.70</td>\n",
       "      <td>504.00</td>\n",
       "      <td>507.45</td>\n",
       "      <td>499.50</td>\n",
       "      <td>502.00</td>\n",
       "      <td>502.30</td>\n",
       "      <td>503.00</td>\n",
       "      <td>...</td>\n",
       "      <td>NaN</td>\n",
       "      <td>NaN</td>\n",
       "      <td>NaN</td>\n",
       "      <td>NaN</td>\n",
       "      <td>None</td>\n",
       "      <td>-0.337302</td>\n",
       "      <td>1.591592</td>\n",
       "      <td>500.06</td>\n",
       "      <td>4.534644</td>\n",
       "      <td>-1</td>\n",
       "    </tr>\n",
       "    <tr>\n",
       "      <th>5</th>\n",
       "      <td>2017-05-23</td>\n",
       "      <td>AXISBANK</td>\n",
       "      <td>EQ</td>\n",
       "      <td>502.30</td>\n",
       "      <td>502.25</td>\n",
       "      <td>506.10</td>\n",
       "      <td>495.20</td>\n",
       "      <td>500.50</td>\n",
       "      <td>500.60</td>\n",
       "      <td>500.17</td>\n",
       "      <td>...</td>\n",
       "      <td>NaN</td>\n",
       "      <td>NaN</td>\n",
       "      <td>NaN</td>\n",
       "      <td>NaN</td>\n",
       "      <td>None</td>\n",
       "      <td>-0.328522</td>\n",
       "      <td>2.201131</td>\n",
       "      <td>499.88</td>\n",
       "      <td>4.480737</td>\n",
       "      <td>-1</td>\n",
       "    </tr>\n",
       "    <tr>\n",
       "      <th>6</th>\n",
       "      <td>2017-05-24</td>\n",
       "      <td>AXISBANK</td>\n",
       "      <td>EQ</td>\n",
       "      <td>500.60</td>\n",
       "      <td>503.00</td>\n",
       "      <td>505.00</td>\n",
       "      <td>495.00</td>\n",
       "      <td>499.65</td>\n",
       "      <td>499.30</td>\n",
       "      <td>498.39</td>\n",
       "      <td>...</td>\n",
       "      <td>NaN</td>\n",
       "      <td>NaN</td>\n",
       "      <td>NaN</td>\n",
       "      <td>NaN</td>\n",
       "      <td>None</td>\n",
       "      <td>-0.735586</td>\n",
       "      <td>2.020202</td>\n",
       "      <td>499.18</td>\n",
       "      <td>4.173368</td>\n",
       "      <td>1</td>\n",
       "    </tr>\n",
       "    <tr>\n",
       "      <th>7</th>\n",
       "      <td>2017-05-25</td>\n",
       "      <td>AXISBANK</td>\n",
       "      <td>EQ</td>\n",
       "      <td>499.30</td>\n",
       "      <td>502.00</td>\n",
       "      <td>509.90</td>\n",
       "      <td>495.85</td>\n",
       "      <td>507.85</td>\n",
       "      <td>507.45</td>\n",
       "      <td>504.39</td>\n",
       "      <td>...</td>\n",
       "      <td>NaN</td>\n",
       "      <td>NaN</td>\n",
       "      <td>NaN</td>\n",
       "      <td>NaN</td>\n",
       "      <td>None</td>\n",
       "      <td>1.085657</td>\n",
       "      <td>2.833518</td>\n",
       "      <td>502.27</td>\n",
       "      <td>3.113198</td>\n",
       "      <td>1</td>\n",
       "    </tr>\n",
       "    <tr>\n",
       "      <th>8</th>\n",
       "      <td>2017-05-26</td>\n",
       "      <td>AXISBANK</td>\n",
       "      <td>EQ</td>\n",
       "      <td>507.45</td>\n",
       "      <td>508.00</td>\n",
       "      <td>513.00</td>\n",
       "      <td>505.00</td>\n",
       "      <td>510.50</td>\n",
       "      <td>511.45</td>\n",
       "      <td>508.86</td>\n",
       "      <td>...</td>\n",
       "      <td>NaN</td>\n",
       "      <td>NaN</td>\n",
       "      <td>NaN</td>\n",
       "      <td>NaN</td>\n",
       "      <td>None</td>\n",
       "      <td>0.679134</td>\n",
       "      <td>1.584158</td>\n",
       "      <td>504.22</td>\n",
       "      <td>5.091733</td>\n",
       "      <td>-1</td>\n",
       "    </tr>\n",
       "    <tr>\n",
       "      <th>9</th>\n",
       "      <td>2017-05-29</td>\n",
       "      <td>AXISBANK</td>\n",
       "      <td>EQ</td>\n",
       "      <td>511.45</td>\n",
       "      <td>511.90</td>\n",
       "      <td>515.00</td>\n",
       "      <td>502.20</td>\n",
       "      <td>507.45</td>\n",
       "      <td>507.25</td>\n",
       "      <td>507.58</td>\n",
       "      <td>...</td>\n",
       "      <td>NaN</td>\n",
       "      <td>NaN</td>\n",
       "      <td>NaN</td>\n",
       "      <td>NaN</td>\n",
       "      <td>None</td>\n",
       "      <td>-0.908381</td>\n",
       "      <td>2.548785</td>\n",
       "      <td>505.21</td>\n",
       "      <td>5.106295</td>\n",
       "      <td>1</td>\n",
       "    </tr>\n",
       "  </tbody>\n",
       "</table>\n",
       "<p>10 rows × 27 columns</p>\n",
       "</div>"
      ],
      "text/plain": [
       "         Date    Symbol Series  Prev Close  Open Price  High Price  Low Price  \\\n",
       "0  2017-05-16  AXISBANK     EQ      500.10      502.10      504.50     493.50   \n",
       "1  2017-05-17  AXISBANK     EQ      501.50      501.35      506.75     498.50   \n",
       "2  2017-05-18  AXISBANK     EQ      502.80      498.00      499.10     490.25   \n",
       "3  2017-05-19  AXISBANK     EQ      492.00      495.75      503.85     494.20   \n",
       "4  2017-05-22  AXISBANK     EQ      501.70      504.00      507.45     499.50   \n",
       "5  2017-05-23  AXISBANK     EQ      502.30      502.25      506.10     495.20   \n",
       "6  2017-05-24  AXISBANK     EQ      500.60      503.00      505.00     495.00   \n",
       "7  2017-05-25  AXISBANK     EQ      499.30      502.00      509.90     495.85   \n",
       "8  2017-05-26  AXISBANK     EQ      507.45      508.00      513.00     505.00   \n",
       "9  2017-05-29  AXISBANK     EQ      511.45      511.90      515.00     502.20   \n",
       "\n",
       "   Last Price  Close Price  Average Price  ...  Middle_band  Std_14  \\\n",
       "0      502.05       501.50         499.85  ...          NaN     NaN   \n",
       "1      502.00       502.80         502.88  ...          NaN     NaN   \n",
       "2      492.85       492.00         494.96  ...          NaN     NaN   \n",
       "3      501.90       501.70         499.10  ...          NaN     NaN   \n",
       "4      502.00       502.30         503.00  ...          NaN     NaN   \n",
       "5      500.50       500.60         500.17  ...          NaN     NaN   \n",
       "6      499.65       499.30         498.39  ...          NaN     NaN   \n",
       "7      507.85       507.45         504.39  ...          NaN     NaN   \n",
       "8      510.50       511.45         508.86  ...          NaN     NaN   \n",
       "9      507.45       507.25         507.58  ...          NaN     NaN   \n",
       "\n",
       "   Upper_band  Lower_band  Call  perc_change_open_close perc_change_low_high  \\\n",
       "0         NaN         NaN  None               -0.119498             2.228977   \n",
       "1         NaN         NaN  None                0.289219             1.654965   \n",
       "2         NaN         NaN  None               -1.204819             1.805201   \n",
       "3         NaN         NaN  None                1.200202             1.952651   \n",
       "4         NaN         NaN  None               -0.337302             1.591592   \n",
       "5         NaN         NaN  None               -0.328522             2.201131   \n",
       "6         NaN         NaN  None               -0.735586             2.020202   \n",
       "7         NaN         NaN  None                1.085657             2.833518   \n",
       "8         NaN         NaN  None                0.679134             1.584158   \n",
       "9         NaN         NaN  None               -0.908381             2.548785   \n",
       "\n",
       "   5_mean     5_std  Action  \n",
       "0     NaN       NaN       1  \n",
       "1     NaN       NaN      -1  \n",
       "2     NaN       NaN       1  \n",
       "3     NaN       NaN       1  \n",
       "4  500.06  4.534644      -1  \n",
       "5  499.88  4.480737      -1  \n",
       "6  499.18  4.173368       1  \n",
       "7  502.27  3.113198       1  \n",
       "8  504.22  5.091733      -1  \n",
       "9  505.21  5.106295       1  \n",
       "\n",
       "[10 rows x 27 columns]"
      ]
     },
     "execution_count": 94,
     "metadata": {},
     "output_type": "execute_result"
    }
   ],
   "source": [
    "df[:10]"
   ]
  },
  {
   "cell_type": "code",
   "execution_count": 95,
   "metadata": {
    "scrolled": true
   },
   "outputs": [],
   "source": [
    "pred_actions = tuned_rfc.predict(X)"
   ]
  },
  {
   "cell_type": "code",
   "execution_count": 96,
   "metadata": {},
   "outputs": [],
   "source": [
    "pred_actions = [d if d==1 else -1 for d in pred_actions]"
   ]
  },
  {
   "cell_type": "code",
   "execution_count": 97,
   "metadata": {
    "scrolled": true
   },
   "outputs": [],
   "source": [
    "df['pred_actions'] = (['NA']*4 + pred_actions + ['NA'])"
   ]
  },
  {
   "cell_type": "markdown",
   "metadata": {},
   "source": [
    "$ cumulative = (current price - original price)/original price $"
   ]
  },
  {
   "cell_type": "code",
   "execution_count": 98,
   "metadata": {},
   "outputs": [],
   "source": [
    "day_wise_returns =(df['Close Price'].values[5:]/ df['Close Price'].values[5]-1)"
   ]
  },
  {
   "cell_type": "code",
   "execution_count": 99,
   "metadata": {},
   "outputs": [
    {
     "data": {
      "text/plain": [
       "array([ 0.        , -0.00259688,  0.01368358,  0.02167399,  0.01328406,\n",
       "        0.02756692,  0.02686776,  0.01737915,  0.01488214,  0.02606872])"
      ]
     },
     "execution_count": 99,
     "metadata": {},
     "output_type": "execute_result"
    }
   ],
   "source": [
    "day_wise_returns[:10]"
   ]
  },
  {
   "cell_type": "code",
   "execution_count": 100,
   "metadata": {},
   "outputs": [],
   "source": [
    "day_wise_returns = list(day_wise_returns)"
   ]
  },
  {
   "cell_type": "code",
   "execution_count": 101,
   "metadata": {
    "scrolled": true
   },
   "outputs": [],
   "source": [
    "df['day_wise_returns'] = ([0]*4 + day_wise_returns +[0])"
   ]
  },
  {
   "cell_type": "code",
   "execution_count": 102,
   "metadata": {},
   "outputs": [],
   "source": [
    "algo_cumulative_returns = df.pred_actions.values[4:-1] * df.day_wise_returns.values[4:-1]"
   ]
  },
  {
   "cell_type": "code",
   "execution_count": 103,
   "metadata": {},
   "outputs": [
    {
     "data": {
      "text/plain": [
       "488"
      ]
     },
     "execution_count": 103,
     "metadata": {},
     "output_type": "execute_result"
    }
   ],
   "source": [
    "len(algo_cumulative_returns)"
   ]
  },
  {
   "cell_type": "code",
   "execution_count": 104,
   "metadata": {},
   "outputs": [],
   "source": [
    "algo_cumulative_returns = [0]*4 + list(algo_cumulative_returns) + [0]"
   ]
  },
  {
   "cell_type": "code",
   "execution_count": 105,
   "metadata": {},
   "outputs": [
    {
     "data": {
      "text/plain": [
       "493"
      ]
     },
     "execution_count": 105,
     "metadata": {},
     "output_type": "execute_result"
    }
   ],
   "source": [
    "len(algo_cumulative_returns)"
   ]
  },
  {
   "cell_type": "code",
   "execution_count": 106,
   "metadata": {
    "scrolled": true
   },
   "outputs": [],
   "source": [
    "df['algo_cumulative_returns'] = algo_cumulative_returns"
   ]
  },
  {
   "cell_type": "code",
   "execution_count": 109,
   "metadata": {},
   "outputs": [],
   "source": [
    "df['algo_cumulative_returns'] = df['algo_cumulative_returns'].cumsum()"
   ]
  },
  {
   "cell_type": "code",
   "execution_count": 110,
   "metadata": {
    "scrolled": false
   },
   "outputs": [
    {
     "data": {
      "text/plain": [
       "Text(0, 0.5, 'Returns')"
      ]
     },
     "execution_count": 110,
     "metadata": {},
     "output_type": "execute_result"
    },
    {
     "data": {
      "image/png": "[encoded data removed]",
      "text/plain": [
       "<Figure size 1152x576 with 1 Axes>"
      ]
     },
     "metadata": {
      "needs_background": "light"
     },
     "output_type": "display_data"
    }
   ],
   "source": [
    "plt.figure(figsize =(16,8))\n",
    "seaborn.lineplot(y = df.algo_cumulative_returns.values[4:], x = df['Close Price'].values[4:], data =df)\n",
    "plt.xlabel(\"Price\")\n",
    "plt.ylabel(\"Returns\")"
   ]
  },
  {
   "cell_type": "code",
   "execution_count": null,
   "metadata": {},
   "outputs": [],
   "source": []
  }
 ],
 "metadata": {
  "kernelspec": {
   "display_name": "Python 3",
   "language": "python",
   "name": "python3"
  },
  "language_info": {
   "codemirror_mode": {
    "name": "ipython",
    "version": 3
   },
   "file_extension": ".py",
   "mimetype": "text/x-python",
   "name": "python",
   "nbconvert_exporter": "python",
   "pygments_lexer": "ipython3",
   "version": "3.7.6"
  }
 },
 "nbformat": 4,
 "nbformat_minor": 4
}
