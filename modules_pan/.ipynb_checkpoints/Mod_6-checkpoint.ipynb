{
 "cells": [
  {
   "cell_type": "markdown",
   "metadata": {},
   "source": [
    "# Module 6\n",
    "## Allotted Company : Bajaj Electricals"
   ]
  },
  {
   "cell_type": "markdown",
   "metadata": {},
   "source": [
    "### 6.1 Create a table/data frame with the closing prices of 30 different stocks, with 10 from each of the caps"
   ]
  },
  {
   "cell_type": "code",
   "execution_count": 247,
   "metadata": {},
   "outputs": [],
   "source": [
    "import pandas as pd\n",
    "import numpy as np\n",
    "import matplotlib.pyplot as plt\n",
    "import seaborn as sea"
   ]
  },
  {
   "cell_type": "markdown",
   "metadata": {},
   "source": [
    "A function to get the closing prices of the stock."
   ]
  },
  {
   "cell_type": "code",
   "execution_count": 248,
   "metadata": {},
   "outputs": [],
   "source": [
    "def get_data(path):\n",
    "    data = pd.read_csv(path)\n",
    "    return data['Close Price']"
   ]
  },
  {
   "cell_type": "markdown",
   "metadata": {},
   "source": [
    "A function to store the name of the companies as keys and the close prices as list of values in a dictionary."
   ]
  },
  {
   "cell_type": "code",
   "execution_count": 249,
   "metadata": {},
   "outputs": [],
   "source": [
    "def frame(paths):\n",
    "    table = {}\n",
    "    for p in paths:\n",
    "        table[p.split('/')[2].split('.')[0]] = get_data(p)\n",
    "    return table"
   ]
  },
  {
   "cell_type": "markdown",
   "metadata": {},
   "source": [
    "In order to retrieve the names, I have used the following logic."
   ]
  },
  {
   "cell_type": "code",
   "execution_count": 250,
   "metadata": {},
   "outputs": [],
   "source": [
    "p = './Small_Cap/BAJAJELEC.csv'"
   ]
  },
  {
   "cell_type": "code",
   "execution_count": 251,
   "metadata": {},
   "outputs": [
    {
     "data": {
      "text/plain": [
       "'BAJAJELEC'"
      ]
     },
     "execution_count": 251,
     "metadata": {},
     "output_type": "execute_result"
    }
   ],
   "source": [
    "p.split('/')[2].split('.')[0]"
   ]
  },
  {
   "cell_type": "markdown",
   "metadata": {},
   "source": [
    "list of companies"
   ]
  },
  {
   "cell_type": "code",
   "execution_count": 254,
   "metadata": {},
   "outputs": [],
   "source": [
    "paths = ['./Small_Cap/BAJAJELEC.csv','./Small_Cap/RAYMOND.csv', './Small_Cap/RCOM.csv', './Small_Cap/PVR.csv', './Small_Cap/JETAIRWAYS.csv',\n",
    "        './Small_Cap/NCC.csv', './Small_Cap/VENKEYS.csv', './Small_Cap/CENTURYPLY.csv', './Small_Cap/FORTIS.csv', './Small_Cap/ITDC.csv',\n",
    "        './Mid_Cap/ADANIPOWER.csv', './Mid_Cap/APOLLOTYRE.csv', './Mid_Cap/GODREJIND.csv', './Mid_Cap/TATACHEM.csv', './Mid_Cap/IDBI.csv',\n",
    "        './Mid_Cap/NBCC.csv', './Mid_Cap/CASTROLIND.csv', './Mid_Cap/PNB.csv', './Mid_Cap/EXIDEIND.csv', './Mid_Cap/JINDALSTEL.csv',\n",
    "        './Large_Cap/RELIANCE.csv', './Large_Cap/HEROMOTOCO.csv', './Large_Cap/TCS.csv', './Large_Cap/TITAN.csv', './Large_Cap/GAIL.csv',\n",
    "        './Large_Cap/MARUTI.csv', './Large_Cap/INFY.csv', './Large_Cap/ASIANPAINT.csv', './Large_Cap/M&M.csv', './Large_Cap/ITC.csv']"
   ]
  },
  {
   "cell_type": "code",
   "execution_count": 255,
   "metadata": {},
   "outputs": [],
   "source": [
    "table = frame(paths)"
   ]
  },
  {
   "cell_type": "code",
   "execution_count": 256,
   "metadata": {},
   "outputs": [
    {
     "data": {
      "text/plain": [
       "494"
      ]
     },
     "execution_count": 256,
     "metadata": {},
     "output_type": "execute_result"
    }
   ],
   "source": [
    "len(table['BAJAJELEC'][-494:])"
   ]
  },
  {
   "cell_type": "code",
   "execution_count": 257,
   "metadata": {},
   "outputs": [
    {
     "name": "stdout",
     "output_type": "stream",
     "text": [
      "BAJAJELEC 494\n",
      "RAYMOND 494\n",
      "RCOM 494\n",
      "PVR 495\n",
      "JETAIRWAYS 494\n",
      "NCC 497\n",
      "VENKEYS 494\n",
      "CENTURYPLY 494\n",
      "FORTIS 495\n",
      "ITDC 494\n",
      "ADANIPOWER 494\n",
      "APOLLOTYRE 494\n",
      "GODREJIND 494\n",
      "TATACHEM 498\n",
      "IDBI 494\n",
      "NBCC 494\n",
      "CASTROLIND 495\n",
      "PNB 494\n",
      "EXIDEIND 494\n",
      "JINDALSTEL 494\n",
      "RELIANCE 495\n",
      "HEROMOTOCO 494\n",
      "TCS 498\n",
      "TITAN 496\n",
      "GAIL 494\n",
      "MARUTI 496\n",
      "INFY 496\n",
      "ASIANPAINT 495\n",
      "M&M 497\n",
      "ITC 496\n"
     ]
    }
   ],
   "source": [
    "for k in table.keys():\n",
    "    print(k, len(table[k]))\n",
    "    \n",
    "    "
   ]
  },
  {
   "cell_type": "markdown",
   "metadata": {},
   "source": [
    "Creting a dataframe to store the close prices of each company"
   ]
  },
  {
   "cell_type": "code",
   "execution_count": 258,
   "metadata": {},
   "outputs": [],
   "source": [
    "stocks = pd.DataFrame(table)"
   ]
  },
  {
   "cell_type": "markdown",
   "metadata": {},
   "source": [
    "Since, TATACHEM is the company having the most number of values (498) and every stock's date starts from 15-May-2017. Thus, using its date column to generalise."
   ]
  },
  {
   "cell_type": "code",
   "execution_count": 259,
   "metadata": {},
   "outputs": [],
   "source": [
    "stocks.insert(0,column = 'Date', value = pd.read_csv('./Mid_Cap/TATACHEM.csv')['Date'].values)"
   ]
  },
  {
   "cell_type": "code",
   "execution_count": 260,
   "metadata": {},
   "outputs": [],
   "source": [
    "stocks.Date = pd.to_datetime(stocks.Date)"
   ]
  },
  {
   "cell_type": "code",
   "execution_count": 261,
   "metadata": {},
   "outputs": [
    {
     "data": {
      "text/html": [
       "<div>\n",
       "<style scoped>\n",
       "    .dataframe tbody tr th:only-of-type {\n",
       "        vertical-align: middle;\n",
       "    }\n",
       "\n",
       "    .dataframe tbody tr th {\n",
       "        vertical-align: top;\n",
       "    }\n",
       "\n",
       "    .dataframe thead th {\n",
       "        text-align: right;\n",
       "    }\n",
       "</style>\n",
       "<table border=\"1\" class=\"dataframe\">\n",
       "  <thead>\n",
       "    <tr style=\"text-align: right;\">\n",
       "      <th></th>\n",
       "      <th>Date</th>\n",
       "      <th>BAJAJELEC</th>\n",
       "      <th>RAYMOND</th>\n",
       "      <th>RCOM</th>\n",
       "      <th>PVR</th>\n",
       "      <th>JETAIRWAYS</th>\n",
       "      <th>NCC</th>\n",
       "      <th>VENKEYS</th>\n",
       "      <th>CENTURYPLY</th>\n",
       "      <th>FORTIS</th>\n",
       "      <th>...</th>\n",
       "      <th>RELIANCE</th>\n",
       "      <th>HEROMOTOCO</th>\n",
       "      <th>TCS</th>\n",
       "      <th>TITAN</th>\n",
       "      <th>GAIL</th>\n",
       "      <th>MARUTI</th>\n",
       "      <th>INFY</th>\n",
       "      <th>ASIANPAINT</th>\n",
       "      <th>M&amp;M</th>\n",
       "      <th>ITC</th>\n",
       "    </tr>\n",
       "  </thead>\n",
       "  <tbody>\n",
       "    <tr>\n",
       "      <th>0</th>\n",
       "      <td>2017-05-15</td>\n",
       "      <td>341.15</td>\n",
       "      <td>772.80</td>\n",
       "      <td>32.00</td>\n",
       "      <td>1524.95</td>\n",
       "      <td>527.50</td>\n",
       "      <td>97.35</td>\n",
       "      <td>1169.70</td>\n",
       "      <td>266.65</td>\n",
       "      <td>205.25</td>\n",
       "      <td>...</td>\n",
       "      <td>1344.10</td>\n",
       "      <td>3515.45</td>\n",
       "      <td>2365.10</td>\n",
       "      <td>483.65</td>\n",
       "      <td>414.00</td>\n",
       "      <td>6823.90</td>\n",
       "      <td>951.55</td>\n",
       "      <td>1148.05</td>\n",
       "      <td>1375.65</td>\n",
       "      <td>277.95</td>\n",
       "    </tr>\n",
       "    <tr>\n",
       "      <th>1</th>\n",
       "      <td>2017-05-16</td>\n",
       "      <td>347.00</td>\n",
       "      <td>785.00</td>\n",
       "      <td>32.10</td>\n",
       "      <td>1539.00</td>\n",
       "      <td>534.15</td>\n",
       "      <td>100.40</td>\n",
       "      <td>1177.00</td>\n",
       "      <td>266.10</td>\n",
       "      <td>207.90</td>\n",
       "      <td>...</td>\n",
       "      <td>1356.30</td>\n",
       "      <td>3619.40</td>\n",
       "      <td>2429.15</td>\n",
       "      <td>488.30</td>\n",
       "      <td>411.40</td>\n",
       "      <td>6953.95</td>\n",
       "      <td>955.00</td>\n",
       "      <td>1142.85</td>\n",
       "      <td>1366.35</td>\n",
       "      <td>283.45</td>\n",
       "    </tr>\n",
       "    <tr>\n",
       "      <th>2</th>\n",
       "      <td>2017-05-17</td>\n",
       "      <td>349.85</td>\n",
       "      <td>783.65</td>\n",
       "      <td>31.95</td>\n",
       "      <td>1530.30</td>\n",
       "      <td>528.90</td>\n",
       "      <td>101.45</td>\n",
       "      <td>1188.00</td>\n",
       "      <td>264.85</td>\n",
       "      <td>205.90</td>\n",
       "      <td>...</td>\n",
       "      <td>1353.10</td>\n",
       "      <td>3645.95</td>\n",
       "      <td>2455.35</td>\n",
       "      <td>481.75</td>\n",
       "      <td>408.30</td>\n",
       "      <td>6958.20</td>\n",
       "      <td>952.80</td>\n",
       "      <td>1154.95</td>\n",
       "      <td>1378.80</td>\n",
       "      <td>281.65</td>\n",
       "    </tr>\n",
       "    <tr>\n",
       "      <th>3</th>\n",
       "      <td>2017-05-18</td>\n",
       "      <td>334.10</td>\n",
       "      <td>746.95</td>\n",
       "      <td>31.05</td>\n",
       "      <td>1515.05</td>\n",
       "      <td>522.70</td>\n",
       "      <td>97.00</td>\n",
       "      <td>1156.90</td>\n",
       "      <td>260.35</td>\n",
       "      <td>196.85</td>\n",
       "      <td>...</td>\n",
       "      <td>1327.35</td>\n",
       "      <td>3592.05</td>\n",
       "      <td>2536.20</td>\n",
       "      <td>471.65</td>\n",
       "      <td>404.75</td>\n",
       "      <td>6831.05</td>\n",
       "      <td>961.75</td>\n",
       "      <td>1151.35</td>\n",
       "      <td>1352.85</td>\n",
       "      <td>277.90</td>\n",
       "    </tr>\n",
       "    <tr>\n",
       "      <th>4</th>\n",
       "      <td>2017-05-19</td>\n",
       "      <td>336.20</td>\n",
       "      <td>723.10</td>\n",
       "      <td>30.55</td>\n",
       "      <td>1513.55</td>\n",
       "      <td>520.40</td>\n",
       "      <td>95.45</td>\n",
       "      <td>1161.65</td>\n",
       "      <td>254.05</td>\n",
       "      <td>203.55</td>\n",
       "      <td>...</td>\n",
       "      <td>1318.85</td>\n",
       "      <td>3571.65</td>\n",
       "      <td>2507.15</td>\n",
       "      <td>471.15</td>\n",
       "      <td>401.05</td>\n",
       "      <td>6790.55</td>\n",
       "      <td>957.95</td>\n",
       "      <td>1123.15</td>\n",
       "      <td>1333.40</td>\n",
       "      <td>286.20</td>\n",
       "    </tr>\n",
       "  </tbody>\n",
       "</table>\n",
       "<p>5 rows × 31 columns</p>\n",
       "</div>"
      ],
      "text/plain": [
       "        Date  BAJAJELEC  RAYMOND   RCOM      PVR  JETAIRWAYS     NCC  VENKEYS  \\\n",
       "0 2017-05-15     341.15   772.80  32.00  1524.95      527.50   97.35  1169.70   \n",
       "1 2017-05-16     347.00   785.00  32.10  1539.00      534.15  100.40  1177.00   \n",
       "2 2017-05-17     349.85   783.65  31.95  1530.30      528.90  101.45  1188.00   \n",
       "3 2017-05-18     334.10   746.95  31.05  1515.05      522.70   97.00  1156.90   \n",
       "4 2017-05-19     336.20   723.10  30.55  1513.55      520.40   95.45  1161.65   \n",
       "\n",
       "   CENTURYPLY  FORTIS  ...  RELIANCE  HEROMOTOCO      TCS   TITAN    GAIL  \\\n",
       "0      266.65  205.25  ...   1344.10     3515.45  2365.10  483.65  414.00   \n",
       "1      266.10  207.90  ...   1356.30     3619.40  2429.15  488.30  411.40   \n",
       "2      264.85  205.90  ...   1353.10     3645.95  2455.35  481.75  408.30   \n",
       "3      260.35  196.85  ...   1327.35     3592.05  2536.20  471.65  404.75   \n",
       "4      254.05  203.55  ...   1318.85     3571.65  2507.15  471.15  401.05   \n",
       "\n",
       "    MARUTI    INFY  ASIANPAINT      M&M     ITC  \n",
       "0  6823.90  951.55     1148.05  1375.65  277.95  \n",
       "1  6953.95  955.00     1142.85  1366.35  283.45  \n",
       "2  6958.20  952.80     1154.95  1378.80  281.65  \n",
       "3  6831.05  961.75     1151.35  1352.85  277.90  \n",
       "4  6790.55  957.95     1123.15  1333.40  286.20  \n",
       "\n",
       "[5 rows x 31 columns]"
      ]
     },
     "execution_count": 261,
     "metadata": {},
     "output_type": "execute_result"
    }
   ],
   "source": [
    "stocks.head()"
   ]
  },
  {
   "cell_type": "code",
   "execution_count": 262,
   "metadata": {},
   "outputs": [],
   "source": [
    "stock_names = list(stocks.columns)[1:]"
   ]
  },
  {
   "cell_type": "code",
   "execution_count": 263,
   "metadata": {},
   "outputs": [
    {
     "data": {
      "text/plain": [
       "['BAJAJELEC',\n",
       " 'RAYMOND',\n",
       " 'RCOM',\n",
       " 'PVR',\n",
       " 'JETAIRWAYS',\n",
       " 'NCC',\n",
       " 'VENKEYS',\n",
       " 'CENTURYPLY',\n",
       " 'FORTIS',\n",
       " 'ITDC',\n",
       " 'ADANIPOWER',\n",
       " 'APOLLOTYRE',\n",
       " 'GODREJIND',\n",
       " 'TATACHEM',\n",
       " 'IDBI',\n",
       " 'NBCC',\n",
       " 'CASTROLIND',\n",
       " 'PNB',\n",
       " 'EXIDEIND',\n",
       " 'JINDALSTEL',\n",
       " 'RELIANCE',\n",
       " 'HEROMOTOCO',\n",
       " 'TCS',\n",
       " 'TITAN',\n",
       " 'GAIL',\n",
       " 'MARUTI',\n",
       " 'INFY',\n",
       " 'ASIANPAINT',\n",
       " 'M&M',\n",
       " 'ITC']"
      ]
     },
     "execution_count": 263,
     "metadata": {},
     "output_type": "execute_result"
    }
   ],
   "source": [
    "stock_names"
   ]
  },
  {
   "cell_type": "markdown",
   "metadata": {},
   "source": [
    "### 6.2 Calculate average annual percentage return and volatility of all 30 stocks over a theoretical one year period"
   ]
  },
  {
   "cell_type": "markdown",
   "metadata": {},
   "source": [
    "Using the same formula as given in module 5 to calculate annual returns and annual volatility"
   ]
  },
  {
   "cell_type": "code",
   "execution_count": 264,
   "metadata": {},
   "outputs": [],
   "source": [
    "def annual_returns_volatility(data, stock_names):\n",
    "    ann_rv = {}\n",
    "    for s in stock_names:\n",
    "        pct_returns = data[s].pct_change()*100\n",
    "        ann_rv[s] = (pct_returns.values[1:494].mean()*252, pct_returns.values[1:494].std()*np.sqrt(252))\n",
    "    return ann_rv"
   ]
  },
  {
   "cell_type": "code",
   "execution_count": 265,
   "metadata": {},
   "outputs": [
    {
     "data": {
      "text/plain": [
       "31.60531826330053"
      ]
     },
     "execution_count": 265,
     "metadata": {},
     "output_type": "execute_result"
    }
   ],
   "source": [
    "(stocks['BAJAJELEC'].pct_change()*100).values[1:494].mean()*252"
   ]
  },
  {
   "cell_type": "code",
   "execution_count": 266,
   "metadata": {},
   "outputs": [
    {
     "data": {
      "text/plain": [
       "40.20052171471283"
      ]
     },
     "execution_count": 266,
     "metadata": {},
     "output_type": "execute_result"
    }
   ],
   "source": [
    "(stocks['BAJAJELEC'].pct_change()*100).values[1:494].std()*np.sqrt(252)"
   ]
  },
  {
   "cell_type": "code",
   "execution_count": 267,
   "metadata": {},
   "outputs": [],
   "source": [
    "ann_rv = annual_returns_volatility(stocks, stock_names)"
   ]
  },
  {
   "cell_type": "markdown",
   "metadata": {},
   "source": [
    "#### Annual % Returns and Volatilty of the stocks"
   ]
  },
  {
   "cell_type": "code",
   "execution_count": 268,
   "metadata": {},
   "outputs": [
    {
     "data": {
      "text/plain": [
       "{'BAJAJELEC': (31.60531826330053, 40.20052171471283),\n",
       " 'RAYMOND': (7.002051986509741, 36.34652996676036),\n",
       " 'RCOM': (-88.17286291308469, 98.43662692353006),\n",
       " 'PVR': (10.853007666913385, 30.9876023001755),\n",
       " 'JETAIRWAYS': (-48.10188004468463, 62.42196353244001),\n",
       " 'NCC': (7.714185887011824, 44.09454042213164),\n",
       " 'VENKEYS': (38.17106462034111, 62.67467285866531),\n",
       " 'CENTURYPLY': (-18.233834315397296, 37.48879181229157),\n",
       " 'FORTIS': (-13.729708971270046, 42.10554043451233),\n",
       " 'ITDC': (-36.93853473732511, 52.72249648856638),\n",
       " 'ADANIPOWER': (30.527262335046984, 60.99126847846808),\n",
       " 'APOLLOTYRE': (-6.430261138823607, 31.012956169177755),\n",
       " 'GODREJIND': (-9.02500738644092, 26.637939531295483),\n",
       " 'TATACHEM': (0.2190729750214641, 24.660832728008206),\n",
       " 'IDBI': (-29.60082621650627, 45.332682518821045),\n",
       " 'NBCC': (-51.51760133701396, 50.815626117984294),\n",
       " 'CASTROLIND': (-43.455744584736706, 44.601281189820554),\n",
       " 'PNB': (-23.94400914117093, 54.48361262978085),\n",
       " 'EXIDEIND': (-5.148400601521947, 26.271827557278616),\n",
       " 'JINDALSTEL': (27.537096613267654, 49.247961185990704),\n",
       " 'RELIANCE': (9.512101181963644, 43.864529732906256),\n",
       " 'HEROMOTOCO': (-14.354459064876782, 23.889812008130367),\n",
       " 'TCS': (8.046955952490926, 43.0949399356011),\n",
       " 'TITAN': (47.310949768010204, 32.40317262509689),\n",
       " 'GAIL': (-5.255090331466202, 33.808128039061934),\n",
       " 'MARUTI': (1.0195035509752408, 22.50294299095487),\n",
       " 'INFY': (-2.2671789429390237, 41.85382199722511),\n",
       " 'ASIANPAINT': (10.12485033932951, 20.919339154597132),\n",
       " 'M&M': (-26.91578912501157, 43.990985677354786),\n",
       " 'ITC': (6.401436738684057, 22.36362835395958)}"
      ]
     },
     "execution_count": 268,
     "metadata": {},
     "output_type": "execute_result"
    }
   ],
   "source": [
    "ann_rv"
   ]
  },
  {
   "cell_type": "code",
   "execution_count": 269,
   "metadata": {},
   "outputs": [],
   "source": [
    "sea.set_style('darkgrid')"
   ]
  },
  {
   "cell_type": "code",
   "execution_count": 272,
   "metadata": {},
   "outputs": [],
   "source": [
    "x = stocks['Date'].values[1:494]\n",
    "bajaj = stocks['BAJAJELEC'].values[1:494]\n",
    "titan = stocks['TITAN'].values[1:494]\n",
    "jet = stocks['JETAIRWAYS'].values[1:494]\n",
    "mar = stocks['MARUTI'].values[1:494]\n",
    "pvr = stocks['PVR'].values[1:494]\n"
   ]
  },
  {
   "cell_type": "code",
   "execution_count": 273,
   "metadata": {},
   "outputs": [
    {
     "data": {
      "text/plain": [
       "array([347.  , 349.85, 334.1 , 336.2 , 313.25, 315.55, 327.95, 346.2 ,\n",
       "       359.45, 348.7 ])"
      ]
     },
     "execution_count": 273,
     "metadata": {},
     "output_type": "execute_result"
    }
   ],
   "source": [
    "bajaj[:10]"
   ]
  },
  {
   "cell_type": "code",
   "execution_count": 274,
   "metadata": {},
   "outputs": [
    {
     "data": {
      "text/plain": [
       "<matplotlib.axes._subplots.AxesSubplot at 0x7fe880d50048>"
      ]
     },
     "execution_count": 274,
     "metadata": {},
     "output_type": "execute_result"
    },
    {
     "data": {
      "image/png": "[encoded data removed]",
      "text/plain": [
       "<Figure size 1152x504 with 1 Axes>"
      ]
     },
     "metadata": {},
     "output_type": "display_data"
    }
   ],
   "source": [
    "plt.rcParams['figure.figsize'] = 16,7\n",
    "sea.lineplot(x=x, y=bajaj, data=stocks, label=\"Bajaj Elec\")\n",
    "sea.lineplot(x=x, y=titan,data=stocks, label=\"titan\")\n",
    "sea.lineplot(x=x, y=jet,data=stocks, label='jet airways')\n",
    "sea.lineplot(x=x, y=pvr,data=stocks, label=\"pvr\")\n",
    "# sea.lineplot(x=x, y=mar, label=\"maruti\")"
   ]
  },
  {
   "cell_type": "markdown",
   "metadata": {},
   "source": [
    "### 6.3 Cluster the 30 stocks according to their mean annual Volatilities and Returns using K-means clustering. Identify the optimum number of clusters using the Elbow curve method\n"
   ]
  },
  {
   "cell_type": "code",
   "execution_count": 275,
   "metadata": {},
   "outputs": [],
   "source": [
    "from sklearn.cluster import KMeans\n",
    "from sklearn.preprocessing import MinMaxScaler"
   ]
  },
  {
   "cell_type": "code",
   "execution_count": 276,
   "metadata": {},
   "outputs": [],
   "source": [
    "scale = MinMaxScaler()"
   ]
  },
  {
   "cell_type": "code",
   "execution_count": 277,
   "metadata": {},
   "outputs": [],
   "source": [
    "kmeans = KMeans(n_clusters=4)"
   ]
  },
  {
   "cell_type": "code",
   "execution_count": 278,
   "metadata": {},
   "outputs": [],
   "source": [
    "x = np.array([a[0] for a in ann_rv.values()])\n",
    "y = np.array([a[1] for a in ann_rv.values()])"
   ]
  },
  {
   "cell_type": "code",
   "execution_count": 279,
   "metadata": {},
   "outputs": [],
   "source": [
    "km = pd.DataFrame({'Companies' : list(ann_rv.keys()), 'Annual % Returns' : x, 'Annual % Volatility' : y \n",
    "})"
   ]
  },
  {
   "cell_type": "code",
   "execution_count": 280,
   "metadata": {},
   "outputs": [
    {
     "data": {
      "text/html": [
       "<div>\n",
       "<style scoped>\n",
       "    .dataframe tbody tr th:only-of-type {\n",
       "        vertical-align: middle;\n",
       "    }\n",
       "\n",
       "    .dataframe tbody tr th {\n",
       "        vertical-align: top;\n",
       "    }\n",
       "\n",
       "    .dataframe thead th {\n",
       "        text-align: right;\n",
       "    }\n",
       "</style>\n",
       "<table border=\"1\" class=\"dataframe\">\n",
       "  <thead>\n",
       "    <tr style=\"text-align: right;\">\n",
       "      <th></th>\n",
       "      <th>Companies</th>\n",
       "      <th>Annual % Returns</th>\n",
       "      <th>Annual % Volatility</th>\n",
       "    </tr>\n",
       "  </thead>\n",
       "  <tbody>\n",
       "    <tr>\n",
       "      <th>0</th>\n",
       "      <td>BAJAJELEC</td>\n",
       "      <td>31.605318</td>\n",
       "      <td>40.200522</td>\n",
       "    </tr>\n",
       "    <tr>\n",
       "      <th>1</th>\n",
       "      <td>RAYMOND</td>\n",
       "      <td>7.002052</td>\n",
       "      <td>36.346530</td>\n",
       "    </tr>\n",
       "    <tr>\n",
       "      <th>2</th>\n",
       "      <td>RCOM</td>\n",
       "      <td>-88.172863</td>\n",
       "      <td>98.436627</td>\n",
       "    </tr>\n",
       "    <tr>\n",
       "      <th>3</th>\n",
       "      <td>PVR</td>\n",
       "      <td>10.853008</td>\n",
       "      <td>30.987602</td>\n",
       "    </tr>\n",
       "    <tr>\n",
       "      <th>4</th>\n",
       "      <td>JETAIRWAYS</td>\n",
       "      <td>-48.101880</td>\n",
       "      <td>62.421964</td>\n",
       "    </tr>\n",
       "  </tbody>\n",
       "</table>\n",
       "</div>"
      ],
      "text/plain": [
       "    Companies  Annual % Returns  Annual % Volatility\n",
       "0   BAJAJELEC         31.605318            40.200522\n",
       "1     RAYMOND          7.002052            36.346530\n",
       "2        RCOM        -88.172863            98.436627\n",
       "3         PVR         10.853008            30.987602\n",
       "4  JETAIRWAYS        -48.101880            62.421964"
      ]
     },
     "execution_count": 280,
     "metadata": {},
     "output_type": "execute_result"
    }
   ],
   "source": [
    "km.head()"
   ]
  },
  {
   "cell_type": "code",
   "execution_count": 281,
   "metadata": {},
   "outputs": [],
   "source": [
    "# km['Annual % Returns'] = scale.fit_transform(km['Annual % Returns'].values.reshape(-1,1))\n",
    "# km['Annual % Volatility'] = scale.fit_transform(km['Annual % Volatility'].values.reshape(-1,1))"
   ]
  },
  {
   "cell_type": "markdown",
   "metadata": {},
   "source": [
    "#### We could use Scaling on columns but as the returns and volatility columns are in comparable ranges thus, it won't affect the overall performance of the model."
   ]
  },
  {
   "cell_type": "code",
   "execution_count": 282,
   "metadata": {},
   "outputs": [
    {
     "data": {
      "text/plain": [
       "<matplotlib.axes._subplots.AxesSubplot at 0x7fe880cc5278>"
      ]
     },
     "execution_count": 282,
     "metadata": {},
     "output_type": "execute_result"
    },
    {
     "data": {
      "image/png": "[encoded data removed]",
      "text/plain": [
       "<Figure size 1152x504 with 1 Axes>"
      ]
     },
     "metadata": {},
     "output_type": "display_data"
    }
   ],
   "source": [
    "sea.scatterplot(x = km['Annual % Returns'], y = km['Annual % Volatility'])"
   ]
  },
  {
   "cell_type": "code",
   "execution_count": 283,
   "metadata": {},
   "outputs": [],
   "source": [
    "km['Cluster'] = kmeans.fit_predict(km[['Annual % Returns','Annual % Volatility']] )"
   ]
  },
  {
   "cell_type": "code",
   "execution_count": 284,
   "metadata": {},
   "outputs": [
    {
     "data": {
      "text/html": [
       "<div>\n",
       "<style scoped>\n",
       "    .dataframe tbody tr th:only-of-type {\n",
       "        vertical-align: middle;\n",
       "    }\n",
       "\n",
       "    .dataframe tbody tr th {\n",
       "        vertical-align: top;\n",
       "    }\n",
       "\n",
       "    .dataframe thead th {\n",
       "        text-align: right;\n",
       "    }\n",
       "</style>\n",
       "<table border=\"1\" class=\"dataframe\">\n",
       "  <thead>\n",
       "    <tr style=\"text-align: right;\">\n",
       "      <th></th>\n",
       "      <th>Companies</th>\n",
       "      <th>Annual % Returns</th>\n",
       "      <th>Annual % Volatility</th>\n",
       "      <th>Cluster</th>\n",
       "    </tr>\n",
       "  </thead>\n",
       "  <tbody>\n",
       "    <tr>\n",
       "      <th>0</th>\n",
       "      <td>BAJAJELEC</td>\n",
       "      <td>31.605318</td>\n",
       "      <td>40.200522</td>\n",
       "      <td>1</td>\n",
       "    </tr>\n",
       "    <tr>\n",
       "      <th>1</th>\n",
       "      <td>RAYMOND</td>\n",
       "      <td>7.002052</td>\n",
       "      <td>36.346530</td>\n",
       "      <td>0</td>\n",
       "    </tr>\n",
       "    <tr>\n",
       "      <th>2</th>\n",
       "      <td>RCOM</td>\n",
       "      <td>-88.172863</td>\n",
       "      <td>98.436627</td>\n",
       "      <td>3</td>\n",
       "    </tr>\n",
       "    <tr>\n",
       "      <th>3</th>\n",
       "      <td>PVR</td>\n",
       "      <td>10.853008</td>\n",
       "      <td>30.987602</td>\n",
       "      <td>0</td>\n",
       "    </tr>\n",
       "    <tr>\n",
       "      <th>4</th>\n",
       "      <td>JETAIRWAYS</td>\n",
       "      <td>-48.101880</td>\n",
       "      <td>62.421964</td>\n",
       "      <td>2</td>\n",
       "    </tr>\n",
       "  </tbody>\n",
       "</table>\n",
       "</div>"
      ],
      "text/plain": [
       "    Companies  Annual % Returns  Annual % Volatility  Cluster\n",
       "0   BAJAJELEC         31.605318            40.200522        1\n",
       "1     RAYMOND          7.002052            36.346530        0\n",
       "2        RCOM        -88.172863            98.436627        3\n",
       "3         PVR         10.853008            30.987602        0\n",
       "4  JETAIRWAYS        -48.101880            62.421964        2"
      ]
     },
     "execution_count": 284,
     "metadata": {},
     "output_type": "execute_result"
    }
   ],
   "source": [
    "km.head()"
   ]
  },
  {
   "cell_type": "code",
   "execution_count": 285,
   "metadata": {},
   "outputs": [],
   "source": [
    "centroids = kmeans.cluster_centers_"
   ]
  },
  {
   "cell_type": "code",
   "execution_count": 286,
   "metadata": {},
   "outputs": [
    {
     "data": {
      "text/plain": [
       "array([[ -0.79710438,  32.46492371],\n",
       "       [ 35.03033832,  49.10351937],\n",
       "       [-37.21062646,  50.62409259],\n",
       "       [-88.17286291,  98.43662692]])"
      ]
     },
     "execution_count": 286,
     "metadata": {},
     "output_type": "execute_result"
    }
   ],
   "source": [
    "centroids"
   ]
  },
  {
   "cell_type": "code",
   "execution_count": 287,
   "metadata": {},
   "outputs": [],
   "source": [
    "cl1 = km[km.Cluster==0]\n",
    "cl2 = km[km.Cluster==1]\n",
    "cl3 = km[km.Cluster==2]\n",
    "cl4 = km[km.Cluster==3]"
   ]
  },
  {
   "cell_type": "code",
   "execution_count": 302,
   "metadata": {},
   "outputs": [
    {
     "data": {
      "text/plain": [
       "<matplotlib.legend.Legend at 0x7fe8807cff60>"
      ]
     },
     "execution_count": 302,
     "metadata": {},
     "output_type": "execute_result"
    },
    {
     "data": {
      "image/png": "[encoded data removed]",
      "text/plain": [
       "<Figure size 1152x504 with 1 Axes>"
      ]
     },
     "metadata": {},
     "output_type": "display_data"
    }
   ],
   "source": [
    "plt.scatter(cl1['Annual % Returns'], cl1['Annual % Volatility'], label = 'Cluster 0')\n",
    "plt.scatter(cl2['Annual % Returns'], cl2['Annual % Volatility'], label = 'Cluster 1')\n",
    "plt.scatter(cl3['Annual % Returns'], cl3['Annual % Volatility'], label = 'Cluster 2')\n",
    "plt.scatter(cl4['Annual % Returns'], cl4['Annual % Volatility'], label = 'Cluster 3')\n",
    "plt.scatter(centroids[:, 0], centroids[:,1], marker='*', color = 'purple')\n",
    "\n",
    "for i, txt in enumerate(stock_names):\n",
    "    plt.annotate(txt[:3], (x[i], y[i]))\n",
    "\n",
    "plt.title('Company Clusters')    \n",
    "plt.xlabel('Annual % Returns')\n",
    "plt.ylabel('Annual % Volatility')\n",
    "plt.legend()"
   ]
  },
  {
   "cell_type": "markdown",
   "metadata": {},
   "source": [
    "#### Using Elbow-curve method to optimize the clustering"
   ]
  },
  {
   "cell_type": "code",
   "execution_count": 303,
   "metadata": {},
   "outputs": [],
   "source": [
    "sqe = []\n",
    "for k in range(1,11):\n",
    "    kmeans = KMeans(n_clusters=k)\n",
    "    kmeans.fit(km[['Annual % Returns', 'Annual % Volatility']])\n",
    "    sqe.append(kmeans.inertia_)"
   ]
  },
  {
   "cell_type": "code",
   "execution_count": 304,
   "metadata": {},
   "outputs": [
    {
     "data": {
      "text/plain": [
       "[32420.54646467367,\n",
       " 14774.825210599683,\n",
       " 8745.819580687534,\n",
       " 4473.030094822919,\n",
       " 3389.072165165132,\n",
       " 2401.0426798284157,\n",
       " 1789.4153934702758,\n",
       " 1445.0571539066102,\n",
       " 1100.5778412826066,\n",
       " 880.1277361847856]"
      ]
     },
     "execution_count": 304,
     "metadata": {},
     "output_type": "execute_result"
    }
   ],
   "source": [
    "sqe"
   ]
  },
  {
   "cell_type": "code",
   "execution_count": 305,
   "metadata": {},
   "outputs": [
    {
     "data": {
      "text/plain": [
       "Text(0, 0.5, 'Sum of Squared errors')"
      ]
     },
     "execution_count": 305,
     "metadata": {},
     "output_type": "execute_result"
    },
    {
     "data": {
      "image/png": "[encoded data removed]",
      "text/plain": [
       "<Figure size 1152x504 with 1 Axes>"
      ]
     },
     "metadata": {},
     "output_type": "display_data"
    }
   ],
   "source": [
    "sea.lineplot(x = range(1,11), y = sqe)\n",
    "plt.xlabel('k')\n",
    "plt.ylabel('Sum of Squared errors')"
   ]
  },
  {
   "cell_type": "markdown",
   "metadata": {},
   "source": [
    "So, we get an elbow at k=4, which is already our chosen k vaue."
   ]
  },
  {
   "cell_type": "code",
   "execution_count": null,
   "metadata": {},
   "outputs": [],
   "source": []
  },
  {
   "cell_type": "markdown",
   "metadata": {},
   "source": [
    "### 6.4 Prepare a separate Data frame to show which stocks belong to the same cluster "
   ]
  },
  {
   "cell_type": "code",
   "execution_count": 306,
   "metadata": {},
   "outputs": [],
   "source": [
    "Clustered_stocks = km"
   ]
  },
  {
   "cell_type": "code",
   "execution_count": 307,
   "metadata": {},
   "outputs": [
    {
     "data": {
      "text/html": [
       "<div>\n",
       "<style scoped>\n",
       "    .dataframe tbody tr th:only-of-type {\n",
       "        vertical-align: middle;\n",
       "    }\n",
       "\n",
       "    .dataframe tbody tr th {\n",
       "        vertical-align: top;\n",
       "    }\n",
       "\n",
       "    .dataframe thead th {\n",
       "        text-align: right;\n",
       "    }\n",
       "</style>\n",
       "<table border=\"1\" class=\"dataframe\">\n",
       "  <thead>\n",
       "    <tr style=\"text-align: right;\">\n",
       "      <th></th>\n",
       "      <th>Companies</th>\n",
       "      <th>Annual % Returns</th>\n",
       "      <th>Annual % Volatility</th>\n",
       "      <th>Cluster</th>\n",
       "    </tr>\n",
       "  </thead>\n",
       "  <tbody>\n",
       "    <tr>\n",
       "      <th>0</th>\n",
       "      <td>BAJAJELEC</td>\n",
       "      <td>31.605318</td>\n",
       "      <td>40.200522</td>\n",
       "      <td>1</td>\n",
       "    </tr>\n",
       "    <tr>\n",
       "      <th>1</th>\n",
       "      <td>RAYMOND</td>\n",
       "      <td>7.002052</td>\n",
       "      <td>36.346530</td>\n",
       "      <td>0</td>\n",
       "    </tr>\n",
       "    <tr>\n",
       "      <th>2</th>\n",
       "      <td>RCOM</td>\n",
       "      <td>-88.172863</td>\n",
       "      <td>98.436627</td>\n",
       "      <td>3</td>\n",
       "    </tr>\n",
       "    <tr>\n",
       "      <th>3</th>\n",
       "      <td>PVR</td>\n",
       "      <td>10.853008</td>\n",
       "      <td>30.987602</td>\n",
       "      <td>0</td>\n",
       "    </tr>\n",
       "    <tr>\n",
       "      <th>4</th>\n",
       "      <td>JETAIRWAYS</td>\n",
       "      <td>-48.101880</td>\n",
       "      <td>62.421964</td>\n",
       "      <td>2</td>\n",
       "    </tr>\n",
       "    <tr>\n",
       "      <th>5</th>\n",
       "      <td>NCC</td>\n",
       "      <td>7.714186</td>\n",
       "      <td>44.094540</td>\n",
       "      <td>0</td>\n",
       "    </tr>\n",
       "    <tr>\n",
       "      <th>6</th>\n",
       "      <td>VENKEYS</td>\n",
       "      <td>38.171065</td>\n",
       "      <td>62.674673</td>\n",
       "      <td>1</td>\n",
       "    </tr>\n",
       "    <tr>\n",
       "      <th>7</th>\n",
       "      <td>CENTURYPLY</td>\n",
       "      <td>-18.233834</td>\n",
       "      <td>37.488792</td>\n",
       "      <td>0</td>\n",
       "    </tr>\n",
       "    <tr>\n",
       "      <th>8</th>\n",
       "      <td>FORTIS</td>\n",
       "      <td>-13.729709</td>\n",
       "      <td>42.105540</td>\n",
       "      <td>0</td>\n",
       "    </tr>\n",
       "    <tr>\n",
       "      <th>9</th>\n",
       "      <td>ITDC</td>\n",
       "      <td>-36.938535</td>\n",
       "      <td>52.722496</td>\n",
       "      <td>2</td>\n",
       "    </tr>\n",
       "  </tbody>\n",
       "</table>\n",
       "</div>"
      ],
      "text/plain": [
       "    Companies  Annual % Returns  Annual % Volatility  Cluster\n",
       "0   BAJAJELEC         31.605318            40.200522        1\n",
       "1     RAYMOND          7.002052            36.346530        0\n",
       "2        RCOM        -88.172863            98.436627        3\n",
       "3         PVR         10.853008            30.987602        0\n",
       "4  JETAIRWAYS        -48.101880            62.421964        2\n",
       "5         NCC          7.714186            44.094540        0\n",
       "6     VENKEYS         38.171065            62.674673        1\n",
       "7  CENTURYPLY        -18.233834            37.488792        0\n",
       "8      FORTIS        -13.729709            42.105540        0\n",
       "9        ITDC        -36.938535            52.722496        2"
      ]
     },
     "execution_count": 307,
     "metadata": {},
     "output_type": "execute_result"
    }
   ],
   "source": [
    "Clustered_stocks[:10]"
   ]
  },
  {
   "cell_type": "code",
   "execution_count": 308,
   "metadata": {},
   "outputs": [],
   "source": [
    "Clustered_stocks.to_csv('./dataset/Clustered.csv')"
   ]
  },
  {
   "cell_type": "code",
   "execution_count": null,
   "metadata": {},
   "outputs": [],
   "source": []
  },
  {
   "cell_type": "code",
   "execution_count": null,
   "metadata": {},
   "outputs": [],
   "source": []
  },
  {
   "cell_type": "code",
   "execution_count": null,
   "metadata": {},
   "outputs": [],
   "source": []
  },
  {
   "cell_type": "code",
   "execution_count": null,
   "metadata": {},
   "outputs": [],
   "source": []
  },
  {
   "cell_type": "code",
   "execution_count": null,
   "metadata": {},
   "outputs": [],
   "source": []
  }
 ],
 "metadata": {
  "kernelspec": {
   "display_name": "Python 3",
   "language": "python",
   "name": "python3"
  },
  "language_info": {
   "codemirror_mode": {
    "name": "ipython",
    "version": 3
   },
   "file_extension": ".py",
   "mimetype": "text/x-python",
   "name": "python",
   "nbconvert_exporter": "python",
   "pygments_lexer": "ipython3",
   "version": "3.7.4"
  }
 },
 "nbformat": 4,
 "nbformat_minor": 2
}
