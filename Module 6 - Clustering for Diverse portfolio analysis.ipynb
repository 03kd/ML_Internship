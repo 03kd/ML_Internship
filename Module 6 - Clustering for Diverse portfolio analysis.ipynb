{
 "cells": [
  {
   "cell_type": "markdown",
   "metadata": {},
   "source": [
    "## 6.1 Create a table/data frame with the closing prices of 30 different stocks, with 10 from each of the caps "
   ]
  },
  {
   "cell_type": "code",
   "execution_count": 1,
   "metadata": {},
   "outputs": [],
   "source": [
    "import pandas as pd\n",
    "import numpy as np\n",
    "import matplotlib.pyplot as plt\n",
    "%matplotlib inline\n",
    "import seaborn as sns"
   ]
  },
  {
   "cell_type": "markdown",
   "metadata": {},
   "source": [
    "##### Lets create a funtion to extract the name of company and closing price"
   ]
  },
  {
   "cell_type": "code",
   "execution_count": 2,
   "metadata": {},
   "outputs": [],
   "source": [
    "def get_close(comp):\n",
    "    cp = pd.read_csv(comp)\n",
    "    return cp['Close Price']"
   ]
  },
  {
   "cell_type": "code",
   "execution_count": 3,
   "metadata": {},
   "outputs": [],
   "source": [
    "def comp_name(paths):\n",
    "    table ={}\n",
    "    for file in paths:\n",
    "        table[file.split('/')[2].split('.')[0]] = get_close(file)\n",
    "    return table"
   ]
  },
  {
   "cell_type": "raw",
   "metadata": {},
   "source": [
    "# Example\n",
    "table ={}\n",
    "paths = 'stock_data/Large_Cap/ADANIPORTS.csv'\n",
    "table[paths.split('/')[2].split('.')[0]] = get_close(paths)\n",
    "table\n",
    "\n",
    "***********output****************\n",
    "{'ADANIPORTS': 0      356.20\n",
    " 1      354.50\n",
    " 2      348.55\n",
    " 3      347.90\n",
    " 4      349.45\n",
    "         ...  \n",
    " 490    371.90\n",
    " 491    369.80\n",
    " 492    363.90\n",
    " 493    372.55\n",
    " 494    364.75\n",
    " Name: Close Price, Length: 495, dtype: float64}"
   ]
  },
  {
   "cell_type": "code",
   "execution_count": 4,
   "metadata": {},
   "outputs": [],
   "source": [
    "paths = ['stock_data/Large_Cap/ADANIPORTS.csv','stock_data/Large_Cap/ASIANPAINT.csv','stock_data/Large_Cap/BPCL.csv','stock_data/Large_Cap/GAIL.csv',\n",
    "        'stock_data/Large_Cap/ITC.csv','stock_data/Large_Cap/IOC.csv','stock_data/Large_Cap/INFRATEL.csv','stock_data/Large_Cap/HINDALCO.csv',\n",
    "        'stock_data/Large_Cap/MARUTI.csv','stock_data/Large_Cap/TCS.csv',\n",
    "        'stock_data/Mid_Cap/AJANTPHARM.csv','stock_data/Mid_Cap/APOLLOTYRE.csv','stock_data/Mid_Cap/BERGEPAINT.csv','stock_data/Mid_Cap/CASTROLIND.csv',\n",
    "        'stock_data/Mid_Cap/NBCC.csv','stock_data/Mid_Cap/MRPL.csv','stock_data/Mid_Cap/JUBLFOOD.csv','stock_data/Mid_Cap/GODREJIND.csv',\n",
    "        'stock_data/Mid_Cap/TATAPOWER.csv','stock_data/Mid_Cap/VOLTAS.csv',\n",
    "        'stock_data/Small_Cap/ASHOKA.csv','stock_data/Small_Cap/FORTIS.csv','stock_data/Small_Cap/LAXMIMACH.csv','stock_data/Small_Cap/JETAIRWAYS.csv',\n",
    "        'stock_data/Small_Cap/SUZLON.csv','stock_data/Small_Cap/RCOM.csv','stock_data/Small_Cap/PVR.csv','stock_data/Small_Cap/LUXIND.csv',\n",
    "        'stock_data/Small_Cap/VIPIND.csv','stock_data/Small_Cap/JKLAKSHMI.csv']"
   ]
  },
  {
   "cell_type": "code",
   "execution_count": 5,
   "metadata": {
    "scrolled": true
   },
   "outputs": [],
   "source": [
    "dict_table =comp_name(paths)"
   ]
  },
  {
   "cell_type": "code",
   "execution_count": 6,
   "metadata": {},
   "outputs": [],
   "source": [
    "df_stocks = pd.DataFrame(dict_table)"
   ]
  },
  {
   "cell_type": "code",
   "execution_count": 7,
   "metadata": {},
   "outputs": [
    {
     "data": {
      "text/html": [
       "<div>\n",
       "<style scoped>\n",
       "    .dataframe tbody tr th:only-of-type {\n",
       "        vertical-align: middle;\n",
       "    }\n",
       "\n",
       "    .dataframe tbody tr th {\n",
       "        vertical-align: top;\n",
       "    }\n",
       "\n",
       "    .dataframe thead th {\n",
       "        text-align: right;\n",
       "    }\n",
       "</style>\n",
       "<table border=\"1\" class=\"dataframe\">\n",
       "  <thead>\n",
       "    <tr style=\"text-align: right;\">\n",
       "      <th></th>\n",
       "      <th>ADANIPORTS</th>\n",
       "      <th>ASIANPAINT</th>\n",
       "      <th>BPCL</th>\n",
       "      <th>GAIL</th>\n",
       "      <th>ITC</th>\n",
       "      <th>IOC</th>\n",
       "      <th>INFRATEL</th>\n",
       "      <th>HINDALCO</th>\n",
       "      <th>MARUTI</th>\n",
       "      <th>TCS</th>\n",
       "      <th>...</th>\n",
       "      <th>ASHOKA</th>\n",
       "      <th>FORTIS</th>\n",
       "      <th>LAXMIMACH</th>\n",
       "      <th>JETAIRWAYS</th>\n",
       "      <th>SUZLON</th>\n",
       "      <th>RCOM</th>\n",
       "      <th>PVR</th>\n",
       "      <th>LUXIND</th>\n",
       "      <th>VIPIND</th>\n",
       "      <th>JKLAKSHMI</th>\n",
       "    </tr>\n",
       "  </thead>\n",
       "  <tbody>\n",
       "    <tr>\n",
       "      <th>0</th>\n",
       "      <td>356.20</td>\n",
       "      <td>1148.05</td>\n",
       "      <td>727.85</td>\n",
       "      <td>414.00</td>\n",
       "      <td>277.95</td>\n",
       "      <td>442.10</td>\n",
       "      <td>371.05</td>\n",
       "      <td>198.45</td>\n",
       "      <td>6823.90</td>\n",
       "      <td>2365.10</td>\n",
       "      <td>...</td>\n",
       "      <td>216.05</td>\n",
       "      <td>205.25</td>\n",
       "      <td>4614.05</td>\n",
       "      <td>527.50</td>\n",
       "      <td>19.6</td>\n",
       "      <td>32.00</td>\n",
       "      <td>1524.95</td>\n",
       "      <td>819.60</td>\n",
       "      <td>199.20</td>\n",
       "      <td>510.80</td>\n",
       "    </tr>\n",
       "    <tr>\n",
       "      <th>1</th>\n",
       "      <td>354.50</td>\n",
       "      <td>1142.85</td>\n",
       "      <td>733.30</td>\n",
       "      <td>411.40</td>\n",
       "      <td>283.45</td>\n",
       "      <td>446.60</td>\n",
       "      <td>376.55</td>\n",
       "      <td>196.50</td>\n",
       "      <td>6953.95</td>\n",
       "      <td>2429.15</td>\n",
       "      <td>...</td>\n",
       "      <td>214.90</td>\n",
       "      <td>207.90</td>\n",
       "      <td>4589.80</td>\n",
       "      <td>534.15</td>\n",
       "      <td>19.7</td>\n",
       "      <td>32.10</td>\n",
       "      <td>1539.00</td>\n",
       "      <td>817.50</td>\n",
       "      <td>200.90</td>\n",
       "      <td>527.50</td>\n",
       "    </tr>\n",
       "    <tr>\n",
       "      <th>2</th>\n",
       "      <td>348.55</td>\n",
       "      <td>1154.95</td>\n",
       "      <td>727.45</td>\n",
       "      <td>408.30</td>\n",
       "      <td>281.65</td>\n",
       "      <td>444.25</td>\n",
       "      <td>389.90</td>\n",
       "      <td>198.85</td>\n",
       "      <td>6958.20</td>\n",
       "      <td>2455.35</td>\n",
       "      <td>...</td>\n",
       "      <td>217.00</td>\n",
       "      <td>205.90</td>\n",
       "      <td>4637.25</td>\n",
       "      <td>528.90</td>\n",
       "      <td>19.9</td>\n",
       "      <td>31.95</td>\n",
       "      <td>1530.30</td>\n",
       "      <td>819.80</td>\n",
       "      <td>199.65</td>\n",
       "      <td>516.20</td>\n",
       "    </tr>\n",
       "    <tr>\n",
       "      <th>3</th>\n",
       "      <td>347.90</td>\n",
       "      <td>1151.35</td>\n",
       "      <td>714.90</td>\n",
       "      <td>404.75</td>\n",
       "      <td>277.90</td>\n",
       "      <td>439.90</td>\n",
       "      <td>378.90</td>\n",
       "      <td>194.00</td>\n",
       "      <td>6831.05</td>\n",
       "      <td>2536.20</td>\n",
       "      <td>...</td>\n",
       "      <td>209.65</td>\n",
       "      <td>196.85</td>\n",
       "      <td>4544.45</td>\n",
       "      <td>522.70</td>\n",
       "      <td>20.0</td>\n",
       "      <td>31.05</td>\n",
       "      <td>1515.05</td>\n",
       "      <td>820.05</td>\n",
       "      <td>193.30</td>\n",
       "      <td>478.95</td>\n",
       "    </tr>\n",
       "    <tr>\n",
       "      <th>4</th>\n",
       "      <td>349.45</td>\n",
       "      <td>1123.15</td>\n",
       "      <td>702.45</td>\n",
       "      <td>401.05</td>\n",
       "      <td>286.20</td>\n",
       "      <td>435.40</td>\n",
       "      <td>378.95</td>\n",
       "      <td>191.00</td>\n",
       "      <td>6790.55</td>\n",
       "      <td>2507.15</td>\n",
       "      <td>...</td>\n",
       "      <td>206.25</td>\n",
       "      <td>203.55</td>\n",
       "      <td>4522.70</td>\n",
       "      <td>520.40</td>\n",
       "      <td>20.6</td>\n",
       "      <td>30.55</td>\n",
       "      <td>1513.55</td>\n",
       "      <td>817.80</td>\n",
       "      <td>195.95</td>\n",
       "      <td>469.55</td>\n",
       "    </tr>\n",
       "  </tbody>\n",
       "</table>\n",
       "<p>5 rows × 30 columns</p>\n",
       "</div>"
      ],
      "text/plain": [
       "   ADANIPORTS  ASIANPAINT    BPCL    GAIL     ITC     IOC  INFRATEL  HINDALCO  \\\n",
       "0      356.20     1148.05  727.85  414.00  277.95  442.10    371.05    198.45   \n",
       "1      354.50     1142.85  733.30  411.40  283.45  446.60    376.55    196.50   \n",
       "2      348.55     1154.95  727.45  408.30  281.65  444.25    389.90    198.85   \n",
       "3      347.90     1151.35  714.90  404.75  277.90  439.90    378.90    194.00   \n",
       "4      349.45     1123.15  702.45  401.05  286.20  435.40    378.95    191.00   \n",
       "\n",
       "    MARUTI      TCS  ...  ASHOKA  FORTIS  LAXMIMACH  JETAIRWAYS  SUZLON  \\\n",
       "0  6823.90  2365.10  ...  216.05  205.25    4614.05      527.50    19.6   \n",
       "1  6953.95  2429.15  ...  214.90  207.90    4589.80      534.15    19.7   \n",
       "2  6958.20  2455.35  ...  217.00  205.90    4637.25      528.90    19.9   \n",
       "3  6831.05  2536.20  ...  209.65  196.85    4544.45      522.70    20.0   \n",
       "4  6790.55  2507.15  ...  206.25  203.55    4522.70      520.40    20.6   \n",
       "\n",
       "    RCOM      PVR  LUXIND  VIPIND  JKLAKSHMI  \n",
       "0  32.00  1524.95  819.60  199.20     510.80  \n",
       "1  32.10  1539.00  817.50  200.90     527.50  \n",
       "2  31.95  1530.30  819.80  199.65     516.20  \n",
       "3  31.05  1515.05  820.05  193.30     478.95  \n",
       "4  30.55  1513.55  817.80  195.95     469.55  \n",
       "\n",
       "[5 rows x 30 columns]"
      ]
     },
     "execution_count": 7,
     "metadata": {},
     "output_type": "execute_result"
    }
   ],
   "source": [
    "df_stocks.head()"
   ]
  },
  {
   "cell_type": "code",
   "execution_count": 8,
   "metadata": {},
   "outputs": [
    {
     "name": "stdout",
     "output_type": "stream",
     "text": [
      "ADANIPORTS 495\n",
      "ASIANPAINT 495\n",
      "BPCL 495\n",
      "GAIL 494\n",
      "ITC 496\n",
      "IOC 495\n",
      "INFRATEL 494\n",
      "HINDALCO 495\n",
      "MARUTI 496\n",
      "TCS 498\n",
      "AJANTPHARM 494\n",
      "APOLLOTYRE 494\n",
      "BERGEPAINT 494\n",
      "CASTROLIND 495\n",
      "NBCC 494\n",
      "MRPL 494\n",
      "JUBLFOOD 495\n",
      "GODREJIND 494\n",
      "TATAPOWER 495\n",
      "VOLTAS 494\n",
      "ASHOKA 494\n",
      "FORTIS 495\n",
      "LAXMIMACH 494\n",
      "JETAIRWAYS 494\n",
      "SUZLON 494\n",
      "RCOM 494\n",
      "PVR 495\n",
      "LUXIND 494\n",
      "VIPIND 494\n",
      "JKLAKSHMI 494\n"
     ]
    }
   ],
   "source": [
    "for key in dict_table.keys():\n",
    "    print(key, len(dict_table[key]))"
   ]
  },
  {
   "cell_type": "markdown",
   "metadata": {},
   "source": [
    "*In above companies, TCS is the company having the most number of values(498) and every stock's date start from 15-may-2017.Thus, using its date column to generalize*"
   ]
  },
  {
   "cell_type": "code",
   "execution_count": 9,
   "metadata": {
    "scrolled": true
   },
   "outputs": [],
   "source": [
    "df_stocks.insert(0, \"Date\", value = pd.read_csv('stock_data/Large_Cap/TCS.csv')['Date'].values)"
   ]
  },
  {
   "cell_type": "code",
   "execution_count": 10,
   "metadata": {},
   "outputs": [],
   "source": [
    "df_stocks.Date = pd.to_datetime(df_stocks.Date)"
   ]
  },
  {
   "cell_type": "code",
   "execution_count": 11,
   "metadata": {},
   "outputs": [
    {
     "data": {
      "text/html": [
       "<div>\n",
       "<style scoped>\n",
       "    .dataframe tbody tr th:only-of-type {\n",
       "        vertical-align: middle;\n",
       "    }\n",
       "\n",
       "    .dataframe tbody tr th {\n",
       "        vertical-align: top;\n",
       "    }\n",
       "\n",
       "    .dataframe thead th {\n",
       "        text-align: right;\n",
       "    }\n",
       "</style>\n",
       "<table border=\"1\" class=\"dataframe\">\n",
       "  <thead>\n",
       "    <tr style=\"text-align: right;\">\n",
       "      <th></th>\n",
       "      <th>Date</th>\n",
       "      <th>ADANIPORTS</th>\n",
       "      <th>ASIANPAINT</th>\n",
       "      <th>BPCL</th>\n",
       "      <th>GAIL</th>\n",
       "      <th>ITC</th>\n",
       "      <th>IOC</th>\n",
       "      <th>INFRATEL</th>\n",
       "      <th>HINDALCO</th>\n",
       "      <th>MARUTI</th>\n",
       "      <th>...</th>\n",
       "      <th>ASHOKA</th>\n",
       "      <th>FORTIS</th>\n",
       "      <th>LAXMIMACH</th>\n",
       "      <th>JETAIRWAYS</th>\n",
       "      <th>SUZLON</th>\n",
       "      <th>RCOM</th>\n",
       "      <th>PVR</th>\n",
       "      <th>LUXIND</th>\n",
       "      <th>VIPIND</th>\n",
       "      <th>JKLAKSHMI</th>\n",
       "    </tr>\n",
       "  </thead>\n",
       "  <tbody>\n",
       "    <tr>\n",
       "      <th>0</th>\n",
       "      <td>2017-05-15</td>\n",
       "      <td>356.20</td>\n",
       "      <td>1148.05</td>\n",
       "      <td>727.85</td>\n",
       "      <td>414.00</td>\n",
       "      <td>277.95</td>\n",
       "      <td>442.10</td>\n",
       "      <td>371.05</td>\n",
       "      <td>198.45</td>\n",
       "      <td>6823.90</td>\n",
       "      <td>...</td>\n",
       "      <td>216.05</td>\n",
       "      <td>205.25</td>\n",
       "      <td>4614.05</td>\n",
       "      <td>527.50</td>\n",
       "      <td>19.6</td>\n",
       "      <td>32.00</td>\n",
       "      <td>1524.95</td>\n",
       "      <td>819.60</td>\n",
       "      <td>199.20</td>\n",
       "      <td>510.80</td>\n",
       "    </tr>\n",
       "    <tr>\n",
       "      <th>1</th>\n",
       "      <td>2017-05-16</td>\n",
       "      <td>354.50</td>\n",
       "      <td>1142.85</td>\n",
       "      <td>733.30</td>\n",
       "      <td>411.40</td>\n",
       "      <td>283.45</td>\n",
       "      <td>446.60</td>\n",
       "      <td>376.55</td>\n",
       "      <td>196.50</td>\n",
       "      <td>6953.95</td>\n",
       "      <td>...</td>\n",
       "      <td>214.90</td>\n",
       "      <td>207.90</td>\n",
       "      <td>4589.80</td>\n",
       "      <td>534.15</td>\n",
       "      <td>19.7</td>\n",
       "      <td>32.10</td>\n",
       "      <td>1539.00</td>\n",
       "      <td>817.50</td>\n",
       "      <td>200.90</td>\n",
       "      <td>527.50</td>\n",
       "    </tr>\n",
       "    <tr>\n",
       "      <th>2</th>\n",
       "      <td>2017-05-17</td>\n",
       "      <td>348.55</td>\n",
       "      <td>1154.95</td>\n",
       "      <td>727.45</td>\n",
       "      <td>408.30</td>\n",
       "      <td>281.65</td>\n",
       "      <td>444.25</td>\n",
       "      <td>389.90</td>\n",
       "      <td>198.85</td>\n",
       "      <td>6958.20</td>\n",
       "      <td>...</td>\n",
       "      <td>217.00</td>\n",
       "      <td>205.90</td>\n",
       "      <td>4637.25</td>\n",
       "      <td>528.90</td>\n",
       "      <td>19.9</td>\n",
       "      <td>31.95</td>\n",
       "      <td>1530.30</td>\n",
       "      <td>819.80</td>\n",
       "      <td>199.65</td>\n",
       "      <td>516.20</td>\n",
       "    </tr>\n",
       "    <tr>\n",
       "      <th>3</th>\n",
       "      <td>2017-05-18</td>\n",
       "      <td>347.90</td>\n",
       "      <td>1151.35</td>\n",
       "      <td>714.90</td>\n",
       "      <td>404.75</td>\n",
       "      <td>277.90</td>\n",
       "      <td>439.90</td>\n",
       "      <td>378.90</td>\n",
       "      <td>194.00</td>\n",
       "      <td>6831.05</td>\n",
       "      <td>...</td>\n",
       "      <td>209.65</td>\n",
       "      <td>196.85</td>\n",
       "      <td>4544.45</td>\n",
       "      <td>522.70</td>\n",
       "      <td>20.0</td>\n",
       "      <td>31.05</td>\n",
       "      <td>1515.05</td>\n",
       "      <td>820.05</td>\n",
       "      <td>193.30</td>\n",
       "      <td>478.95</td>\n",
       "    </tr>\n",
       "    <tr>\n",
       "      <th>4</th>\n",
       "      <td>2017-05-19</td>\n",
       "      <td>349.45</td>\n",
       "      <td>1123.15</td>\n",
       "      <td>702.45</td>\n",
       "      <td>401.05</td>\n",
       "      <td>286.20</td>\n",
       "      <td>435.40</td>\n",
       "      <td>378.95</td>\n",
       "      <td>191.00</td>\n",
       "      <td>6790.55</td>\n",
       "      <td>...</td>\n",
       "      <td>206.25</td>\n",
       "      <td>203.55</td>\n",
       "      <td>4522.70</td>\n",
       "      <td>520.40</td>\n",
       "      <td>20.6</td>\n",
       "      <td>30.55</td>\n",
       "      <td>1513.55</td>\n",
       "      <td>817.80</td>\n",
       "      <td>195.95</td>\n",
       "      <td>469.55</td>\n",
       "    </tr>\n",
       "  </tbody>\n",
       "</table>\n",
       "<p>5 rows × 31 columns</p>\n",
       "</div>"
      ],
      "text/plain": [
       "        Date  ADANIPORTS  ASIANPAINT    BPCL    GAIL     ITC     IOC  \\\n",
       "0 2017-05-15      356.20     1148.05  727.85  414.00  277.95  442.10   \n",
       "1 2017-05-16      354.50     1142.85  733.30  411.40  283.45  446.60   \n",
       "2 2017-05-17      348.55     1154.95  727.45  408.30  281.65  444.25   \n",
       "3 2017-05-18      347.90     1151.35  714.90  404.75  277.90  439.90   \n",
       "4 2017-05-19      349.45     1123.15  702.45  401.05  286.20  435.40   \n",
       "\n",
       "   INFRATEL  HINDALCO   MARUTI  ...  ASHOKA  FORTIS  LAXMIMACH  JETAIRWAYS  \\\n",
       "0    371.05    198.45  6823.90  ...  216.05  205.25    4614.05      527.50   \n",
       "1    376.55    196.50  6953.95  ...  214.90  207.90    4589.80      534.15   \n",
       "2    389.90    198.85  6958.20  ...  217.00  205.90    4637.25      528.90   \n",
       "3    378.90    194.00  6831.05  ...  209.65  196.85    4544.45      522.70   \n",
       "4    378.95    191.00  6790.55  ...  206.25  203.55    4522.70      520.40   \n",
       "\n",
       "   SUZLON   RCOM      PVR  LUXIND  VIPIND  JKLAKSHMI  \n",
       "0    19.6  32.00  1524.95  819.60  199.20     510.80  \n",
       "1    19.7  32.10  1539.00  817.50  200.90     527.50  \n",
       "2    19.9  31.95  1530.30  819.80  199.65     516.20  \n",
       "3    20.0  31.05  1515.05  820.05  193.30     478.95  \n",
       "4    20.6  30.55  1513.55  817.80  195.95     469.55  \n",
       "\n",
       "[5 rows x 31 columns]"
      ]
     },
     "execution_count": 11,
     "metadata": {},
     "output_type": "execute_result"
    }
   ],
   "source": [
    "df_stocks.head()"
   ]
  },
  {
   "cell_type": "markdown",
   "metadata": {},
   "source": [
    "## 6.2 Calculate average annual percentage return and volatility of all 30 stocks over a theoretical one year period "
   ]
  },
  {
   "cell_type": "markdown",
   "metadata": {},
   "source": [
    "In **module 5**, we calculated the annual returns and annual volatility. So, using same concept in **module 6-**"
   ]
  },
  {
   "cell_type": "code",
   "execution_count": 12,
   "metadata": {},
   "outputs": [],
   "source": [
    "stock_names = list(dict_table.keys())"
   ]
  },
  {
   "cell_type": "code",
   "execution_count": 13,
   "metadata": {},
   "outputs": [
    {
     "data": {
      "text/plain": [
       "['ADANIPORTS',\n",
       " 'ASIANPAINT',\n",
       " 'BPCL',\n",
       " 'GAIL',\n",
       " 'ITC',\n",
       " 'IOC',\n",
       " 'INFRATEL',\n",
       " 'HINDALCO',\n",
       " 'MARUTI',\n",
       " 'TCS',\n",
       " 'AJANTPHARM',\n",
       " 'APOLLOTYRE',\n",
       " 'BERGEPAINT',\n",
       " 'CASTROLIND',\n",
       " 'NBCC',\n",
       " 'MRPL',\n",
       " 'JUBLFOOD',\n",
       " 'GODREJIND',\n",
       " 'TATAPOWER',\n",
       " 'VOLTAS',\n",
       " 'ASHOKA',\n",
       " 'FORTIS',\n",
       " 'LAXMIMACH',\n",
       " 'JETAIRWAYS',\n",
       " 'SUZLON',\n",
       " 'RCOM',\n",
       " 'PVR',\n",
       " 'LUXIND',\n",
       " 'VIPIND',\n",
       " 'JKLAKSHMI']"
      ]
     },
     "execution_count": 13,
     "metadata": {},
     "output_type": "execute_result"
    }
   ],
   "source": [
    "stock_names"
   ]
  },
  {
   "cell_type": "code",
   "execution_count": 14,
   "metadata": {},
   "outputs": [],
   "source": [
    "def get_return_and_vol(data, stock_names):\n",
    "    stock_return ={}\n",
    "    for stock in stock_names:\n",
    "        ret = data[stock].pct_change()*100\n",
    "        stock_return[stock] = (ret.values[1:494].mean()*252, ret.values[1:494].std()*np.sqrt(252))\n",
    "    return stock_return"
   ]
  },
  {
   "cell_type": "code",
   "execution_count": 15,
   "metadata": {},
   "outputs": [],
   "source": [
    "annual_return_vol = get_return_and_vol(df_stocks, stock_names)"
   ]
  },
  {
   "cell_type": "code",
   "execution_count": 16,
   "metadata": {},
   "outputs": [
    {
     "data": {
      "text/plain": [
       "{'ADANIPORTS': (7.12004698251904, 30.906499397861417),\n",
       " 'ASIANPAINT': (10.12485033932951, 20.919339154597132),\n",
       " 'BPCL': (-25.03643186577684, 43.57326913943593),\n",
       " 'GAIL': (-5.255090331466202, 33.808128039061934),\n",
       " 'ITC': (6.401436738684057, 22.36362835395958),\n",
       " 'IOC': (-39.63857543056539, 49.900680433732994),\n",
       " 'INFRATEL': (-12.418651088299297, 30.57124746900802),\n",
       " 'HINDALCO': (4.933316414764509, 33.52289502614842),\n",
       " 'MARUTI': (1.0195035509752408, 22.50294299095487),\n",
       " 'TCS': (8.046955952490926, 43.0949399356011),\n",
       " 'AJANTPHARM': (-17.38913852221259, 33.18342455257983),\n",
       " 'APOLLOTYRE': (-6.430261138823607, 31.012956169177755),\n",
       " 'BERGEPAINT': (10.893463488238023, 26.73962348913112),\n",
       " 'CASTROLIND': (-43.455744584736706, 44.601281189820554),\n",
       " 'NBCC': (-51.51760133701396, 50.815626117984294),\n",
       " 'MRPL': (-32.295702537440796, 36.55265690482999),\n",
       " 'JUBLFOOD': (26.751441266829488, 50.049531520744544),\n",
       " 'GODREJIND': (-9.02500738644092, 26.637939531295483),\n",
       " 'TATAPOWER': (-9.09497443251133, 30.79839352968313),\n",
       " 'VOLTAS': (19.103016331443797, 30.803360319039236),\n",
       " 'ASHOKA': (-20.850852432088427, 44.25249545818432),\n",
       " 'FORTIS': (-13.729708971270046, 42.10554043451233),\n",
       " 'LAXMIMACH': (11.888306146102474, 26.70566589975081),\n",
       " 'JETAIRWAYS': (-48.10188004468463, 62.42196353244001),\n",
       " 'SUZLON': (-46.81516638608507, 59.29539345455785),\n",
       " 'RCOM': (-88.17286291308469, 98.43662692353006),\n",
       " 'PVR': (10.853007666913385, 30.9876023001755),\n",
       " 'LUXIND': (25.516083222240933, 33.50688003135235),\n",
       " 'VIPIND': (47.9663967842342, 43.163067235350724),\n",
       " 'JKLAKSHMI': (-16.88651045950256, 27.93843015350671)}"
      ]
     },
     "execution_count": 16,
     "metadata": {},
     "output_type": "execute_result"
    }
   ],
   "source": [
    "annual_return_vol"
   ]
  },
  {
   "cell_type": "code",
   "execution_count": 17,
   "metadata": {},
   "outputs": [],
   "source": [
    "returns = np.array([a[0] for a in annual_return_vol.values()])\n",
    "volatility = np.array([a[1] for a in annual_return_vol.values()])"
   ]
  },
  {
   "cell_type": "code",
   "execution_count": 18,
   "metadata": {},
   "outputs": [],
   "source": [
    "df_return = pd.DataFrame({'Companies':list(annual_return_vol.keys()), 'Annual % returns': returns, 'Annual % volatility':volatility})"
   ]
  },
  {
   "cell_type": "code",
   "execution_count": 19,
   "metadata": {
    "scrolled": true
   },
   "outputs": [
    {
     "data": {
      "text/html": [
       "<div>\n",
       "<style scoped>\n",
       "    .dataframe tbody tr th:only-of-type {\n",
       "        vertical-align: middle;\n",
       "    }\n",
       "\n",
       "    .dataframe tbody tr th {\n",
       "        vertical-align: top;\n",
       "    }\n",
       "\n",
       "    .dataframe thead th {\n",
       "        text-align: right;\n",
       "    }\n",
       "</style>\n",
       "<table border=\"1\" class=\"dataframe\">\n",
       "  <thead>\n",
       "    <tr style=\"text-align: right;\">\n",
       "      <th></th>\n",
       "      <th>Companies</th>\n",
       "      <th>Annual % returns</th>\n",
       "      <th>Annual % volatility</th>\n",
       "    </tr>\n",
       "  </thead>\n",
       "  <tbody>\n",
       "    <tr>\n",
       "      <th>0</th>\n",
       "      <td>ADANIPORTS</td>\n",
       "      <td>7.120047</td>\n",
       "      <td>30.906499</td>\n",
       "    </tr>\n",
       "    <tr>\n",
       "      <th>1</th>\n",
       "      <td>ASIANPAINT</td>\n",
       "      <td>10.124850</td>\n",
       "      <td>20.919339</td>\n",
       "    </tr>\n",
       "    <tr>\n",
       "      <th>2</th>\n",
       "      <td>BPCL</td>\n",
       "      <td>-25.036432</td>\n",
       "      <td>43.573269</td>\n",
       "    </tr>\n",
       "    <tr>\n",
       "      <th>3</th>\n",
       "      <td>GAIL</td>\n",
       "      <td>-5.255090</td>\n",
       "      <td>33.808128</td>\n",
       "    </tr>\n",
       "    <tr>\n",
       "      <th>4</th>\n",
       "      <td>ITC</td>\n",
       "      <td>6.401437</td>\n",
       "      <td>22.363628</td>\n",
       "    </tr>\n",
       "    <tr>\n",
       "      <th>5</th>\n",
       "      <td>IOC</td>\n",
       "      <td>-39.638575</td>\n",
       "      <td>49.900680</td>\n",
       "    </tr>\n",
       "    <tr>\n",
       "      <th>6</th>\n",
       "      <td>INFRATEL</td>\n",
       "      <td>-12.418651</td>\n",
       "      <td>30.571247</td>\n",
       "    </tr>\n",
       "    <tr>\n",
       "      <th>7</th>\n",
       "      <td>HINDALCO</td>\n",
       "      <td>4.933316</td>\n",
       "      <td>33.522895</td>\n",
       "    </tr>\n",
       "    <tr>\n",
       "      <th>8</th>\n",
       "      <td>MARUTI</td>\n",
       "      <td>1.019504</td>\n",
       "      <td>22.502943</td>\n",
       "    </tr>\n",
       "    <tr>\n",
       "      <th>9</th>\n",
       "      <td>TCS</td>\n",
       "      <td>8.046956</td>\n",
       "      <td>43.094940</td>\n",
       "    </tr>\n",
       "    <tr>\n",
       "      <th>10</th>\n",
       "      <td>AJANTPHARM</td>\n",
       "      <td>-17.389139</td>\n",
       "      <td>33.183425</td>\n",
       "    </tr>\n",
       "    <tr>\n",
       "      <th>11</th>\n",
       "      <td>APOLLOTYRE</td>\n",
       "      <td>-6.430261</td>\n",
       "      <td>31.012956</td>\n",
       "    </tr>\n",
       "    <tr>\n",
       "      <th>12</th>\n",
       "      <td>BERGEPAINT</td>\n",
       "      <td>10.893463</td>\n",
       "      <td>26.739623</td>\n",
       "    </tr>\n",
       "    <tr>\n",
       "      <th>13</th>\n",
       "      <td>CASTROLIND</td>\n",
       "      <td>-43.455745</td>\n",
       "      <td>44.601281</td>\n",
       "    </tr>\n",
       "    <tr>\n",
       "      <th>14</th>\n",
       "      <td>NBCC</td>\n",
       "      <td>-51.517601</td>\n",
       "      <td>50.815626</td>\n",
       "    </tr>\n",
       "    <tr>\n",
       "      <th>15</th>\n",
       "      <td>MRPL</td>\n",
       "      <td>-32.295703</td>\n",
       "      <td>36.552657</td>\n",
       "    </tr>\n",
       "    <tr>\n",
       "      <th>16</th>\n",
       "      <td>JUBLFOOD</td>\n",
       "      <td>26.751441</td>\n",
       "      <td>50.049532</td>\n",
       "    </tr>\n",
       "    <tr>\n",
       "      <th>17</th>\n",
       "      <td>GODREJIND</td>\n",
       "      <td>-9.025007</td>\n",
       "      <td>26.637940</td>\n",
       "    </tr>\n",
       "    <tr>\n",
       "      <th>18</th>\n",
       "      <td>TATAPOWER</td>\n",
       "      <td>-9.094974</td>\n",
       "      <td>30.798394</td>\n",
       "    </tr>\n",
       "    <tr>\n",
       "      <th>19</th>\n",
       "      <td>VOLTAS</td>\n",
       "      <td>19.103016</td>\n",
       "      <td>30.803360</td>\n",
       "    </tr>\n",
       "    <tr>\n",
       "      <th>20</th>\n",
       "      <td>ASHOKA</td>\n",
       "      <td>-20.850852</td>\n",
       "      <td>44.252495</td>\n",
       "    </tr>\n",
       "    <tr>\n",
       "      <th>21</th>\n",
       "      <td>FORTIS</td>\n",
       "      <td>-13.729709</td>\n",
       "      <td>42.105540</td>\n",
       "    </tr>\n",
       "    <tr>\n",
       "      <th>22</th>\n",
       "      <td>LAXMIMACH</td>\n",
       "      <td>11.888306</td>\n",
       "      <td>26.705666</td>\n",
       "    </tr>\n",
       "    <tr>\n",
       "      <th>23</th>\n",
       "      <td>JETAIRWAYS</td>\n",
       "      <td>-48.101880</td>\n",
       "      <td>62.421964</td>\n",
       "    </tr>\n",
       "    <tr>\n",
       "      <th>24</th>\n",
       "      <td>SUZLON</td>\n",
       "      <td>-46.815166</td>\n",
       "      <td>59.295393</td>\n",
       "    </tr>\n",
       "    <tr>\n",
       "      <th>25</th>\n",
       "      <td>RCOM</td>\n",
       "      <td>-88.172863</td>\n",
       "      <td>98.436627</td>\n",
       "    </tr>\n",
       "    <tr>\n",
       "      <th>26</th>\n",
       "      <td>PVR</td>\n",
       "      <td>10.853008</td>\n",
       "      <td>30.987602</td>\n",
       "    </tr>\n",
       "    <tr>\n",
       "      <th>27</th>\n",
       "      <td>LUXIND</td>\n",
       "      <td>25.516083</td>\n",
       "      <td>33.506880</td>\n",
       "    </tr>\n",
       "    <tr>\n",
       "      <th>28</th>\n",
       "      <td>VIPIND</td>\n",
       "      <td>47.966397</td>\n",
       "      <td>43.163067</td>\n",
       "    </tr>\n",
       "    <tr>\n",
       "      <th>29</th>\n",
       "      <td>JKLAKSHMI</td>\n",
       "      <td>-16.886510</td>\n",
       "      <td>27.938430</td>\n",
       "    </tr>\n",
       "  </tbody>\n",
       "</table>\n",
       "</div>"
      ],
      "text/plain": [
       "     Companies  Annual % returns  Annual % volatility\n",
       "0   ADANIPORTS          7.120047            30.906499\n",
       "1   ASIANPAINT         10.124850            20.919339\n",
       "2         BPCL        -25.036432            43.573269\n",
       "3         GAIL         -5.255090            33.808128\n",
       "4          ITC          6.401437            22.363628\n",
       "5          IOC        -39.638575            49.900680\n",
       "6     INFRATEL        -12.418651            30.571247\n",
       "7     HINDALCO          4.933316            33.522895\n",
       "8       MARUTI          1.019504            22.502943\n",
       "9          TCS          8.046956            43.094940\n",
       "10  AJANTPHARM        -17.389139            33.183425\n",
       "11  APOLLOTYRE         -6.430261            31.012956\n",
       "12  BERGEPAINT         10.893463            26.739623\n",
       "13  CASTROLIND        -43.455745            44.601281\n",
       "14        NBCC        -51.517601            50.815626\n",
       "15        MRPL        -32.295703            36.552657\n",
       "16    JUBLFOOD         26.751441            50.049532\n",
       "17   GODREJIND         -9.025007            26.637940\n",
       "18   TATAPOWER         -9.094974            30.798394\n",
       "19      VOLTAS         19.103016            30.803360\n",
       "20      ASHOKA        -20.850852            44.252495\n",
       "21      FORTIS        -13.729709            42.105540\n",
       "22   LAXMIMACH         11.888306            26.705666\n",
       "23  JETAIRWAYS        -48.101880            62.421964\n",
       "24      SUZLON        -46.815166            59.295393\n",
       "25        RCOM        -88.172863            98.436627\n",
       "26         PVR         10.853008            30.987602\n",
       "27      LUXIND         25.516083            33.506880\n",
       "28      VIPIND         47.966397            43.163067\n",
       "29   JKLAKSHMI        -16.886510            27.938430"
      ]
     },
     "execution_count": 19,
     "metadata": {},
     "output_type": "execute_result"
    }
   ],
   "source": [
    "df_return"
   ]
  },
  {
   "cell_type": "code",
   "execution_count": 20,
   "metadata": {},
   "outputs": [],
   "source": [
    "sns.set_style('darkgrid')\n",
    "plt.rcParams['figure.figsize'] = 16,7"
   ]
  },
  {
   "cell_type": "code",
   "execution_count": 21,
   "metadata": {},
   "outputs": [
    {
     "data": {
      "image/png": "[encoded data removed]",
      "text/plain": [
       "<Figure size 1152x504 with 1 Axes>"
      ]
     },
     "metadata": {},
     "output_type": "display_data"
    }
   ],
   "source": [
    "ax = sns.barplot(x ='Annual % volatility', y='Companies', data =df_return)"
   ]
  },
  {
   "cell_type": "markdown",
   "metadata": {},
   "source": [
    "## 6.3 Cluster the 30 stocks according to their mean annual Volatilities and Returns using K-means clustering. Identify the optimum number of clusters using the Elbow curve method "
   ]
  },
  {
   "cell_type": "code",
   "execution_count": 22,
   "metadata": {},
   "outputs": [],
   "source": [
    "from sklearn.cluster import KMeans"
   ]
  },
  {
   "cell_type": "code",
   "execution_count": 23,
   "metadata": {},
   "outputs": [
    {
     "data": {
      "text/plain": [
       "<matplotlib.axes._subplots.AxesSubplot at 0x7f97986f1550>"
      ]
     },
     "execution_count": 23,
     "metadata": {},
     "output_type": "execute_result"
    },
    {
     "data": {
      "image/png": "[encoded data removed]",
      "text/plain": [
       "<Figure size 1152x504 with 1 Axes>"
      ]
     },
     "metadata": {},
     "output_type": "display_data"
    }
   ],
   "source": [
    "sns.scatterplot(x='Annual % returns', y='Annual % volatility', data =df_return)"
   ]
  },
  {
   "cell_type": "code",
   "execution_count": 24,
   "metadata": {},
   "outputs": [],
   "source": [
    "kmeans = KMeans(n_clusters =4)"
   ]
  },
  {
   "cell_type": "code",
   "execution_count": 25,
   "metadata": {},
   "outputs": [
    {
     "data": {
      "text/html": [
       "<div>\n",
       "<style scoped>\n",
       "    .dataframe tbody tr th:only-of-type {\n",
       "        vertical-align: middle;\n",
       "    }\n",
       "\n",
       "    .dataframe tbody tr th {\n",
       "        vertical-align: top;\n",
       "    }\n",
       "\n",
       "    .dataframe thead th {\n",
       "        text-align: right;\n",
       "    }\n",
       "</style>\n",
       "<table border=\"1\" class=\"dataframe\">\n",
       "  <thead>\n",
       "    <tr style=\"text-align: right;\">\n",
       "      <th></th>\n",
       "      <th>Companies</th>\n",
       "      <th>Annual % returns</th>\n",
       "      <th>Annual % volatility</th>\n",
       "      <th>Cluster</th>\n",
       "    </tr>\n",
       "  </thead>\n",
       "  <tbody>\n",
       "    <tr>\n",
       "      <th>0</th>\n",
       "      <td>ADANIPORTS</td>\n",
       "      <td>7.120047</td>\n",
       "      <td>30.906499</td>\n",
       "      <td>1</td>\n",
       "    </tr>\n",
       "    <tr>\n",
       "      <th>1</th>\n",
       "      <td>ASIANPAINT</td>\n",
       "      <td>10.124850</td>\n",
       "      <td>20.919339</td>\n",
       "      <td>1</td>\n",
       "    </tr>\n",
       "    <tr>\n",
       "      <th>2</th>\n",
       "      <td>BPCL</td>\n",
       "      <td>-25.036432</td>\n",
       "      <td>43.573269</td>\n",
       "      <td>0</td>\n",
       "    </tr>\n",
       "    <tr>\n",
       "      <th>3</th>\n",
       "      <td>GAIL</td>\n",
       "      <td>-5.255090</td>\n",
       "      <td>33.808128</td>\n",
       "      <td>0</td>\n",
       "    </tr>\n",
       "    <tr>\n",
       "      <th>4</th>\n",
       "      <td>ITC</td>\n",
       "      <td>6.401437</td>\n",
       "      <td>22.363628</td>\n",
       "      <td>1</td>\n",
       "    </tr>\n",
       "  </tbody>\n",
       "</table>\n",
       "</div>"
      ],
      "text/plain": [
       "    Companies  Annual % returns  Annual % volatility  Cluster\n",
       "0  ADANIPORTS          7.120047            30.906499        1\n",
       "1  ASIANPAINT         10.124850            20.919339        1\n",
       "2        BPCL        -25.036432            43.573269        0\n",
       "3        GAIL         -5.255090            33.808128        0\n",
       "4         ITC          6.401437            22.363628        1"
      ]
     },
     "execution_count": 25,
     "metadata": {},
     "output_type": "execute_result"
    }
   ],
   "source": [
    "df_return['Cluster'] = kmeans.fit_predict(df_return[['Annual % returns', 'Annual % volatility']])\n",
    "df_return.head()"
   ]
  },
  {
   "cell_type": "code",
   "execution_count": 26,
   "metadata": {},
   "outputs": [],
   "source": [
    "centroids = kmeans.cluster_centers_"
   ]
  },
  {
   "cell_type": "code",
   "execution_count": 27,
   "metadata": {},
   "outputs": [
    {
     "data": {
      "text/plain": [
       "array([[-15.31021174,  34.58495285],\n",
       "       [ 14.66290961,  31.94353659],\n",
       "       [-88.17286291,  98.43662692],\n",
       "       [-45.90579356,  53.40698895]])"
      ]
     },
     "execution_count": 27,
     "metadata": {},
     "output_type": "execute_result"
    }
   ],
   "source": [
    "centroids"
   ]
  },
  {
   "cell_type": "code",
   "execution_count": 28,
   "metadata": {
    "scrolled": true
   },
   "outputs": [
    {
     "name": "stdout",
     "output_type": "stream",
     "text": [
      "-15.31021174234842 34.58495285284322\n",
      "14.662909606520428 31.94353658882052\n",
      "-88.17286291308469 98.43662692353006\n",
      "-45.90579355661715 53.40698894570714\n"
     ]
    }
   ],
   "source": [
    "for i in range(len(centroids)):\n",
    "    print(centroids[i][0], centroids[i][1])"
   ]
  },
  {
   "cell_type": "code",
   "execution_count": 29,
   "metadata": {
    "scrolled": false
   },
   "outputs": [
    {
     "data": {
      "text/plain": [
       "<matplotlib.collections.PathCollection at 0x7f9794a95a50>"
      ]
     },
     "execution_count": 29,
     "metadata": {},
     "output_type": "execute_result"
    },
    {
     "data": {
      "image/png": "[encoded data removed]",
      "text/plain": [
       "<Figure size 1152x504 with 1 Axes>"
      ]
     },
     "metadata": {},
     "output_type": "display_data"
    }
   ],
   "source": [
    "plt.scatter(x ='Annual % returns', y= 'Annual % volatility', data = df_return)\n",
    "\n",
    "plt.scatter(centroids[:,0], centroids[:,1], s=100)"
   ]
  },
  {
   "cell_type": "markdown",
   "metadata": {},
   "source": [
    "More visualization of data points and cluster"
   ]
  },
  {
   "cell_type": "code",
   "execution_count": 30,
   "metadata": {},
   "outputs": [],
   "source": [
    "cl1 = df_return[df_return.Cluster == 0]\n",
    "cl2 = df_return[df_return.Cluster == 1]\n",
    "cl3 = df_return[df_return.Cluster == 2]\n",
    "cl4 = df_return[df_return.Cluster == 3]"
   ]
  },
  {
   "cell_type": "code",
   "execution_count": 31,
   "metadata": {
    "scrolled": false
   },
   "outputs": [
    {
     "data": {
      "text/plain": [
       "<matplotlib.legend.Legend at 0x7f9794a37290>"
      ]
     },
     "execution_count": 31,
     "metadata": {},
     "output_type": "execute_result"
    },
    {
     "data": {
      "image/png": "[encoded data removed]",
      "text/plain": [
       "<Figure size 1152x504 with 1 Axes>"
      ]
     },
     "metadata": {},
     "output_type": "display_data"
    }
   ],
   "source": [
    "plt.scatter(cl1['Annual % returns'], cl1['Annual % volatility'], label ='Cluster 0', s =50, color ='black')\n",
    "plt.scatter(cl2['Annual % returns'], cl2['Annual % volatility'], label ='Cluster 1', s =50, color ='green')\n",
    "plt.scatter(cl3['Annual % returns'], cl3['Annual % volatility'], label ='Cluster 2', s =50, color ='orange')\n",
    "plt.scatter(cl4['Annual % returns'], cl4['Annual % volatility'], s =50, color ='#e6e600', label ='Cluster 3')\n",
    "\n",
    "plt.scatter(centroids[:,0], centroids[:,1], s=150, marker ='*', color ='red')\n",
    "\n",
    "for i,txt in enumerate(stock_names):\n",
    "    plt.annotate(txt[:3], (returns[i], volatility[i]))\n",
    "plt.xlabel('Annual % Return')\n",
    "plt.ylabel('Annual % Volatility')\n",
    "plt.legend()"
   ]
  },
  {
   "cell_type": "markdown",
   "metadata": {},
   "source": [
    "### Optimization in KMeans using Elbow Method-"
   ]
  },
  {
   "cell_type": "code",
   "execution_count": 32,
   "metadata": {
    "scrolled": true
   },
   "outputs": [],
   "source": [
    "squ_err =[]\n",
    "K =range(1,10)\n",
    "for k in K:\n",
    "    kmean_model = KMeans(n_clusters = k)\n",
    "    kmean_model.fit(df_return[['Annual % returns', 'Annual % volatility']])\n",
    "    squ_err.append(kmean_model.inertia_)"
   ]
  },
  {
   "cell_type": "code",
   "execution_count": 33,
   "metadata": {},
   "outputs": [
    {
     "data": {
      "text/plain": [
       "Text(0, 0.5, 'Sum of squared errors')"
      ]
     },
     "execution_count": 33,
     "metadata": {},
     "output_type": "execute_result"
    },
    {
     "data": {
      "image/png": "[encoded data removed]",
      "text/plain": [
       "<Figure size 1152x504 with 1 Axes>"
      ]
     },
     "metadata": {},
     "output_type": "display_data"
    }
   ],
   "source": [
    "sns.lineplot(x =range(1,10), y =squ_err,)\n",
    "plt.xlabel('K')\n",
    "plt.ylabel('Sum of squared errors')"
   ]
  },
  {
   "cell_type": "markdown",
   "metadata": {},
   "source": [
    "From that plot, we have elbow =4, which is already we have chosen."
   ]
  },
  {
   "cell_type": "markdown",
   "metadata": {},
   "source": [
    "## 6.4 Prepare a separate Data frame to show which stocks belong to the same cluster"
   ]
  },
  {
   "cell_type": "code",
   "execution_count": 34,
   "metadata": {},
   "outputs": [
    {
     "data": {
      "text/html": [
       "<div>\n",
       "<style scoped>\n",
       "    .dataframe tbody tr th:only-of-type {\n",
       "        vertical-align: middle;\n",
       "    }\n",
       "\n",
       "    .dataframe tbody tr th {\n",
       "        vertical-align: top;\n",
       "    }\n",
       "\n",
       "    .dataframe thead th {\n",
       "        text-align: right;\n",
       "    }\n",
       "</style>\n",
       "<table border=\"1\" class=\"dataframe\">\n",
       "  <thead>\n",
       "    <tr style=\"text-align: right;\">\n",
       "      <th></th>\n",
       "      <th>Companies</th>\n",
       "      <th>Annual % returns</th>\n",
       "      <th>Annual % volatility</th>\n",
       "      <th>Cluster</th>\n",
       "    </tr>\n",
       "  </thead>\n",
       "  <tbody>\n",
       "    <tr>\n",
       "      <th>0</th>\n",
       "      <td>ADANIPORTS</td>\n",
       "      <td>7.120047</td>\n",
       "      <td>30.906499</td>\n",
       "      <td>1</td>\n",
       "    </tr>\n",
       "    <tr>\n",
       "      <th>1</th>\n",
       "      <td>ASIANPAINT</td>\n",
       "      <td>10.124850</td>\n",
       "      <td>20.919339</td>\n",
       "      <td>1</td>\n",
       "    </tr>\n",
       "    <tr>\n",
       "      <th>2</th>\n",
       "      <td>BPCL</td>\n",
       "      <td>-25.036432</td>\n",
       "      <td>43.573269</td>\n",
       "      <td>0</td>\n",
       "    </tr>\n",
       "    <tr>\n",
       "      <th>3</th>\n",
       "      <td>GAIL</td>\n",
       "      <td>-5.255090</td>\n",
       "      <td>33.808128</td>\n",
       "      <td>0</td>\n",
       "    </tr>\n",
       "    <tr>\n",
       "      <th>4</th>\n",
       "      <td>ITC</td>\n",
       "      <td>6.401437</td>\n",
       "      <td>22.363628</td>\n",
       "      <td>1</td>\n",
       "    </tr>\n",
       "    <tr>\n",
       "      <th>5</th>\n",
       "      <td>IOC</td>\n",
       "      <td>-39.638575</td>\n",
       "      <td>49.900680</td>\n",
       "      <td>3</td>\n",
       "    </tr>\n",
       "    <tr>\n",
       "      <th>6</th>\n",
       "      <td>INFRATEL</td>\n",
       "      <td>-12.418651</td>\n",
       "      <td>30.571247</td>\n",
       "      <td>0</td>\n",
       "    </tr>\n",
       "    <tr>\n",
       "      <th>7</th>\n",
       "      <td>HINDALCO</td>\n",
       "      <td>4.933316</td>\n",
       "      <td>33.522895</td>\n",
       "      <td>1</td>\n",
       "    </tr>\n",
       "    <tr>\n",
       "      <th>8</th>\n",
       "      <td>MARUTI</td>\n",
       "      <td>1.019504</td>\n",
       "      <td>22.502943</td>\n",
       "      <td>1</td>\n",
       "    </tr>\n",
       "    <tr>\n",
       "      <th>9</th>\n",
       "      <td>TCS</td>\n",
       "      <td>8.046956</td>\n",
       "      <td>43.094940</td>\n",
       "      <td>1</td>\n",
       "    </tr>\n",
       "  </tbody>\n",
       "</table>\n",
       "</div>"
      ],
      "text/plain": [
       "    Companies  Annual % returns  Annual % volatility  Cluster\n",
       "0  ADANIPORTS          7.120047            30.906499        1\n",
       "1  ASIANPAINT         10.124850            20.919339        1\n",
       "2        BPCL        -25.036432            43.573269        0\n",
       "3        GAIL         -5.255090            33.808128        0\n",
       "4         ITC          6.401437            22.363628        1\n",
       "5         IOC        -39.638575            49.900680        3\n",
       "6    INFRATEL        -12.418651            30.571247        0\n",
       "7    HINDALCO          4.933316            33.522895        1\n",
       "8      MARUTI          1.019504            22.502943        1\n",
       "9         TCS          8.046956            43.094940        1"
      ]
     },
     "execution_count": 34,
     "metadata": {},
     "output_type": "execute_result"
    }
   ],
   "source": [
    "clustered_stocks = df_return\n",
    "clustered_stocks[:10]"
   ]
  },
  {
   "cell_type": "code",
   "execution_count": 35,
   "metadata": {},
   "outputs": [],
   "source": [
    "clustered_stocks.to_csv('Clustered_Stocks')"
   ]
  }
 ],
 "metadata": {
  "kernelspec": {
   "display_name": "Python 3",
   "language": "python",
   "name": "python3"
  },
  "language_info": {
   "codemirror_mode": {
    "name": "ipython",
    "version": 3
   },
   "file_extension": ".py",
   "mimetype": "text/x-python",
   "name": "python",
   "nbconvert_exporter": "python",
   "pygments_lexer": "ipython3",
   "version": "3.7.6"
  }
 },
 "nbformat": 4,
 "nbformat_minor": 4
}
